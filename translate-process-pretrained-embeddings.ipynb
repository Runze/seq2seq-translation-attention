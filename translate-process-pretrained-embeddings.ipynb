{
 "cells": [
  {
   "cell_type": "code",
   "execution_count": 1,
   "metadata": {
    "collapsed": true
   },
   "outputs": [],
   "source": [
    "import io\n",
    "import numpy as np\n",
    "import pickle"
   ]
  },
  {
   "cell_type": "code",
   "execution_count": 2,
   "metadata": {
    "collapsed": true
   },
   "outputs": [],
   "source": [
    "data_path = '../data'"
   ]
  },
  {
   "cell_type": "code",
   "execution_count": 3,
   "metadata": {
    "collapsed": true
   },
   "outputs": [],
   "source": [
    "# Process fasttext embeddings\n",
    "# https://fasttext.cc/docs/en/english-vectors.html\n",
    "def load_vectors(fname):\n",
    "    fin = io.open(fname, 'r', encoding='utf-8', newline='\\n', errors='ignore')\n",
    "    n, d = map(int, fin.readline().split())\n",
    "    data = {}\n",
    "    for line in fin:\n",
    "        tokens = line.rstrip().split(' ')\n",
    "        data[tokens[0]] = map(float, tokens[1:])\n",
    "    return data"
   ]
  },
  {
   "cell_type": "code",
   "execution_count": 4,
   "metadata": {
    "collapsed": false
   },
   "outputs": [
    {
     "data": {
      "text/plain": [
       "999994"
      ]
     },
     "execution_count": 4,
     "metadata": {},
     "output_type": "execute_result"
    }
   ],
   "source": [
    "# English\n",
    "ft_embed_en = load_vectors(os.path.join(data_path, 'wiki-news-300d-1M-subword.vec'))\n",
    "len(ft_embed_en)"
   ]
  },
  {
   "cell_type": "code",
   "execution_count": 5,
   "metadata": {
    "collapsed": false
   },
   "outputs": [
    {
     "data": {
      "text/plain": [
       "2000000"
      ]
     },
     "execution_count": 5,
     "metadata": {},
     "output_type": "execute_result"
    }
   ],
   "source": [
    "# French\n",
    "ft_embed_fr = load_vectors(os.path.join(data_path, 'cc.fr.300.vec'))\n",
    "len(ft_embed_fr)"
   ]
  },
  {
   "cell_type": "code",
   "execution_count": 17,
   "metadata": {
    "collapsed": false
   },
   "outputs": [
    {
     "data": {
      "text/plain": [
       "(12633, 21655)"
      ]
     },
     "execution_count": 17,
     "metadata": {},
     "output_type": "execute_result"
    }
   ],
   "source": [
    "# Load the vocabulary list from the training data\n",
    "data = pickle.load(open(os.path.join(data_path, 'translate-data.pkl'), 'rb'))\n",
    "X_itos, y_itos = data['X_itos'], data['y_itos']\n",
    "len(X_itos), len(y_itos)"
   ]
  },
  {
   "cell_type": "code",
   "execution_count": 10,
   "metadata": {
    "collapsed": true
   },
   "outputs": [],
   "source": [
    "# Map words to pre-trained embeddings\n",
    "def map_word_to_pretrained_embedding(embed_index, embed_size, toks_itos):\n",
    "    vocab_size = len(toks_itos)\n",
    "    embed_matrix = np.zeros((vocab_size, embed_size))\n",
    "    \n",
    "    # Keep a running count of unmatched words\n",
    "    not_found = []\n",
    "    \n",
    "    for i, word in enumerate(toks_itos):\n",
    "        if word in embed_index:\n",
    "            embed_vec = embed_index[word]\n",
    "            embed_matrix[i] = embed_vec\n",
    "        else:\n",
    "            not_found.append(word)\n",
    "\n",
    "    return embed_matrix, not_found"
   ]
  },
  {
   "cell_type": "code",
   "execution_count": 18,
   "metadata": {
    "collapsed": false
   },
   "outputs": [
    {
     "data": {
      "text/plain": [
       "((12633, 300), 0.011557033167102035)"
      ]
     },
     "execution_count": 18,
     "metadata": {},
     "output_type": "execute_result"
    }
   ],
   "source": [
    "# English\n",
    "X_ft_embed, X_not_found = map_word_to_pretrained_embedding(ft_embed_en, 300, X_itos)\n",
    "X_ft_embed.shape, 1.0 * len(X_not_found) / len(X_itos)"
   ]
  },
  {
   "cell_type": "code",
   "execution_count": 19,
   "metadata": {
    "collapsed": false
   },
   "outputs": [
    {
     "data": {
      "text/plain": [
       "((21655, 300), 0.02202724543985223)"
      ]
     },
     "execution_count": 19,
     "metadata": {},
     "output_type": "execute_result"
    }
   ],
   "source": [
    "# French\n",
    "y_ft_embed, y_not_found = map_word_to_pretrained_embedding(ft_embed_fr, 300, y_itos)\n",
    "y_ft_embed.shape, 1.0 * len(y_not_found) / len(y_itos)"
   ]
  },
  {
   "cell_type": "code",
   "execution_count": 22,
   "metadata": {
    "collapsed": false
   },
   "outputs": [],
   "source": [
    "# Save\n",
    "pickle.dump(X_ft_embed, open(os.path.join(data_path, 'X_ft_embed.pkl'), 'wb'))\n",
    "pickle.dump(y_ft_embed, open(os.path.join(data_path, 'y_ft_embed.pkl'), 'wb'))"
   ]
  },
  {
   "cell_type": "code",
   "execution_count": null,
   "metadata": {
    "collapsed": true
   },
   "outputs": [],
   "source": []
  }
 ],
 "metadata": {
  "kernelspec": {
   "display_name": "Python 2 (General DS)",
   "language": "python",
   "name": "python2"
  },
  "language_info": {
   "codemirror_mode": {
    "name": "ipython",
    "version": 2
   },
   "file_extension": ".py",
   "mimetype": "text/x-python",
   "name": "python",
   "nbconvert_exporter": "python",
   "pygments_lexer": "ipython2",
   "version": "2.7.9"
  }
 },
 "nbformat": 4,
 "nbformat_minor": 2
}
