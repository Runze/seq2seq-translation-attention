{
 "cells": [
  {
   "cell_type": "code",
   "execution_count": 1,
   "metadata": {
    "collapsed": false
   },
   "outputs": [
    {
     "name": "stderr",
     "output_type": "stream",
     "text": [
      "Using TensorFlow backend.\n"
     ]
    }
   ],
   "source": [
    "import io\n",
    "import numpy as np\n",
    "import spacy\n",
    "from sklearn.model_selection import train_test_split\n",
    "from nltk.tokenize.treebank import TreebankWordDetokenizer as Detok\n",
    "\n",
    "import tensorflow as tf\n",
    "from keras.utils import to_categorical\n",
    "from keras import Input, layers\n",
    "from keras.activations import softmax\n",
    "from keras.models import Sequential, Model, load_model\n",
    "from keras.optimizers import Adam\n",
    "from keras.callbacks import ReduceLROnPlateau, EarlyStopping, ModelCheckpoint, Callback\n",
    "from keras import backend as K\n",
    "\n",
    "import multiprocessing\n",
    "from joblib import Parallel, delayed\n",
    "num_cores = multiprocessing.cpu_count()"
   ]
  },
  {
   "cell_type": "code",
   "execution_count": 2,
   "metadata": {
    "collapsed": true
   },
   "outputs": [],
   "source": [
    "%matplotlib inline\n",
    "%reload_ext autoreload\n",
    "%autoreload 2\n",
    "%config InlineBackend.figure_format = 'retina'"
   ]
  },
  {
   "cell_type": "code",
   "execution_count": 6,
   "metadata": {
    "collapsed": false
   },
   "outputs": [],
   "source": [
    "# Translation data\n",
    "# http://www.manythings.org/anki/\n",
    "with io.open(os.path.join(data_path, 'fra-eng/fra.txt'), encoding='utf-8') as f:\n",
    "    lines = f.read().split('\\n')\n",
    "\n",
    "pairs = [l.split('\\t') for l in lines if l != '']\n",
    "pairs = [[re.sub(u\"\\u202f|\\u2009\", \" \", s) for s in p] for p in pairs]"
   ]
  },
  {
   "cell_type": "code",
   "execution_count": 7,
   "metadata": {
    "collapsed": false
   },
   "outputs": [
    {
     "data": {
      "text/plain": [
       "(154883, 154883)"
      ]
     },
     "execution_count": 7,
     "metadata": {},
     "output_type": "execute_result"
    }
   ],
   "source": [
    "X, y = np.array(pairs)[:, 0], np.array(pairs)[:, 1]\n",
    "len(X), len(y)"
   ]
  },
  {
   "cell_type": "code",
   "execution_count": 8,
   "metadata": {
    "collapsed": false
   },
   "outputs": [
    {
     "data": {
      "text/plain": [
       "[(u'Go.', u'Va !'),\n",
       " (u'Run!', u'Cours !'),\n",
       " (u'Run!', u'Courez !'),\n",
       " (u'Fire!', u'Au feu !'),\n",
       " (u'Help!', u\"\\xc0 l'aide !\")]"
      ]
     },
     "execution_count": 8,
     "metadata": {},
     "output_type": "execute_result"
    }
   ],
   "source": [
    "zip(X, y)[:5]"
   ]
  },
  {
   "cell_type": "markdown",
   "metadata": {},
   "source": [
    "## Extract features"
   ]
  },
  {
   "cell_type": "code",
   "execution_count": 18,
   "metadata": {
    "collapsed": false
   },
   "outputs": [],
   "source": [
    "# Tokenize\n",
    "spacy_tokenizer = spacy.load('xx')"
   ]
  },
  {
   "cell_type": "code",
   "execution_count": 19,
   "metadata": {
    "collapsed": false
   },
   "outputs": [
    {
     "data": {
      "text/plain": [
       "(154883, 154883)"
      ]
     },
     "execution_count": 19,
     "metadata": {},
     "output_type": "execute_result"
    }
   ],
   "source": [
    "def tokenize(msg):\n",
    "    return [tok.text for tok in spacy_tokenizer.tokenizer(unicode(msg.lower()))]\n",
    "\n",
    "X = Parallel(n_jobs=num_cores)(delayed(tokenize)(msg) for msg in X)\n",
    "y = Parallel(n_jobs=num_cores)(delayed(tokenize)(msg) for msg in y)\n",
    "\n",
    "len(X), len(y)"
   ]
  },
  {
   "cell_type": "code",
   "execution_count": 20,
   "metadata": {
    "collapsed": false
   },
   "outputs": [
    {
     "data": {
      "text/plain": [
       "[([u'go', u'.'], [u'va', u'!']),\n",
       " ([u'run', u'!'], [u'cours', u'!']),\n",
       " ([u'run', u'!'], [u'courez', u'!']),\n",
       " ([u'fire', u'!'], [u'au', u'feu', u'!']),\n",
       " ([u'help', u'!'], [u'\\xe0', u\"l'aide\", u'!'])]"
      ]
     },
     "execution_count": 20,
     "metadata": {},
     "output_type": "execute_result"
    }
   ],
   "source": [
    "zip(X, y)[:5]"
   ]
  },
  {
   "cell_type": "code",
   "execution_count": 21,
   "metadata": {
    "collapsed": false
   },
   "outputs": [
    {
     "data": {
      "text/plain": [
       "154326"
      ]
     },
     "execution_count": 21,
     "metadata": {},
     "output_type": "execute_result"
    }
   ],
   "source": [
    "# For ease of training, only keep sentences shorter than 20 words\n",
    "X_len = [len(msg) for msg in X]\n",
    "y_len = [len(msg) for msg in y]\n",
    "\n",
    "min_len = 2\n",
    "max_len = 20\n",
    "\n",
    "X_to_keep_ix = np.where((np.array(X_len) >= min_len) & (np.array(X_len) <= max_len))[0]\n",
    "y_to_keep_ix = np.where((np.array(y_len) >= min_len) & (np.array(y_len) <= max_len))[0]\n",
    "\n",
    "to_keep_ix = np.intersect1d(X_to_keep_ix, y_to_keep_ix)\n",
    "len(to_keep_ix)"
   ]
  },
  {
   "cell_type": "code",
   "execution_count": 22,
   "metadata": {
    "collapsed": false
   },
   "outputs": [
    {
     "data": {
      "text/plain": [
       "(154326, 154326)"
      ]
     },
     "execution_count": 22,
     "metadata": {},
     "output_type": "execute_result"
    }
   ],
   "source": [
    "X = np.array(X)[to_keep_ix]\n",
    "y = np.array(y)[to_keep_ix]\n",
    "\n",
    "len(X), len(y)"
   ]
  },
  {
   "cell_type": "code",
   "execution_count": 23,
   "metadata": {
    "collapsed": false
   },
   "outputs": [
    {
     "data": {
      "text/plain": [
       "(123460, 30866, 123460, 30866)"
      ]
     },
     "execution_count": 23,
     "metadata": {},
     "output_type": "execute_result"
    }
   ],
   "source": [
    "# Split into training and validation sets\n",
    "X_trn, X_val, y_trn, y_val = train_test_split(X, y, test_size=.2, random_state=0)\n",
    "len(X_trn), len(X_val), len(y_trn), len(y_val)"
   ]
  },
  {
   "cell_type": "code",
   "execution_count": 24,
   "metadata": {
    "collapsed": false
   },
   "outputs": [
    {
     "data": {
      "text/plain": [
       "(929627, 982087)"
      ]
     },
     "execution_count": 24,
     "metadata": {},
     "output_type": "execute_result"
    }
   ],
   "source": [
    "# Create mappers (using training data)\n",
    "X_toks_trn = list(itertools.chain(*X_trn))\n",
    "y_toks_trn = list(itertools.chain(*y_trn))\n",
    "\n",
    "len(X_toks_trn), len(y_toks_trn)"
   ]
  },
  {
   "cell_type": "code",
   "execution_count": 25,
   "metadata": {
    "collapsed": true
   },
   "outputs": [],
   "source": [
    "UNK = '_unk_'\n",
    "PAD = '_pad_'\n",
    "\n",
    "def create_mapper(toks, max_vocab=100000, min_freq=5, UNK=UNK, PAD=PAD):\n",
    "    \"\"\"Create mappers between tokens and numerical indices.\n",
    "\n",
    "    Parameters\n",
    "    ----------\n",
    "    toks : A list containing all raw tokens (before deduping).\n",
    "\n",
    "    max_vocab : The maximum vocabulary size.\n",
    "\n",
    "    min_freq : The minimum frequency for a token to be included in the vocabulary.\n",
    "\n",
    "    UNK : Special token for unknown word (default to '_unk_').\n",
    "\n",
    "    PAD : Special token for paddings (default to '_pad_').\n",
    "\n",
    "    Returns\n",
    "    -------\n",
    "    stoi : A dictionary that maps tokens to indices.\n",
    "\n",
    "    itos : A list that maps indices to tokens.\n",
    "    \"\"\"\n",
    "    \n",
    "    toks_freq = Counter(toks)\n",
    "    \n",
    "    itos = [s for s, c in toks_freq.most_common(max_vocab) if c > min_freq]\n",
    "    \n",
    "    if PAD:\n",
    "        if UNK:\n",
    "            itos.insert(0, UNK)\n",
    "            itos.insert(0, PAD)  # Note the index for UNK is 1 and the index for PAD is 0\n",
    "\n",
    "            stoi = defaultdict(lambda: 1, {v: k for k, v in enumerate(itos)})\n",
    "        else:\n",
    "            itos.insert(0, PAD)  # Note the index for PAD is 0\n",
    "            stoi = {v: k for k, v in enumerate(itos)}\n",
    "    else:\n",
    "        if UNK:\n",
    "            itos.insert(0, UNK)  # Note the index for UNK is 0\n",
    "            stoi = defaultdict(lambda: 0, {v: k for k, v in enumerate(itos)})\n",
    "        else:\n",
    "            stoi = {v: k for k, v in enumerate(itos)}\n",
    "    \n",
    "    return stoi, itos"
   ]
  },
  {
   "cell_type": "code",
   "execution_count": 26,
   "metadata": {
    "collapsed": false
   },
   "outputs": [
    {
     "data": {
      "text/plain": [
       "(8488, 14519)"
      ]
     },
     "execution_count": 26,
     "metadata": {},
     "output_type": "execute_result"
    }
   ],
   "source": [
    "X_stoi, X_itos = create_mapper(X_toks_trn, min_freq=1)\n",
    "y_stoi, y_itos = create_mapper(y_toks_trn, min_freq=1)\n",
    "\n",
    "len(X_itos), len(y_itos)"
   ]
  },
  {
   "cell_type": "code",
   "execution_count": 27,
   "metadata": {
    "collapsed": false
   },
   "outputs": [
    {
     "data": {
      "text/plain": [
       "['_pad_', '_unk_', u'.', u'i', u'you', u'to', u'the', u'?', u'a', u\"n't\"]"
      ]
     },
     "execution_count": 27,
     "metadata": {},
     "output_type": "execute_result"
    }
   ],
   "source": [
    "X_itos[:10]"
   ]
  },
  {
   "cell_type": "code",
   "execution_count": 28,
   "metadata": {
    "collapsed": false
   },
   "outputs": [
    {
     "data": {
      "text/plain": [
       "['_pad_', '_unk_', u'.', u'je', u'de', u'-', u'?', u'pas', u'vous', u'que']"
      ]
     },
     "execution_count": 28,
     "metadata": {},
     "output_type": "execute_result"
    }
   ],
   "source": [
    "y_itos[:10]"
   ]
  },
  {
   "cell_type": "code",
   "execution_count": 29,
   "metadata": {
    "collapsed": true
   },
   "outputs": [],
   "source": [
    "# Add GO\n",
    "GO = '_go_'\n",
    "\n",
    "X_stoi[GO] = len(X_stoi)\n",
    "X_itos.append(GO)\n",
    "\n",
    "y_stoi[GO] = len(y_stoi)\n",
    "y_itos.append(GO)"
   ]
  },
  {
   "cell_type": "code",
   "execution_count": 30,
   "metadata": {
    "collapsed": true
   },
   "outputs": [],
   "source": [
    "# Encode text features\n",
    "def encode_msg(toks, stoi, max_len, padding_pos='post', truncating='pre', padding_token=PAD):\n",
    "    # Index\n",
    "    toks_id = [[stoi[tok] for tok in msg] for msg in toks]\n",
    "    \n",
    "    # Pad\n",
    "    toks_id_pad = pad_sequences(toks_id, max_len, padding=padding_pos, truncating=truncating, value=stoi[padding_token])\n",
    "    \n",
    "    return toks_id_pad"
   ]
  },
  {
   "cell_type": "code",
   "execution_count": 31,
   "metadata": {
    "collapsed": false
   },
   "outputs": [
    {
     "data": {
      "text/plain": [
       "((123460, 20), (123460, 20), (30866, 20), (30866, 20))"
      ]
     },
     "execution_count": 31,
     "metadata": {},
     "output_type": "execute_result"
    }
   ],
   "source": [
    "X_ix_trn = encode_msg(X_trn, X_stoi, max_len)\n",
    "y_ix_trn = encode_msg(y_trn, y_stoi, max_len)\n",
    "X_ix_val = encode_msg(X_val, X_stoi, max_len)\n",
    "y_ix_val = encode_msg(y_val, y_stoi, max_len)\n",
    "\n",
    "X_ix_trn.shape, y_ix_trn.shape, X_ix_val.shape, y_ix_val.shape"
   ]
  },
  {
   "cell_type": "code",
   "execution_count": 32,
   "metadata": {
    "collapsed": false
   },
   "outputs": [
    {
     "data": {
      "text/plain": [
       "(array([u'here', u'is', u'a', u'brief', u'description', u'.', u'_pad_',\n",
       "        u'_pad_', u'_pad_', u'_pad_', u'_pad_', u'_pad_', u'_pad_',\n",
       "        u'_pad_', u'_pad_', u'_pad_', u'_pad_', u'_pad_', u'_pad_',\n",
       "        u'_pad_'], dtype='<U17'),\n",
       " array([u'voici', u'une', u'br\\xe8ve', u'description', u'.', u'_pad_',\n",
       "        u'_pad_', u'_pad_', u'_pad_', u'_pad_', u'_pad_', u'_pad_',\n",
       "        u'_pad_', u'_pad_', u'_pad_', u'_pad_', u'_pad_', u'_pad_',\n",
       "        u'_pad_', u'_pad_'], dtype='<U19'))"
      ]
     },
     "execution_count": 32,
     "metadata": {},
     "output_type": "execute_result"
    }
   ],
   "source": [
    "# Sanity check\n",
    "np.array(X_itos)[X_ix_trn[0]], np.array(y_itos)[y_ix_trn[0]]"
   ]
  },
  {
   "cell_type": "code",
   "execution_count": 33,
   "metadata": {
    "collapsed": false
   },
   "outputs": [
    {
     "data": {
      "text/plain": [
       "(array([u'tom', u'said', u'my', u'plan', u'would', u\"n't\", u'work', u'.',\n",
       "        u'_pad_', u'_pad_', u'_pad_', u'_pad_', u'_pad_', u'_pad_',\n",
       "        u'_pad_', u'_pad_', u'_pad_', u'_pad_', u'_pad_', u'_pad_'],\n",
       "       dtype='<U17'),\n",
       " array([u'tom', u'a', u'dit', u'que', u'mon', u'plan', u'ne',\n",
       "        u'fonctionnera', u'pas', u'.', u'_pad_', u'_pad_', u'_pad_',\n",
       "        u'_pad_', u'_pad_', u'_pad_', u'_pad_', u'_pad_', u'_pad_',\n",
       "        u'_pad_'], dtype='<U19'))"
      ]
     },
     "execution_count": 33,
     "metadata": {},
     "output_type": "execute_result"
    }
   ],
   "source": [
    "np.array(X_itos)[X_ix_val[0]], np.array(y_itos)[y_ix_val[0]]"
   ]
  },
  {
   "cell_type": "markdown",
   "metadata": {},
   "source": [
    "## Create models"
   ]
  },
  {
   "cell_type": "markdown",
   "metadata": {},
   "source": [
    "### Attention layer"
   ]
  },
  {
   "cell_type": "code",
   "execution_count": 34,
   "metadata": {
    "collapsed": true
   },
   "outputs": [],
   "source": [
    "# Define hidden size\n",
    "hidden_size_enc = 128\n",
    "hidden_size_dec = 128\n",
    "\n",
    "# Define shared layers\n",
    "repeator_attn = layers.RepeatVector(max_len)\n",
    "concatenator_attn = layers.Concatenate(axis=-1)\n",
    "densor_attn = layers.Dense(1, activation='tanh')\n",
    "\n",
    "def softmax_axis_1(x):\n",
    "    return softmax(x, axis=1)\n",
    "activator_attn = layers.Activation(softmax_axis_1, name='attention_weights')\n",
    "\n",
    "dotor_attn = layers.Dot(axes=1, name='context')"
   ]
  },
  {
   "cell_type": "code",
   "execution_count": 35,
   "metadata": {
    "collapsed": true
   },
   "outputs": [],
   "source": [
    "# Define attention layer\n",
    "def one_step_attn(a, s_prev):\n",
    "    \"\"\"\n",
    "    One-step attention layer\n",
    "    \n",
    "    Parameters\n",
    "    ----------    \n",
    "    a : All of the encoder hidden outputs, one at each timestep (None, timesteps, hidden_size_enc)\n",
    "    \n",
    "    s_prev : The decoder hidden output from the previous decoding timestamp (None, hidden_size_dec)\n",
    "    \n",
    "    Returns\n",
    "    -------\n",
    "    context : Context vector (None, 1, hidden_size_dec)\n",
    "    \"\"\"\n",
    "    \n",
    "    # Repeat `s_prev` to the same length of `a`\n",
    "    s_prev_rep = repeator_attn(s_prev)  # (None, timesteps, hidden_size_dec)\n",
    "    \n",
    "    # Concatenate with `a` (in the last axis)\n",
    "    concat = concatenator_attn([a, s_prev_rep])  # (None, timesteps, hidden_size_enc + hidden_size_dec)\n",
    "    \n",
    "    # Feed into a dense layer to compute weights\n",
    "    weights = densor_attn(concat)  # (None, timesteps, 1)\n",
    "    \n",
    "    # Normalize all the weights using a softmax (the normalization is applied in the timestep's axis)\n",
    "    weights_norm = activator_attn(weights)  # (None, timesteps, 1)\n",
    "    \n",
    "    # Use the normalized weights to compute the weighted-average encoder outputs (i.e., the context)\n",
    "    context = dotor_attn([weights_norm, a])  # (None, 1, hidden_size_dec)\n",
    "    \n",
    "    return context"
   ]
  },
  {
   "cell_type": "markdown",
   "metadata": {},
   "source": [
    "### Encoder"
   ]
  },
  {
   "cell_type": "code",
   "execution_count": 37,
   "metadata": {
    "collapsed": true
   },
   "outputs": [],
   "source": [
    "# Shared layers\n",
    "txt_embed_size = 256\n",
    "\n",
    "X_embed_layer = layers.Embedding(input_dim=len(X_itos), output_dim=txt_embed_size)\n",
    "lstm_pre_attn = layers.LSTM(hidden_size_enc, return_sequences=True, return_state=True)"
   ]
  },
  {
   "cell_type": "code",
   "execution_count": 38,
   "metadata": {
    "collapsed": true
   },
   "outputs": [],
   "source": [
    "# Input tensor\n",
    "X = Input(shape=(max_len, ), name='X')"
   ]
  },
  {
   "cell_type": "code",
   "execution_count": 39,
   "metadata": {
    "collapsed": true
   },
   "outputs": [],
   "source": [
    "# Encode\n",
    "def encode(X, X_embed_layer, lstm_pre_attn):\n",
    "    X_emb = X_embed_layer(X)\n",
    "    a_enc, s_enc, c_enc = lstm_pre_attn(X_emb)  # s and c becomes later the initial state of the decoder\n",
    "    return a_enc, s_enc, c_enc"
   ]
  },
  {
   "cell_type": "markdown",
   "metadata": {},
   "source": [
    "### Decoder"
   ]
  },
  {
   "cell_type": "code",
   "execution_count": 40,
   "metadata": {
    "collapsed": false
   },
   "outputs": [],
   "source": [
    "# Shared layers\n",
    "y_embed_layer = layers.Embedding(input_dim=len(y_itos), output_dim=txt_embed_size)\n",
    "concatenator_post_attn = layers.Concatenate(axis=-1)\n",
    "lstm_post_attn = layers.LSTM(hidden_size_dec, return_state=True)\n",
    "densor_post_attn = layers.Dense(len(y_itos), activation='softmax')"
   ]
  },
  {
   "cell_type": "code",
   "execution_count": 41,
   "metadata": {
    "collapsed": true
   },
   "outputs": [],
   "source": [
    "# Decode only one timestep\n",
    "def one_step_decode(a_enc, s_dec_prev, c_dec_prev, d_in):\n",
    "    # Compute context vector using the attention layer\n",
    "    context = one_step_attn(a_enc, s_dec_prev)\n",
    "\n",
    "    # Concatenate with decoder input (one timestep only)\n",
    "    context_w_input = concatenator_post_attn([context, y_embed_layer(d_in)])\n",
    "\n",
    "    # Feed the context vector into the post-attention LSTM\n",
    "    _, s_dec, c_dec = lstm_post_attn(context_w_input, initial_state=[s_dec_prev, c_dec_prev])  # The first value (the output) and the second value (the hidden state) are the same\n",
    "\n",
    "    # Feed into a dense layer\n",
    "    d_out = densor_post_attn(s_dec)\n",
    "    \n",
    "    return s_dec, c_dec, d_out"
   ]
  },
  {
   "cell_type": "markdown",
   "metadata": {},
   "source": [
    "### Model"
   ]
  },
  {
   "cell_type": "code",
   "execution_count": 42,
   "metadata": {
    "collapsed": false
   },
   "outputs": [],
   "source": [
    "# Additional input tensor\n",
    "y = Input(shape=(max_len, ), name='y')  # Used for teacher-forcing\n",
    "d0 = Input(shape=(1, ), name='d0')  # Decoder starting token (\"_go_\")"
   ]
  },
  {
   "cell_type": "code",
   "execution_count": 43,
   "metadata": {
    "collapsed": false
   },
   "outputs": [],
   "source": [
    "# Encode\n",
    "a_enc, s_enc, c_enc = encode(X, X_embed_layer, lstm_pre_attn)"
   ]
  },
  {
   "cell_type": "code",
   "execution_count": 44,
   "metadata": {
    "collapsed": false,
    "scrolled": true
   },
   "outputs": [],
   "source": [
    "# Decode\n",
    "outputs = []\n",
    "d_in = d0\n",
    "s_dec = s_enc\n",
    "c_dec = c_enc\n",
    "\n",
    "for t in range(max_len):\n",
    "    s_dec, c_dec, d_out = one_step_decode(a_enc, s_dec, c_dec, d_in)\n",
    "    outputs.append(d_out)\n",
    "    \n",
    "    # Assign the next token as the next decoder input (teacher-forcing)\n",
    "    d_in = layers.Lambda(lambda x: x[:, t:t+1])(y)"
   ]
  },
  {
   "cell_type": "code",
   "execution_count": 45,
   "metadata": {
    "collapsed": false
   },
   "outputs": [
    {
     "name": "stdout",
     "output_type": "stream",
     "text": [
      "__________________________________________________________________________________________________\n",
      "Layer (type)                    Output Shape         Param #     Connected to                     \n",
      "==================================================================================================\n",
      "X (InputLayer)                  (None, 20)           0                                            \n",
      "__________________________________________________________________________________________________\n",
      "embedding_1 (Embedding)         (None, 20, 256)      2173184     X[0][0]                          \n",
      "__________________________________________________________________________________________________\n",
      "lstm_1 (LSTM)                   [(None, 20, 128), (N 197120      embedding_1[0][0]                \n",
      "__________________________________________________________________________________________________\n",
      "repeat_vector_1 (RepeatVector)  (None, 20, 128)      0           lstm_1[0][1]                     \n",
      "                                                                 lstm_2[0][1]                     \n",
      "                                                                 lstm_2[1][1]                     \n",
      "                                                                 lstm_2[2][1]                     \n",
      "                                                                 lstm_2[3][1]                     \n",
      "                                                                 lstm_2[4][1]                     \n",
      "                                                                 lstm_2[5][1]                     \n",
      "                                                                 lstm_2[6][1]                     \n",
      "                                                                 lstm_2[7][1]                     \n",
      "                                                                 lstm_2[8][1]                     \n",
      "                                                                 lstm_2[9][1]                     \n",
      "                                                                 lstm_2[10][1]                    \n",
      "                                                                 lstm_2[11][1]                    \n",
      "                                                                 lstm_2[12][1]                    \n",
      "                                                                 lstm_2[13][1]                    \n",
      "                                                                 lstm_2[14][1]                    \n",
      "                                                                 lstm_2[15][1]                    \n",
      "                                                                 lstm_2[16][1]                    \n",
      "                                                                 lstm_2[17][1]                    \n",
      "                                                                 lstm_2[18][1]                    \n",
      "__________________________________________________________________________________________________\n",
      "concatenate_1 (Concatenate)     (None, 20, 256)      0           lstm_1[0][0]                     \n",
      "                                                                 repeat_vector_1[0][0]            \n",
      "                                                                 lstm_1[0][0]                     \n",
      "                                                                 repeat_vector_1[1][0]            \n",
      "                                                                 lstm_1[0][0]                     \n",
      "                                                                 repeat_vector_1[2][0]            \n",
      "                                                                 lstm_1[0][0]                     \n",
      "                                                                 repeat_vector_1[3][0]            \n",
      "                                                                 lstm_1[0][0]                     \n",
      "                                                                 repeat_vector_1[4][0]            \n",
      "                                                                 lstm_1[0][0]                     \n",
      "                                                                 repeat_vector_1[5][0]            \n",
      "                                                                 lstm_1[0][0]                     \n",
      "                                                                 repeat_vector_1[6][0]            \n",
      "                                                                 lstm_1[0][0]                     \n",
      "                                                                 repeat_vector_1[7][0]            \n",
      "                                                                 lstm_1[0][0]                     \n",
      "                                                                 repeat_vector_1[8][0]            \n",
      "                                                                 lstm_1[0][0]                     \n",
      "                                                                 repeat_vector_1[9][0]            \n",
      "                                                                 lstm_1[0][0]                     \n",
      "                                                                 repeat_vector_1[10][0]           \n",
      "                                                                 lstm_1[0][0]                     \n",
      "                                                                 repeat_vector_1[11][0]           \n",
      "                                                                 lstm_1[0][0]                     \n",
      "                                                                 repeat_vector_1[12][0]           \n",
      "                                                                 lstm_1[0][0]                     \n",
      "                                                                 repeat_vector_1[13][0]           \n",
      "                                                                 lstm_1[0][0]                     \n",
      "                                                                 repeat_vector_1[14][0]           \n",
      "                                                                 lstm_1[0][0]                     \n",
      "                                                                 repeat_vector_1[15][0]           \n",
      "                                                                 lstm_1[0][0]                     \n",
      "                                                                 repeat_vector_1[16][0]           \n",
      "                                                                 lstm_1[0][0]                     \n",
      "                                                                 repeat_vector_1[17][0]           \n",
      "                                                                 lstm_1[0][0]                     \n",
      "                                                                 repeat_vector_1[18][0]           \n",
      "                                                                 lstm_1[0][0]                     \n",
      "                                                                 repeat_vector_1[19][0]           \n",
      "__________________________________________________________________________________________________\n",
      "dense_1 (Dense)                 (None, 20, 1)        257         concatenate_1[0][0]              \n",
      "                                                                 concatenate_1[1][0]              \n",
      "                                                                 concatenate_1[2][0]              \n",
      "                                                                 concatenate_1[3][0]              \n",
      "                                                                 concatenate_1[4][0]              \n",
      "                                                                 concatenate_1[5][0]              \n",
      "                                                                 concatenate_1[6][0]              \n",
      "                                                                 concatenate_1[7][0]              \n",
      "                                                                 concatenate_1[8][0]              \n",
      "                                                                 concatenate_1[9][0]              \n",
      "                                                                 concatenate_1[10][0]             \n",
      "                                                                 concatenate_1[11][0]             \n",
      "                                                                 concatenate_1[12][0]             \n",
      "                                                                 concatenate_1[13][0]             \n",
      "                                                                 concatenate_1[14][0]             \n",
      "                                                                 concatenate_1[15][0]             \n",
      "                                                                 concatenate_1[16][0]             \n",
      "                                                                 concatenate_1[17][0]             \n",
      "                                                                 concatenate_1[18][0]             \n",
      "                                                                 concatenate_1[19][0]             \n",
      "__________________________________________________________________________________________________\n",
      "attention_weights (Activation)  (None, 20, 1)        0           dense_1[0][0]                    \n",
      "                                                                 dense_1[1][0]                    \n",
      "                                                                 dense_1[2][0]                    \n",
      "                                                                 dense_1[3][0]                    \n",
      "                                                                 dense_1[4][0]                    \n",
      "                                                                 dense_1[5][0]                    \n",
      "                                                                 dense_1[6][0]                    \n",
      "                                                                 dense_1[7][0]                    \n",
      "                                                                 dense_1[8][0]                    \n",
      "                                                                 dense_1[9][0]                    \n",
      "                                                                 dense_1[10][0]                   \n",
      "                                                                 dense_1[11][0]                   \n",
      "                                                                 dense_1[12][0]                   \n",
      "                                                                 dense_1[13][0]                   \n",
      "                                                                 dense_1[14][0]                   \n",
      "                                                                 dense_1[15][0]                   \n",
      "                                                                 dense_1[16][0]                   \n",
      "                                                                 dense_1[17][0]                   \n",
      "                                                                 dense_1[18][0]                   \n",
      "                                                                 dense_1[19][0]                   \n",
      "__________________________________________________________________________________________________\n",
      "d0 (InputLayer)                 (None, 1)            0                                            \n",
      "__________________________________________________________________________________________________\n",
      "context (Dot)                   (None, 1, 128)       0           attention_weights[0][0]          \n",
      "                                                                 lstm_1[0][0]                     \n",
      "                                                                 attention_weights[1][0]          \n",
      "                                                                 lstm_1[0][0]                     \n",
      "                                                                 attention_weights[2][0]          \n",
      "                                                                 lstm_1[0][0]                     \n",
      "                                                                 attention_weights[3][0]          \n",
      "                                                                 lstm_1[0][0]                     \n",
      "                                                                 attention_weights[4][0]          \n",
      "                                                                 lstm_1[0][0]                     \n",
      "                                                                 attention_weights[5][0]          \n",
      "                                                                 lstm_1[0][0]                     \n",
      "                                                                 attention_weights[6][0]          \n",
      "                                                                 lstm_1[0][0]                     \n",
      "                                                                 attention_weights[7][0]          \n",
      "                                                                 lstm_1[0][0]                     \n",
      "                                                                 attention_weights[8][0]          \n",
      "                                                                 lstm_1[0][0]                     \n",
      "                                                                 attention_weights[9][0]          \n",
      "                                                                 lstm_1[0][0]                     \n",
      "                                                                 attention_weights[10][0]         \n",
      "                                                                 lstm_1[0][0]                     \n",
      "                                                                 attention_weights[11][0]         \n",
      "                                                                 lstm_1[0][0]                     \n",
      "                                                                 attention_weights[12][0]         \n",
      "                                                                 lstm_1[0][0]                     \n",
      "                                                                 attention_weights[13][0]         \n",
      "                                                                 lstm_1[0][0]                     \n",
      "                                                                 attention_weights[14][0]         \n",
      "                                                                 lstm_1[0][0]                     \n",
      "                                                                 attention_weights[15][0]         \n",
      "                                                                 lstm_1[0][0]                     \n",
      "                                                                 attention_weights[16][0]         \n",
      "                                                                 lstm_1[0][0]                     \n",
      "                                                                 attention_weights[17][0]         \n",
      "                                                                 lstm_1[0][0]                     \n",
      "                                                                 attention_weights[18][0]         \n",
      "                                                                 lstm_1[0][0]                     \n",
      "                                                                 attention_weights[19][0]         \n",
      "                                                                 lstm_1[0][0]                     \n",
      "__________________________________________________________________________________________________\n",
      "embedding_2 (Embedding)         (None, 1, 256)       3717120     d0[0][0]                         \n",
      "                                                                 lambda_1[0][0]                   \n",
      "                                                                 lambda_2[0][0]                   \n",
      "                                                                 lambda_3[0][0]                   \n",
      "                                                                 lambda_4[0][0]                   \n",
      "                                                                 lambda_5[0][0]                   \n",
      "                                                                 lambda_6[0][0]                   \n",
      "                                                                 lambda_7[0][0]                   \n",
      "                                                                 lambda_8[0][0]                   \n",
      "                                                                 lambda_9[0][0]                   \n",
      "                                                                 lambda_10[0][0]                  \n",
      "                                                                 lambda_11[0][0]                  \n",
      "                                                                 lambda_12[0][0]                  \n",
      "                                                                 lambda_13[0][0]                  \n",
      "                                                                 lambda_14[0][0]                  \n",
      "                                                                 lambda_15[0][0]                  \n",
      "                                                                 lambda_16[0][0]                  \n",
      "                                                                 lambda_17[0][0]                  \n",
      "                                                                 lambda_18[0][0]                  \n",
      "                                                                 lambda_19[0][0]                  \n",
      "__________________________________________________________________________________________________\n",
      "concatenate_2 (Concatenate)     (None, 1, 384)       0           context[0][0]                    \n",
      "                                                                 embedding_2[0][0]                \n",
      "                                                                 context[1][0]                    \n",
      "                                                                 embedding_2[1][0]                \n",
      "                                                                 context[2][0]                    \n",
      "                                                                 embedding_2[2][0]                \n",
      "                                                                 context[3][0]                    \n",
      "                                                                 embedding_2[3][0]                \n",
      "                                                                 context[4][0]                    \n",
      "                                                                 embedding_2[4][0]                \n",
      "                                                                 context[5][0]                    \n",
      "                                                                 embedding_2[5][0]                \n",
      "                                                                 context[6][0]                    \n",
      "                                                                 embedding_2[6][0]                \n",
      "                                                                 context[7][0]                    \n",
      "                                                                 embedding_2[7][0]                \n",
      "                                                                 context[8][0]                    \n",
      "                                                                 embedding_2[8][0]                \n",
      "                                                                 context[9][0]                    \n",
      "                                                                 embedding_2[9][0]                \n",
      "                                                                 context[10][0]                   \n",
      "                                                                 embedding_2[10][0]               \n",
      "                                                                 context[11][0]                   \n",
      "                                                                 embedding_2[11][0]               \n",
      "                                                                 context[12][0]                   \n",
      "                                                                 embedding_2[12][0]               \n",
      "                                                                 context[13][0]                   \n",
      "                                                                 embedding_2[13][0]               \n",
      "                                                                 context[14][0]                   \n",
      "                                                                 embedding_2[14][0]               \n",
      "                                                                 context[15][0]                   \n",
      "                                                                 embedding_2[15][0]               \n",
      "                                                                 context[16][0]                   \n",
      "                                                                 embedding_2[16][0]               \n",
      "                                                                 context[17][0]                   \n",
      "                                                                 embedding_2[17][0]               \n",
      "                                                                 context[18][0]                   \n",
      "                                                                 embedding_2[18][0]               \n",
      "                                                                 context[19][0]                   \n",
      "                                                                 embedding_2[19][0]               \n",
      "__________________________________________________________________________________________________\n",
      "lstm_2 (LSTM)                   [(None, 128), (None, 262656      concatenate_2[0][0]              \n",
      "                                                                 lstm_1[0][1]                     \n",
      "                                                                 lstm_1[0][2]                     \n",
      "                                                                 concatenate_2[1][0]              \n",
      "                                                                 lstm_2[0][1]                     \n",
      "                                                                 lstm_2[0][2]                     \n",
      "                                                                 concatenate_2[2][0]              \n",
      "                                                                 lstm_2[1][1]                     \n",
      "                                                                 lstm_2[1][2]                     \n",
      "                                                                 concatenate_2[3][0]              \n",
      "                                                                 lstm_2[2][1]                     \n",
      "                                                                 lstm_2[2][2]                     \n",
      "                                                                 concatenate_2[4][0]              \n",
      "                                                                 lstm_2[3][1]                     \n",
      "                                                                 lstm_2[3][2]                     \n",
      "                                                                 concatenate_2[5][0]              \n",
      "                                                                 lstm_2[4][1]                     \n",
      "                                                                 lstm_2[4][2]                     \n",
      "                                                                 concatenate_2[6][0]              \n",
      "                                                                 lstm_2[5][1]                     \n",
      "                                                                 lstm_2[5][2]                     \n",
      "                                                                 concatenate_2[7][0]              \n",
      "                                                                 lstm_2[6][1]                     \n",
      "                                                                 lstm_2[6][2]                     \n",
      "                                                                 concatenate_2[8][0]              \n",
      "                                                                 lstm_2[7][1]                     \n",
      "                                                                 lstm_2[7][2]                     \n",
      "                                                                 concatenate_2[9][0]              \n",
      "                                                                 lstm_2[8][1]                     \n",
      "                                                                 lstm_2[8][2]                     \n",
      "                                                                 concatenate_2[10][0]             \n",
      "                                                                 lstm_2[9][1]                     \n",
      "                                                                 lstm_2[9][2]                     \n",
      "                                                                 concatenate_2[11][0]             \n",
      "                                                                 lstm_2[10][1]                    \n",
      "                                                                 lstm_2[10][2]                    \n",
      "                                                                 concatenate_2[12][0]             \n",
      "                                                                 lstm_2[11][1]                    \n",
      "                                                                 lstm_2[11][2]                    \n",
      "                                                                 concatenate_2[13][0]             \n",
      "                                                                 lstm_2[12][1]                    \n",
      "                                                                 lstm_2[12][2]                    \n",
      "                                                                 concatenate_2[14][0]             \n",
      "                                                                 lstm_2[13][1]                    \n",
      "                                                                 lstm_2[13][2]                    \n",
      "                                                                 concatenate_2[15][0]             \n",
      "                                                                 lstm_2[14][1]                    \n",
      "                                                                 lstm_2[14][2]                    \n",
      "                                                                 concatenate_2[16][0]             \n",
      "                                                                 lstm_2[15][1]                    \n",
      "                                                                 lstm_2[15][2]                    \n",
      "                                                                 concatenate_2[17][0]             \n",
      "                                                                 lstm_2[16][1]                    \n",
      "                                                                 lstm_2[16][2]                    \n",
      "                                                                 concatenate_2[18][0]             \n",
      "                                                                 lstm_2[17][1]                    \n",
      "                                                                 lstm_2[17][2]                    \n",
      "                                                                 concatenate_2[19][0]             \n",
      "                                                                 lstm_2[18][1]                    \n",
      "                                                                 lstm_2[18][2]                    \n",
      "__________________________________________________________________________________________________\n",
      "y (InputLayer)                  (None, 20)           0                                            \n",
      "__________________________________________________________________________________________________\n",
      "lambda_1 (Lambda)               (None, 1)            0           y[0][0]                          \n",
      "__________________________________________________________________________________________________\n",
      "lambda_2 (Lambda)               (None, 1)            0           y[0][0]                          \n",
      "__________________________________________________________________________________________________\n",
      "lambda_3 (Lambda)               (None, 1)            0           y[0][0]                          \n",
      "__________________________________________________________________________________________________\n",
      "lambda_4 (Lambda)               (None, 1)            0           y[0][0]                          \n",
      "__________________________________________________________________________________________________\n",
      "lambda_5 (Lambda)               (None, 1)            0           y[0][0]                          \n",
      "__________________________________________________________________________________________________\n",
      "lambda_6 (Lambda)               (None, 1)            0           y[0][0]                          \n",
      "__________________________________________________________________________________________________\n",
      "lambda_7 (Lambda)               (None, 1)            0           y[0][0]                          \n",
      "__________________________________________________________________________________________________\n",
      "lambda_8 (Lambda)               (None, 1)            0           y[0][0]                          \n",
      "__________________________________________________________________________________________________\n",
      "lambda_9 (Lambda)               (None, 1)            0           y[0][0]                          \n",
      "__________________________________________________________________________________________________\n",
      "lambda_10 (Lambda)              (None, 1)            0           y[0][0]                          \n",
      "__________________________________________________________________________________________________\n",
      "lambda_11 (Lambda)              (None, 1)            0           y[0][0]                          \n",
      "__________________________________________________________________________________________________\n",
      "lambda_12 (Lambda)              (None, 1)            0           y[0][0]                          \n",
      "__________________________________________________________________________________________________\n",
      "lambda_13 (Lambda)              (None, 1)            0           y[0][0]                          \n",
      "__________________________________________________________________________________________________\n",
      "lambda_14 (Lambda)              (None, 1)            0           y[0][0]                          \n",
      "__________________________________________________________________________________________________\n",
      "lambda_15 (Lambda)              (None, 1)            0           y[0][0]                          \n",
      "__________________________________________________________________________________________________\n",
      "lambda_16 (Lambda)              (None, 1)            0           y[0][0]                          \n",
      "__________________________________________________________________________________________________\n",
      "lambda_17 (Lambda)              (None, 1)            0           y[0][0]                          \n",
      "__________________________________________________________________________________________________\n",
      "lambda_18 (Lambda)              (None, 1)            0           y[0][0]                          \n",
      "__________________________________________________________________________________________________\n",
      "lambda_19 (Lambda)              (None, 1)            0           y[0][0]                          \n",
      "__________________________________________________________________________________________________\n",
      "dense_2 (Dense)                 (None, 14520)        1873080     lstm_2[0][1]                     \n",
      "                                                                 lstm_2[1][1]                     \n",
      "                                                                 lstm_2[2][1]                     \n",
      "                                                                 lstm_2[3][1]                     \n",
      "                                                                 lstm_2[4][1]                     \n",
      "                                                                 lstm_2[5][1]                     \n",
      "                                                                 lstm_2[6][1]                     \n",
      "                                                                 lstm_2[7][1]                     \n",
      "                                                                 lstm_2[8][1]                     \n",
      "                                                                 lstm_2[9][1]                     \n",
      "                                                                 lstm_2[10][1]                    \n",
      "                                                                 lstm_2[11][1]                    \n",
      "                                                                 lstm_2[12][1]                    \n",
      "                                                                 lstm_2[13][1]                    \n",
      "                                                                 lstm_2[14][1]                    \n",
      "                                                                 lstm_2[15][1]                    \n",
      "                                                                 lstm_2[16][1]                    \n",
      "                                                                 lstm_2[17][1]                    \n",
      "                                                                 lstm_2[18][1]                    \n",
      "                                                                 lstm_2[19][1]                    \n",
      "==================================================================================================\n",
      "Total params: 8,223,417\n",
      "Trainable params: 8,223,417\n",
      "Non-trainable params: 0\n",
      "__________________________________________________________________________________________________\n"
     ]
    }
   ],
   "source": [
    "# Put together\n",
    "model = Model(inputs=[X, y, d0], outputs=outputs)\n",
    "model.summary()"
   ]
  },
  {
   "cell_type": "code",
   "execution_count": 46,
   "metadata": {
    "collapsed": true
   },
   "outputs": [],
   "source": [
    "model.compile(optimizer='rmsprop', loss='sparse_categorical_crossentropy', metrics=['sparse_categorical_accuracy'])"
   ]
  },
  {
   "cell_type": "markdown",
   "metadata": {},
   "source": [
    "## Train models"
   ]
  },
  {
   "cell_type": "code",
   "execution_count": 48,
   "metadata": {
    "collapsed": false
   },
   "outputs": [],
   "source": [
    "# Initialize decoder input\n",
    "d0_trn = np.array([y_stoi[GO]] * len(X_ix_trn)).reshape(-1, 1)\n",
    "d0_val = np.array([y_stoi[GO]] * len(X_ix_val)).reshape(-1, 1)"
   ]
  },
  {
   "cell_type": "code",
   "execution_count": 49,
   "metadata": {
    "collapsed": true
   },
   "outputs": [],
   "source": [
    "# Add callbacks\n",
    "callbacks = []\n",
    "\n",
    "reduce_lr = ReduceLROnPlateau(monitor='val_loss', factor=0.1, patience=5, verbose=1)\n",
    "callbacks.append(reduce_lr)\n",
    "\n",
    "stopper = EarlyStopping(monitor='val_loss', patience=5, verbose=1)\n",
    "callbacks.append(stopper)\n",
    "\n",
    "checkpoint = ModelCheckpoint(filepath=os.path.join(model_path, 'translate-keras.h5'), monitor='val_loss', save_best_only=True, verbose=1)\n",
    "callbacks.append(checkpoint)"
   ]
  },
  {
   "cell_type": "code",
   "execution_count": 50,
   "metadata": {
    "collapsed": false
   },
   "outputs": [
    {
     "data": {
      "text/plain": [
       "(20, 20, (123460, 1), (30866, 1))"
      ]
     },
     "execution_count": 50,
     "metadata": {},
     "output_type": "execute_result"
    }
   ],
   "source": [
    "# Reshape outputs in order to use `sparse_categorical_crossentropy`\n",
    "y_ix_trn_rs = [y_ix_trn[:, i:(i+1)] for i in range(y_ix_trn.shape[1])]\n",
    "y_ix_val_rs = [y_ix_val[:, i:(i+1)] for i in range(y_ix_val.shape[1])]\n",
    "\n",
    "len(y_ix_trn_rs), len(y_ix_val_rs), y_ix_trn_rs[0].shape, y_ix_val_rs[0].shape"
   ]
  },
  {
   "cell_type": "code",
   "execution_count": null,
   "metadata": {
    "collapsed": false,
    "scrolled": true
   },
   "outputs": [],
   "source": [
    "# Train\n",
    "hist = model.fit(\n",
    "    x=[X_ix_trn, y_ix_trn, d0_trn],\n",
    "    y=y_ix_trn_rs,\n",
    "    batch_size=64,\n",
    "    epochs=20,\n",
    "    validation_data=([X_ix_val, y_ix_val, d0_val], y_ix_val_rs),\n",
    "    callbacks=callbacks)"
   ]
  },
  {
   "cell_type": "code",
   "execution_count": 54,
   "metadata": {
    "collapsed": false
   },
   "outputs": [],
   "source": [
    "def plot_losses_and_metrics(model_hist):\n",
    "    \"\"\"Plot losses at the end of the training\"\"\"\n",
    "\n",
    "    loss = pd.DataFrame(zip(model_hist.history['loss'], model_hist.history['val_loss']), columns=['loss', 'val_loss'])\n",
    "\n",
    "    # Find the epoch with the smallest loss\n",
    "    min_loss_ix = np.array(model_hist.history['val_loss']).argmin()\n",
    "\n",
    "    fig, ax = plt.subplots()\n",
    "    loss.plot(ax=ax)\n",
    "    ax.axvline(x=min_loss_ix, color='black', ls='--')\n",
    "    plt.show()\n",
    "\n",
    "    return loss"
   ]
  },
  {
   "cell_type": "code",
   "execution_count": 55,
   "metadata": {
    "collapsed": false
   },
   "outputs": [
    {
     "data": {
      "image/png": "[encoded data removed]",
      "text/plain": [
       "<matplotlib.figure.Figure at 0x7f97c1ec2e10>"
      ]
     },
     "metadata": {
      "image/png": {
       "height": 258,
       "width": 367
      }
     },
     "output_type": "display_data"
    },
    {
     "data": {
      "text/html": [
       "<div>\n",
       "<style scoped>\n",
       "    .dataframe tbody tr th:only-of-type {\n",
       "        vertical-align: middle;\n",
       "    }\n",
       "\n",
       "    .dataframe tbody tr th {\n",
       "        vertical-align: top;\n",
       "    }\n",
       "\n",
       "    .dataframe thead th {\n",
       "        text-align: right;\n",
       "    }\n",
       "</style>\n",
       "<table border=\"1\" class=\"dataframe\">\n",
       "  <thead>\n",
       "    <tr style=\"text-align: right;\">\n",
       "      <th></th>\n",
       "      <th>loss</th>\n",
       "      <th>val_loss</th>\n",
       "    </tr>\n",
       "  </thead>\n",
       "  <tbody>\n",
       "    <tr>\n",
       "      <th>0</th>\n",
       "      <td>38.050375</td>\n",
       "      <td>31.249202</td>\n",
       "    </tr>\n",
       "    <tr>\n",
       "      <th>1</th>\n",
       "      <td>28.237904</td>\n",
       "      <td>26.307415</td>\n",
       "    </tr>\n",
       "    <tr>\n",
       "      <th>2</th>\n",
       "      <td>24.413294</td>\n",
       "      <td>23.419551</td>\n",
       "    </tr>\n",
       "    <tr>\n",
       "      <th>3</th>\n",
       "      <td>22.258238</td>\n",
       "      <td>22.442736</td>\n",
       "    </tr>\n",
       "    <tr>\n",
       "      <th>4</th>\n",
       "      <td>20.986619</td>\n",
       "      <td>21.693549</td>\n",
       "    </tr>\n",
       "    <tr>\n",
       "      <th>5</th>\n",
       "      <td>19.767221</td>\n",
       "      <td>20.638794</td>\n",
       "    </tr>\n",
       "    <tr>\n",
       "      <th>6</th>\n",
       "      <td>19.211026</td>\n",
       "      <td>20.822668</td>\n",
       "    </tr>\n",
       "    <tr>\n",
       "      <th>7</th>\n",
       "      <td>18.867479</td>\n",
       "      <td>20.155217</td>\n",
       "    </tr>\n",
       "    <tr>\n",
       "      <th>8</th>\n",
       "      <td>18.273522</td>\n",
       "      <td>19.954648</td>\n",
       "    </tr>\n",
       "    <tr>\n",
       "      <th>9</th>\n",
       "      <td>17.745829</td>\n",
       "      <td>19.657878</td>\n",
       "    </tr>\n",
       "    <tr>\n",
       "      <th>10</th>\n",
       "      <td>17.387931</td>\n",
       "      <td>19.576570</td>\n",
       "    </tr>\n",
       "    <tr>\n",
       "      <th>11</th>\n",
       "      <td>17.209768</td>\n",
       "      <td>19.487418</td>\n",
       "    </tr>\n",
       "    <tr>\n",
       "      <th>12</th>\n",
       "      <td>17.022059</td>\n",
       "      <td>19.415803</td>\n",
       "    </tr>\n",
       "    <tr>\n",
       "      <th>13</th>\n",
       "      <td>16.634194</td>\n",
       "      <td>19.464583</td>\n",
       "    </tr>\n",
       "    <tr>\n",
       "      <th>14</th>\n",
       "      <td>16.315166</td>\n",
       "      <td>19.295580</td>\n",
       "    </tr>\n",
       "    <tr>\n",
       "      <th>15</th>\n",
       "      <td>16.055489</td>\n",
       "      <td>19.337658</td>\n",
       "    </tr>\n",
       "    <tr>\n",
       "      <th>16</th>\n",
       "      <td>15.879872</td>\n",
       "      <td>19.293444</td>\n",
       "    </tr>\n",
       "    <tr>\n",
       "      <th>17</th>\n",
       "      <td>15.783678</td>\n",
       "      <td>19.351260</td>\n",
       "    </tr>\n",
       "    <tr>\n",
       "      <th>18</th>\n",
       "      <td>15.703312</td>\n",
       "      <td>19.377505</td>\n",
       "    </tr>\n",
       "    <tr>\n",
       "      <th>19</th>\n",
       "      <td>15.565810</td>\n",
       "      <td>19.364402</td>\n",
       "    </tr>\n",
       "  </tbody>\n",
       "</table>\n",
       "</div>"
      ],
      "text/plain": [
       "         loss   val_loss\n",
       "0   38.050375  31.249202\n",
       "1   28.237904  26.307415\n",
       "2   24.413294  23.419551\n",
       "3   22.258238  22.442736\n",
       "4   20.986619  21.693549\n",
       "5   19.767221  20.638794\n",
       "6   19.211026  20.822668\n",
       "7   18.867479  20.155217\n",
       "8   18.273522  19.954648\n",
       "9   17.745829  19.657878\n",
       "10  17.387931  19.576570\n",
       "11  17.209768  19.487418\n",
       "12  17.022059  19.415803\n",
       "13  16.634194  19.464583\n",
       "14  16.315166  19.295580\n",
       "15  16.055489  19.337658\n",
       "16  15.879872  19.293444\n",
       "17  15.783678  19.351260\n",
       "18  15.703312  19.377505\n",
       "19  15.565810  19.364402"
      ]
     },
     "execution_count": 55,
     "metadata": {},
     "output_type": "execute_result"
    }
   ],
   "source": [
    "plot_losses_and_metrics(hist)"
   ]
  },
  {
   "cell_type": "markdown",
   "metadata": {},
   "source": [
    "## Inference"
   ]
  },
  {
   "cell_type": "code",
   "execution_count": 56,
   "metadata": {
    "collapsed": false
   },
   "outputs": [
    {
     "name": "stdout",
     "output_type": "stream",
     "text": [
      "_________________________________________________________________\n",
      "Layer (type)                 Output Shape              Param #   \n",
      "=================================================================\n",
      "X (InputLayer)               (None, 20)                0         \n",
      "_________________________________________________________________\n",
      "embedding_1 (Embedding)      (None, 20, 256)           2173184   \n",
      "_________________________________________________________________\n",
      "lstm_1 (LSTM)                [(None, 20, 128), (None,  197120    \n",
      "=================================================================\n",
      "Total params: 2,370,304\n",
      "Trainable params: 2,370,304\n",
      "Non-trainable params: 0\n",
      "_________________________________________________________________\n"
     ]
    }
   ],
   "source": [
    "# Extract encoder\n",
    "encoder = Model(X, encode(X, X_embed_layer, lstm_pre_attn))\n",
    "encoder.summary()"
   ]
  },
  {
   "cell_type": "code",
   "execution_count": 57,
   "metadata": {
    "collapsed": false
   },
   "outputs": [
    {
     "name": "stdout",
     "output_type": "stream",
     "text": [
      "__________________________________________________________________________________________________\n",
      "Layer (type)                    Output Shape         Param #     Connected to                     \n",
      "==================================================================================================\n",
      "s_dec_prev (InputLayer)         (None, 128)          0                                            \n",
      "__________________________________________________________________________________________________\n",
      "a_enc (InputLayer)              (None, 20, 128)      0                                            \n",
      "__________________________________________________________________________________________________\n",
      "repeat_vector_1 (RepeatVector)  (None, 20, 128)      0           s_dec_prev[0][0]                 \n",
      "__________________________________________________________________________________________________\n",
      "concatenate_1 (Concatenate)     (None, 20, 256)      0           a_enc[0][0]                      \n",
      "                                                                 repeat_vector_1[20][0]           \n",
      "__________________________________________________________________________________________________\n",
      "dense_1 (Dense)                 (None, 20, 1)        257         concatenate_1[20][0]             \n",
      "__________________________________________________________________________________________________\n",
      "attention_weights (Activation)  (None, 20, 1)        0           dense_1[20][0]                   \n",
      "__________________________________________________________________________________________________\n",
      "d_in (InputLayer)               (None, 1)            0                                            \n",
      "__________________________________________________________________________________________________\n",
      "context (Dot)                   (None, 1, 128)       0           attention_weights[20][0]         \n",
      "                                                                 a_enc[0][0]                      \n",
      "__________________________________________________________________________________________________\n",
      "embedding_2 (Embedding)         (None, 1, 256)       3717120     d_in[0][0]                       \n",
      "__________________________________________________________________________________________________\n",
      "concatenate_2 (Concatenate)     (None, 1, 384)       0           context[20][0]                   \n",
      "                                                                 embedding_2[20][0]               \n",
      "__________________________________________________________________________________________________\n",
      "c_dec_prev (InputLayer)         (None, 128)          0                                            \n",
      "__________________________________________________________________________________________________\n",
      "lstm_2 (LSTM)                   [(None, 128), (None, 262656      concatenate_2[20][0]             \n",
      "                                                                 s_dec_prev[0][0]                 \n",
      "                                                                 c_dec_prev[0][0]                 \n",
      "__________________________________________________________________________________________________\n",
      "dense_2 (Dense)                 (None, 14520)        1873080     lstm_2[20][1]                    \n",
      "==================================================================================================\n",
      "Total params: 5,853,113\n",
      "Trainable params: 5,853,113\n",
      "Non-trainable params: 0\n",
      "__________________________________________________________________________________________________\n"
     ]
    }
   ],
   "source": [
    "# Extract decoder\n",
    "a_enc = Input(shape=(max_len, hidden_size_enc), name='a_enc')\n",
    "s_dec_prev = Input(shape=(hidden_size_dec, ), name='s_dec_prev')\n",
    "c_dec_prev = Input(shape=(hidden_size_dec, ), name='c_dec_prev')\n",
    "d_in = Input(shape=(1, ), name='d_in')\n",
    "\n",
    "decoder = Model([a_enc, s_dec_prev, c_dec_prev, d_in], one_step_decode(a_enc, s_dec_prev, c_dec_prev, d_in))\n",
    "decoder.summary()"
   ]
  },
  {
   "cell_type": "code",
   "execution_count": 72,
   "metadata": {
    "collapsed": false
   },
   "outputs": [],
   "source": [
    "def decode_sequence(input_seqs):\n",
    "    # Generate encoder output\n",
    "    a_enc_pred, s_enc_pred, c_enc_pred = encoder.predict(input_seqs)\n",
    "\n",
    "    # Generate decoder output, one timestep at a time\n",
    "    outputs_pred = []\n",
    "    d_in_pred = np.array([y_stoi[GO]] * len(input_seqs)).reshape(-1, 1)\n",
    "    s_dec_pred = s_enc_pred\n",
    "    c_dec_pred = c_enc_pred\n",
    "\n",
    "    for t in range(max_len):\n",
    "        s_dec_pred, c_dec_pred, d_out_pred = decoder.predict([a_enc_pred, s_dec_pred, c_dec_pred, d_in_pred])\n",
    "\n",
    "        # Derive the predicted token\n",
    "        d_out_pred = d_out_pred.argmax(axis=-1)\n",
    "\n",
    "        outputs_pred.append(d_out_pred)\n",
    "\n",
    "        # Assign the predicted token as the next decoder input\n",
    "        d_in_pred = d_out_pred\n",
    "\n",
    "    # Convert output index into tokens\n",
    "    output_seqs = np.array(y_itos)[np.array(outputs_pred).transpose()]\n",
    "    \n",
    "    # Clean up and output\n",
    "    output_seqs = [detok(toks) for toks in output_seqs]\n",
    "    \n",
    "    return output_seqs\n",
    "\n",
    "# Convert to strings and clean up\n",
    "detokenizer = Detok()\n",
    "\n",
    "def detok(toks):\n",
    "    # Cut before the first padding (if any)\n",
    "    toks = list(toks)\n",
    "    if PAD in toks:\n",
    "        first_pad = toks.index(PAD)\n",
    "        toks = toks[:first_pad]\n",
    "    \n",
    "    return detokenizer.detokenize(toks)"
   ]
  },
  {
   "cell_type": "code",
   "execution_count": 74,
   "metadata": {
    "collapsed": false
   },
   "outputs": [
    {
     "data": {
      "text/plain": [
       "30866"
      ]
     },
     "execution_count": 74,
     "metadata": {},
     "output_type": "execute_result"
    }
   ],
   "source": [
    "# Test inference with validation data\n",
    "y_val_pred = decode_sequence(X_ix_val)\n",
    "len(y_val_pred)"
   ]
  },
  {
   "cell_type": "code",
   "execution_count": 116,
   "metadata": {
    "collapsed": false
   },
   "outputs": [
    {
     "name": "stdout",
     "output_type": "stream",
     "text": [
      "0\n",
      "Input:\t\ttom said my plan wouldn't work.\n",
      "Predicted:\ttom a dit que son travail ne m'a pas pu se.\n",
      "True:\t\ttom a dit que mon plan ne fonctionnera pas.\n",
      "1\n",
      "Input:\t\ta watered down compromise resolution is better than none at all.\n",
      "Predicted:\tun _unk_ _unk_ est plus petit que _unk_ tous les sera.\n",
      "True:\t\tune résolution sur un compromis restreint est préférable à rien du tout.\n",
      "2\n",
      "Input:\t\tcould i get one more beer, please?\n",
      "Predicted:\tpourrais - je avoir une plus de bière, s'il vous plaît?\n",
      "True:\t\tpourrais - je avoir une bière supplémentaire, je vous prie?\n",
      "3\n",
      "Input:\t\ti want to ask you one simple question.\n",
      "Predicted:\tje veux vous poser une question une pas enfant!\n",
      "True:\t\tje veux te poser une simple question.\n",
      "4\n",
      "Input:\t\ti can't stand to see animals be teased.\n",
      "Predicted:\tje ne peux voir pas de _unk_ des _unk_ de voir des _unk_.\n",
      "True:\t\tje ne supporte pas de voir des animaux être taquinés.\n"
     ]
    }
   ],
   "source": [
    "# Print out a few results\n",
    "for i in range(5):\n",
    "    print(i)\n",
    "    print('Input:\\t\\t' + detok(X_val[i]))\n",
    "    print('Predicted:\\t' + y_val_pred[i])\n",
    "    print('True:\\t\\t' + detok(y_val[i]))"
   ]
  },
  {
   "cell_type": "markdown",
   "metadata": {
    "collapsed": true
   },
   "source": [
    "## Test loading models in a new session"
   ]
  },
  {
   "cell_type": "code",
   "execution_count": 6,
   "metadata": {
    "collapsed": false,
    "scrolled": true
   },
   "outputs": [],
   "source": [
    "# Load trained model\n",
    "model = load_model(os.path.join(model_path, 'translate-keras.h5'), custom_objects={'softmax_axis_1': softmax_axis_1, 't': 0})"
   ]
  },
  {
   "cell_type": "code",
   "execution_count": 15,
   "metadata": {
    "collapsed": false
   },
   "outputs": [
    {
     "name": "stdout",
     "output_type": "stream",
     "text": [
      "_________________________________________________________________\n",
      "Layer (type)                 Output Shape              Param #   \n",
      "=================================================================\n",
      "X (InputLayer)               (None, 20)                0         \n",
      "_________________________________________________________________\n",
      "embedding_1 (Embedding)      (None, 20, 256)           2173184   \n",
      "_________________________________________________________________\n",
      "lstm_1 (LSTM)                [(None, 20, 128), (None,  197120    \n",
      "=================================================================\n",
      "Total params: 2,370,304\n",
      "Trainable params: 2,370,304\n",
      "Non-trainable params: 0\n",
      "_________________________________________________________________\n"
     ]
    }
   ],
   "source": [
    "# Extract encoder\n",
    "X = Input(shape=(max_len, ), name='X')\n",
    "encoder = Model(X, encode(X, model.get_layer('embedding_1'), model.get_layer('lstm_1')))\n",
    "encoder.summary()"
   ]
  },
  {
   "cell_type": "code",
   "execution_count": 21,
   "metadata": {
    "collapsed": false
   },
   "outputs": [
    {
     "name": "stdout",
     "output_type": "stream",
     "text": [
      "__________________________________________________________________________________________________\n",
      "Layer (type)                    Output Shape         Param #     Connected to                     \n",
      "==================================================================================================\n",
      "s_dec_prev (InputLayer)         (None, 128)          0                                            \n",
      "__________________________________________________________________________________________________\n",
      "a_enc (InputLayer)              (None, 20, 128)      0                                            \n",
      "__________________________________________________________________________________________________\n",
      "repeat_vector_1 (RepeatVector)  (None, 20, 128)      0           s_dec_prev[0][0]                 \n",
      "__________________________________________________________________________________________________\n",
      "concatenate_1 (Concatenate)     (None, 20, 256)      0           a_enc[0][0]                      \n",
      "                                                                 repeat_vector_1[20][0]           \n",
      "__________________________________________________________________________________________________\n",
      "dense_1 (Dense)                 (None, 20, 1)        257         concatenate_1[20][0]             \n",
      "__________________________________________________________________________________________________\n",
      "attention_weights (Activation)  (None, 20, 1)        0           dense_1[20][0]                   \n",
      "__________________________________________________________________________________________________\n",
      "d_in (InputLayer)               (None, 1)            0                                            \n",
      "__________________________________________________________________________________________________\n",
      "context (Dot)                   (None, 1, 128)       0           attention_weights[20][0]         \n",
      "                                                                 a_enc[0][0]                      \n",
      "__________________________________________________________________________________________________\n",
      "embedding_2 (Embedding)         (None, 1, 256)       3717120     d_in[0][0]                       \n",
      "__________________________________________________________________________________________________\n",
      "concatenate_2 (Concatenate)     (None, 1, 384)       0           context[20][0]                   \n",
      "                                                                 embedding_2[20][0]               \n",
      "__________________________________________________________________________________________________\n",
      "c_dec_prev (InputLayer)         (None, 128)          0                                            \n",
      "__________________________________________________________________________________________________\n",
      "lstm_2 (LSTM)                   [(None, 128), (None, 262656      concatenate_2[20][0]             \n",
      "                                                                 s_dec_prev[0][0]                 \n",
      "                                                                 c_dec_prev[0][0]                 \n",
      "__________________________________________________________________________________________________\n",
      "dense_2 (Dense)                 (None, 14520)        1873080     lstm_2[20][1]                    \n",
      "==================================================================================================\n",
      "Total params: 5,853,113\n",
      "Trainable params: 5,853,113\n",
      "Non-trainable params: 0\n",
      "__________________________________________________________________________________________________\n"
     ]
    }
   ],
   "source": [
    "# Extract decoder\n",
    "hidden_size_enc = 128\n",
    "hidden_size_dec = 128\n",
    "a_enc = Input(shape=(max_len, hidden_size_enc), name='a_enc')\n",
    "s_dec_prev = Input(shape=(hidden_size_dec, ), name='s_dec_prev')\n",
    "c_dec_prev = Input(shape=(hidden_size_dec, ), name='c_dec_prev')\n",
    "d_in = Input(shape=(1, ), name='d_in')\n",
    "\n",
    "repeator_attn = model.get_layer('repeat_vector_1')\n",
    "concatenator_attn = model.get_layer('concatenate_1')\n",
    "densor_attn = model.get_layer('dense_1')\n",
    "activator_attn = model.get_layer('attention_weights')\n",
    "dotor_attn = model.get_layer('context')\n",
    "\n",
    "y_embed_layer = model.get_layer('embedding_2')\n",
    "concatenator_post_attn = model.get_layer('concatenate_2')\n",
    "lstm_post_attn = model.get_layer('lstm_2')\n",
    "densor_post_attn = model.get_layer('dense_2')\n",
    "\n",
    "decoder = Model([a_enc, s_dec_prev, c_dec_prev, d_in], one_step_decode(a_enc, s_dec_prev, c_dec_prev, d_in))\n",
    "decoder.summary()"
   ]
  },
  {
   "cell_type": "code",
   "execution_count": 34,
   "metadata": {
    "collapsed": false
   },
   "outputs": [],
   "source": [
    "# Test inference with validation data\n",
    "y_val_pred_head = decode_sequence(X_ix_val[:5])"
   ]
  },
  {
   "cell_type": "code",
   "execution_count": 36,
   "metadata": {
    "collapsed": false
   },
   "outputs": [
    {
     "name": "stdout",
     "output_type": "stream",
     "text": [
      "tom a dit que son plan n'était pas partie.\n",
      "un _unk_ _unk_ est _unk_ de ne plus que tous les _unk_.\n",
      "puis - je avoir une bière, s'il vous plaît?\n",
      "je veux vous poser une question une qui te sens.\n",
      "je ne peux pas voir avec les femmes qui se sont _unk_.\n"
     ]
    }
   ],
   "source": [
    "for p in y_val_pred_head:\n",
    "    print(p)"
   ]
  },
  {
   "cell_type": "code",
   "execution_count": null,
   "metadata": {
    "collapsed": true
   },
   "outputs": [],
   "source": []
  }
 ],
 "metadata": {
  "kernelspec": {
   "display_name": "Python 2 (General DS)",
   "language": "python",
   "name": "python2"
  },
  "language_info": {
   "codemirror_mode": {
    "name": "ipython",
    "version": 2
   },
   "file_extension": ".py",
   "mimetype": "text/x-python",
   "name": "python",
   "nbconvert_exporter": "python",
   "pygments_lexer": "ipython2",
   "version": "2.7.10"
  }
 },
 "nbformat": 4,
 "nbformat_minor": 2
}
