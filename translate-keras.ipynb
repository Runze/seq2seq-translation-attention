{
 "cells": [
  {
   "cell_type": "code",
   "execution_count": 1,
   "metadata": {
    "collapsed": false
   },
   "outputs": [
    {
     "name": "stderr",
     "output_type": "stream",
     "text": [
      "Using TensorFlow backend.\n"
     ]
    }
   ],
   "source": [
    "import io\n",
    "import re\n",
    "import numpy as np\n",
    "import pandas as pd\n",
    "import matplotlib.pyplot as plt\n",
    "import seaborn as sns\n",
    "import itertools\n",
    "import pickle\n",
    "from collections import Counter, defaultdict\n",
    "import spacy\n",
    "from sklearn.model_selection import train_test_split\n",
    "from nltk.tokenize.treebank import TreebankWordDetokenizer as Detok\n",
    "from nltk.translate.bleu_score import corpus_bleu\n",
    "from sklearn.manifold import TSNE\n",
    "from sklearn.decomposition import PCA\n",
    "from scipy.spatial.distance import cosine\n",
    "\n",
    "import tensorflow as tf\n",
    "from keras.preprocessing.sequence import pad_sequences\n",
    "from keras.utils import to_categorical\n",
    "from keras import Input, layers\n",
    "from keras.activations import softmax\n",
    "from keras.models import Sequential, Model, load_model\n",
    "from keras.optimizers import Adam\n",
    "from keras.callbacks import ReduceLROnPlateau, EarlyStopping, ModelCheckpoint, Callback\n",
    "from keras import backend as K\n",
    "\n",
    "import multiprocessing\n",
    "from joblib import Parallel, delayed\n",
    "num_cores = multiprocessing.cpu_count()"
   ]
  },
  {
   "cell_type": "code",
   "execution_count": 2,
   "metadata": {
    "collapsed": true
   },
   "outputs": [],
   "source": [
    "%matplotlib inline\n",
    "%reload_ext autoreload\n",
    "%autoreload 2\n",
    "%config InlineBackend.figure_format = 'retina'\n",
    "%load_ext rpy2.ipython"
   ]
  },
  {
   "cell_type": "code",
   "execution_count": 3,
   "metadata": {
    "collapsed": true
   },
   "outputs": [],
   "source": [
    "data_path = '../data'\n",
    "model_path = '../model'"
   ]
  },
  {
   "cell_type": "code",
   "execution_count": 4,
   "metadata": {
    "collapsed": false
   },
   "outputs": [],
   "source": [
    "# Translation data\n",
    "# http://www.manythings.org/anki/\n",
    "with io.open(os.path.join(data_path, 'fra-eng/fra.txt'), encoding='utf-8') as f:\n",
    "    lines = f.read().split('\\n')\n",
    "\n",
    "pairs = [l.split('\\t') for l in lines if l != '']\n",
    "pairs = [[re.sub(u\"\\u202f|\\u2009\", \" \", s) for s in p] for p in pairs]\n",
    "pairs = [[re.sub(u\"\\u2019\", \"'\", s) for s in p] for p in pairs]"
   ]
  },
  {
   "cell_type": "code",
   "execution_count": 5,
   "metadata": {
    "collapsed": false
   },
   "outputs": [
    {
     "data": {
      "text/plain": [
       "(154883, 154883)"
      ]
     },
     "execution_count": 5,
     "metadata": {},
     "output_type": "execute_result"
    }
   ],
   "source": [
    "X, y = np.array(pairs)[:, 0], np.array(pairs)[:, 1]\n",
    "len(X), len(y)"
   ]
  },
  {
   "cell_type": "code",
   "execution_count": 6,
   "metadata": {
    "collapsed": false
   },
   "outputs": [
    {
     "data": {
      "text/plain": [
       "[(u'Go.', u'Va !'),\n",
       " (u'Run!', u'Cours !'),\n",
       " (u'Run!', u'Courez !'),\n",
       " (u'Fire!', u'Au feu !'),\n",
       " (u'Help!', u\"\\xc0 l'aide !\")]"
      ]
     },
     "execution_count": 6,
     "metadata": {},
     "output_type": "execute_result"
    }
   ],
   "source": [
    "zip(X, y)[:5]"
   ]
  },
  {
   "cell_type": "markdown",
   "metadata": {},
   "source": [
    "# Extract features"
   ]
  },
  {
   "cell_type": "code",
   "execution_count": 7,
   "metadata": {
    "collapsed": false
   },
   "outputs": [],
   "source": [
    "# Tokenize\n",
    "spacy_tokenizer_en = spacy.load('en', disable=['tagger', 'parser', 'ner', 'textcat'])\n",
    "spacy_tokenizer_fr = spacy.load('fr', disable=['tagger', 'parser', 'ner', 'textcat'])"
   ]
  },
  {
   "cell_type": "code",
   "execution_count": 8,
   "metadata": {
    "collapsed": true
   },
   "outputs": [],
   "source": [
    "def tokenize(msgs, tokenizer, batch_size=10000, n_threads=num_cores):\n",
    "    msgs = [unicode(msg.lower()) for msg in msgs]\n",
    "    toks = []\n",
    "    for msg in tokenizer.pipe(msgs, batch_size=batch_size, n_threads=n_threads):\n",
    "        toks.append([tok.text for tok in msg])\n",
    "    return toks"
   ]
  },
  {
   "cell_type": "code",
   "execution_count": 9,
   "metadata": {
    "collapsed": false,
    "scrolled": true
   },
   "outputs": [
    {
     "data": {
      "text/plain": [
       "154883"
      ]
     },
     "execution_count": 9,
     "metadata": {},
     "output_type": "execute_result"
    }
   ],
   "source": [
    "# Tokenize source sentences\n",
    "X = tokenize(X, spacy_tokenizer_en)\n",
    "len(X)"
   ]
  },
  {
   "cell_type": "code",
   "execution_count": 10,
   "metadata": {
    "collapsed": false
   },
   "outputs": [
    {
     "data": {
      "text/plain": [
       "154883"
      ]
     },
     "execution_count": 10,
     "metadata": {},
     "output_type": "execute_result"
    }
   ],
   "source": [
    "# Tokenize target sentences\n",
    "y = tokenize(y, spacy_tokenizer_fr)\n",
    "len(y)"
   ]
  },
  {
   "cell_type": "code",
   "execution_count": 11,
   "metadata": {
    "collapsed": false
   },
   "outputs": [
    {
     "data": {
      "text/plain": [
       "[([u'go', u'.'], [u'va', u'!']),\n",
       " ([u'run', u'!'], [u'cours', u'!']),\n",
       " ([u'run', u'!'], [u'courez', u'!']),\n",
       " ([u'fire', u'!'], [u'au', u'feu', u'!']),\n",
       " ([u'help', u'!'], [u'\\xe0', u\"l'\", u'aide', u'!'])]"
      ]
     },
     "execution_count": 11,
     "metadata": {},
     "output_type": "execute_result"
    }
   ],
   "source": [
    "zip(X, y)[:5]"
   ]
  },
  {
   "cell_type": "code",
   "execution_count": 12,
   "metadata": {
    "collapsed": false
   },
   "outputs": [
    {
     "data": {
      "text/plain": [
       "154165"
      ]
     },
     "execution_count": 12,
     "metadata": {},
     "output_type": "execute_result"
    }
   ],
   "source": [
    "# For ease of training, only keep sentences shorter than 20 words\n",
    "X_len = [len(msg) for msg in X]\n",
    "y_len = [len(msg) for msg in y]\n",
    "\n",
    "min_len = 2\n",
    "max_len = 20\n",
    "\n",
    "X_to_keep_ix = np.where((np.array(X_len) >= min_len) & (np.array(X_len) <= max_len))[0]\n",
    "y_to_keep_ix = np.where((np.array(y_len) >= min_len) & (np.array(y_len) <= max_len))[0]\n",
    "\n",
    "to_keep_ix = np.intersect1d(X_to_keep_ix, y_to_keep_ix)\n",
    "len(to_keep_ix)"
   ]
  },
  {
   "cell_type": "code",
   "execution_count": 13,
   "metadata": {
    "collapsed": false
   },
   "outputs": [
    {
     "data": {
      "text/plain": [
       "(154165, 154165)"
      ]
     },
     "execution_count": 13,
     "metadata": {},
     "output_type": "execute_result"
    }
   ],
   "source": [
    "X = np.array(X)[to_keep_ix]\n",
    "y = np.array(y)[to_keep_ix]\n",
    "\n",
    "len(X), len(y)"
   ]
  },
  {
   "cell_type": "code",
   "execution_count": 14,
   "metadata": {
    "collapsed": false
   },
   "outputs": [
    {
     "data": {
      "text/plain": [
       "(123332, 30833, 123332, 30833)"
      ]
     },
     "execution_count": 14,
     "metadata": {},
     "output_type": "execute_result"
    }
   ],
   "source": [
    "# Split into training and validation sets\n",
    "X_trn, X_val, y_trn, y_val = train_test_split(X, y, test_size=.2, random_state=0)\n",
    "len(X_trn), len(X_val), len(y_trn), len(y_val)"
   ]
  },
  {
   "cell_type": "code",
   "execution_count": 15,
   "metadata": {
    "collapsed": false
   },
   "outputs": [
    {
     "data": {
      "text/plain": [
       "(926993, 1025792)"
      ]
     },
     "execution_count": 15,
     "metadata": {},
     "output_type": "execute_result"
    }
   ],
   "source": [
    "# Create mappers (using training data)\n",
    "X_toks_trn = list(itertools.chain(*X_trn))\n",
    "y_toks_trn = list(itertools.chain(*y_trn))\n",
    "\n",
    "len(X_toks_trn), len(y_toks_trn)"
   ]
  },
  {
   "cell_type": "code",
   "execution_count": 16,
   "metadata": {
    "collapsed": true
   },
   "outputs": [],
   "source": [
    "UNK = '_unk_'\n",
    "PAD = '_pad_'\n",
    "\n",
    "def create_mapper(toks, max_vocab=100000, min_freq=1, UNK=UNK, PAD=PAD):\n",
    "    \"\"\"Create mappers between tokens and numerical indices.\n",
    "\n",
    "    Parameters\n",
    "    ----------\n",
    "    toks : A list containing all raw tokens (before deduping).\n",
    "\n",
    "    max_vocab : The maximum vocabulary size.\n",
    "\n",
    "    min_freq : The minimum frequency for a token to be included in the vocabulary.\n",
    "\n",
    "    UNK : Special token for unknown word (default to '_unk_').\n",
    "\n",
    "    PAD : Special token for paddings (default to '_pad_').\n",
    "\n",
    "    Returns\n",
    "    -------\n",
    "    stoi : A dictionary that maps tokens to indices.\n",
    "\n",
    "    itos : A list that maps indices to tokens.\n",
    "    \"\"\"\n",
    "    \n",
    "    toks_freq = Counter(toks)\n",
    "    \n",
    "    itos = [s for s, c in toks_freq.most_common(max_vocab) if c >= min_freq]\n",
    "    \n",
    "    if PAD:\n",
    "        if UNK:\n",
    "            itos.insert(0, UNK)\n",
    "            itos.insert(0, PAD)  # Note the index for UNK is 1 and the index for PAD is 0\n",
    "\n",
    "            stoi = defaultdict(lambda: 1, {v: k for k, v in enumerate(itos)})\n",
    "        else:\n",
    "            itos.insert(0, PAD)  # Note the index for PAD is 0\n",
    "            stoi = {v: k for k, v in enumerate(itos)}\n",
    "    else:\n",
    "        if UNK:\n",
    "            itos.insert(0, UNK)  # Note the index for UNK is 0\n",
    "            stoi = defaultdict(lambda: 0, {v: k for k, v in enumerate(itos)})\n",
    "        else:\n",
    "            stoi = {v: k for k, v in enumerate(itos)}\n",
    "    \n",
    "    return stoi, itos"
   ]
  },
  {
   "cell_type": "code",
   "execution_count": 17,
   "metadata": {
    "collapsed": false
   },
   "outputs": [
    {
     "data": {
      "text/plain": [
       "(12633, 21654)"
      ]
     },
     "execution_count": 17,
     "metadata": {},
     "output_type": "execute_result"
    }
   ],
   "source": [
    "X_stoi, X_itos = create_mapper(X_toks_trn)\n",
    "y_stoi, y_itos = create_mapper(y_toks_trn)\n",
    "\n",
    "len(X_itos), len(y_itos)"
   ]
  },
  {
   "cell_type": "code",
   "execution_count": 18,
   "metadata": {
    "collapsed": false
   },
   "outputs": [
    {
     "data": {
      "text/plain": [
       "['_pad_', '_unk_', u'.', u'i', u'you', u'to', u'the', u'?', u'a', u\"n't\"]"
      ]
     },
     "execution_count": 18,
     "metadata": {},
     "output_type": "execute_result"
    }
   ],
   "source": [
    "X_itos[:10]"
   ]
  },
  {
   "cell_type": "code",
   "execution_count": 19,
   "metadata": {
    "collapsed": false
   },
   "outputs": [
    {
     "data": {
      "text/plain": [
       "['_pad_', '_unk_', u'.', u'je', u'de', u'?', u'pas', u'vous', u'est', u'que']"
      ]
     },
     "execution_count": 19,
     "metadata": {},
     "output_type": "execute_result"
    }
   ],
   "source": [
    "y_itos[:10]"
   ]
  },
  {
   "cell_type": "code",
   "execution_count": 20,
   "metadata": {
    "collapsed": true
   },
   "outputs": [],
   "source": [
    "# Add GO (only needed for the target mappers)\n",
    "GO = '_go_'\n",
    "\n",
    "y_stoi[GO] = len(y_stoi)\n",
    "y_itos.append(GO)"
   ]
  },
  {
   "cell_type": "code",
   "execution_count": 21,
   "metadata": {
    "collapsed": true
   },
   "outputs": [],
   "source": [
    "# Encode text features\n",
    "def encode_msg(toks, stoi, max_len, padding_pos='post', truncating='pre', padding_token=PAD):\n",
    "    # Index\n",
    "    toks_id = [[stoi[tok] for tok in msg] for msg in toks]\n",
    "    \n",
    "    # Pad\n",
    "    toks_id_pad = pad_sequences(toks_id, max_len, padding=padding_pos, truncating=truncating, value=stoi[padding_token])\n",
    "    \n",
    "    return toks_id_pad"
   ]
  },
  {
   "cell_type": "code",
   "execution_count": 22,
   "metadata": {
    "collapsed": false
   },
   "outputs": [
    {
     "data": {
      "text/plain": [
       "((123332, 20), (123332, 20), (30833, 20), (30833, 20))"
      ]
     },
     "execution_count": 22,
     "metadata": {},
     "output_type": "execute_result"
    }
   ],
   "source": [
    "X_ix_trn = encode_msg(X_trn, X_stoi, max_len)\n",
    "y_ix_trn = encode_msg(y_trn, y_stoi, max_len)\n",
    "X_ix_val = encode_msg(X_val, X_stoi, max_len)\n",
    "y_ix_val = encode_msg(y_val, y_stoi, max_len)\n",
    "\n",
    "X_ix_trn.shape, y_ix_trn.shape, X_ix_val.shape, y_ix_val.shape"
   ]
  },
  {
   "cell_type": "code",
   "execution_count": 23,
   "metadata": {
    "collapsed": false
   },
   "outputs": [
    {
     "data": {
      "text/plain": [
       "(array([u'delivery', u'is', u'not', u'included', u'in', u'the', u'price',\n",
       "        u'.', u'_pad_', u'_pad_', u'_pad_', u'_pad_', u'_pad_', u'_pad_',\n",
       "        u'_pad_', u'_pad_', u'_pad_', u'_pad_', u'_pad_', u'_pad_'],\n",
       "       dtype='<U17'),\n",
       " array([u'la', u'livraison', u\"n'\", u'est', u'pas', u'comprise', u'dans',\n",
       "        u'le', u'prix', u'.', u'_pad_', u'_pad_', u'_pad_', u'_pad_',\n",
       "        u'_pad_', u'_pad_', u'_pad_', u'_pad_', u'_pad_', u'_pad_'],\n",
       "       dtype='<U22'))"
      ]
     },
     "execution_count": 23,
     "metadata": {},
     "output_type": "execute_result"
    }
   ],
   "source": [
    "# Sanity check\n",
    "np.array(X_itos)[X_ix_trn[0]], np.array(y_itos)[y_ix_trn[0]]"
   ]
  },
  {
   "cell_type": "code",
   "execution_count": 24,
   "metadata": {
    "collapsed": false
   },
   "outputs": [
    {
     "data": {
      "text/plain": [
       "(array([u'i', u'just', u'do', u\"n't\", u'want', u'you', u'making', u'any',\n",
       "        u'mistakes', u'.', u'_pad_', u'_pad_', u'_pad_', u'_pad_',\n",
       "        u'_pad_', u'_pad_', u'_pad_', u'_pad_', u'_pad_', u'_pad_'],\n",
       "       dtype='<U17'),\n",
       " array([u'je', u'ne', u'veux', u'tout', u'simplement', u'pas', u'que',\n",
       "        u'tu', u'commettes', u\"d'\", u'erreurs', u'.', u'_pad_', u'_pad_',\n",
       "        u'_pad_', u'_pad_', u'_pad_', u'_pad_', u'_pad_', u'_pad_'],\n",
       "       dtype='<U22'))"
      ]
     },
     "execution_count": 24,
     "metadata": {},
     "output_type": "execute_result"
    }
   ],
   "source": [
    "np.array(X_itos)[X_ix_val[0]], np.array(y_itos)[y_ix_val[0]]"
   ]
  },
  {
   "cell_type": "code",
   "execution_count": 25,
   "metadata": {
    "collapsed": false
   },
   "outputs": [],
   "source": [
    "# Save processed data\n",
    "data = {\n",
    "    # Mappers\n",
    "    'X_stoi': X_stoi,\n",
    "    'X_itos': X_itos,\n",
    "    'y_stoi': y_stoi,\n",
    "    'y_itos': y_itos,\n",
    "    \n",
    "    # Original data\n",
    "    'X_trn': X_trn,\n",
    "    'X_val': X_val,\n",
    "    'y_trn': y_trn,\n",
    "    'y_val': y_val,\n",
    "    \n",
    "    # Processed data\n",
    "    'X_ix_trn': X_ix_trn,\n",
    "    'y_ix_trn': y_ix_trn,\n",
    "    'X_ix_val': X_ix_val,\n",
    "    'y_ix_val': y_ix_val\n",
    "}\n",
    "\n",
    "pickle.dump(data, open(os.path.join(data_path, 'translate-data.pkl'), 'wb'))"
   ]
  },
  {
   "cell_type": "code",
   "execution_count": 4,
   "metadata": {
    "collapsed": true
   },
   "outputs": [],
   "source": [
    "# Load processed data (in a new session)\n",
    "data = pickle.load(open(os.path.join(data_path, 'translate-data.pkl'), 'rb'))\n",
    "\n",
    "X_stoi, X_itos, y_stoi, y_itos = data['X_stoi'], data['X_itos'], data['y_stoi'], data['y_itos']\n",
    "X_trn, X_val, y_trn, y_val = data['X_trn'], data['X_val'], data['y_trn'], data['y_val']\n",
    "X_ix_trn, X_ix_val, y_ix_trn, y_ix_val = data['X_ix_trn'], data['X_ix_val'], data['y_ix_trn'], data['y_ix_val']\n",
    "\n",
    "max_len = 20\n",
    "\n",
    "UNK = '_unk_'\n",
    "PAD = '_pad_'\n",
    "GO = '_go_'"
   ]
  },
  {
   "cell_type": "code",
   "execution_count": 5,
   "metadata": {
    "collapsed": true
   },
   "outputs": [],
   "source": [
    "# Load pre-trained embeddings\n",
    "X_ft_embed = pickle.load(open(os.path.join(data_path, 'X_ft_embed.pkl'), 'rb'))\n",
    "y_ft_embed = pickle.load(open(os.path.join(data_path, 'y_ft_embed.pkl'), 'rb'))"
   ]
  },
  {
   "cell_type": "markdown",
   "metadata": {},
   "source": [
    "# Create models"
   ]
  },
  {
   "cell_type": "code",
   "execution_count": 23,
   "metadata": {
    "collapsed": true
   },
   "outputs": [],
   "source": [
    "K.clear_session()"
   ]
  },
  {
   "cell_type": "markdown",
   "metadata": {},
   "source": [
    "## Encoder"
   ]
  },
  {
   "cell_type": "code",
   "execution_count": 24,
   "metadata": {
    "collapsed": true
   },
   "outputs": [],
   "source": [
    "# Define hidden size\n",
    "hidden_size_enc = 256\n",
    "hidden_size_dec = 256"
   ]
  },
  {
   "cell_type": "code",
   "execution_count": 25,
   "metadata": {
    "collapsed": false
   },
   "outputs": [],
   "source": [
    "# Define layers\n",
    "txt_embed_size = 300\n",
    "\n",
    "X_embed_layer = layers.Embedding(input_dim=len(X_itos), output_dim=txt_embed_size, weights=[X_ft_embed], name='X_embed_layer')\n",
    "lstm_enc = layers.LSTM(hidden_size_enc, return_sequences=True, return_state=True, name='lstm_enc')"
   ]
  },
  {
   "cell_type": "code",
   "execution_count": 26,
   "metadata": {
    "collapsed": false
   },
   "outputs": [],
   "source": [
    "# Input tensor\n",
    "X = Input(shape=(max_len, ), name='X')"
   ]
  },
  {
   "cell_type": "code",
   "execution_count": 27,
   "metadata": {
    "collapsed": true
   },
   "outputs": [],
   "source": [
    "# Encode\n",
    "def encode(X):\n",
    "    X_emb = X_embed_layer(X)\n",
    "    a_enc, h_enc, c_enc = lstm_enc(X_emb)\n",
    "    return a_enc, h_enc, c_enc"
   ]
  },
  {
   "cell_type": "markdown",
   "metadata": {},
   "source": [
    "## Decoder without attention"
   ]
  },
  {
   "cell_type": "markdown",
   "metadata": {},
   "source": [
    "### Decoder"
   ]
  },
  {
   "cell_type": "code",
   "execution_count": 11,
   "metadata": {
    "collapsed": false
   },
   "outputs": [],
   "source": [
    "# Define layers\n",
    "y_embed_layer = layers.Embedding(input_dim=len(y_itos), output_dim=txt_embed_size, weights=[y_ft_embed], name='y_embed_layer')\n",
    "lstm_dec_wo_attn = layers.LSTM(hidden_size_dec, return_sequences=True, return_state=True, name='lstm_dec_wo_attn')\n",
    "densor_dec = layers.Dense(len(y_itos), activation='softmax', name='densor_dec')"
   ]
  },
  {
   "cell_type": "code",
   "execution_count": 12,
   "metadata": {
    "collapsed": false
   },
   "outputs": [],
   "source": [
    "# Decoder input used in training (i.e., \"GO\" + `y` shifted by 1)\n",
    "in_dec = Input(shape=(max_len, ), name='in_dec')"
   ]
  },
  {
   "cell_type": "code",
   "execution_count": 13,
   "metadata": {
    "collapsed": true
   },
   "outputs": [],
   "source": [
    "def decode_wo_attn(in_dec, h_enc, c_enc):\n",
    "    in_dec_emb = y_embed_layer(in_dec)\n",
    "    \n",
    "    # Feed into decoder LSTM\n",
    "    a_dec, h_dec, c_dec = lstm_dec_wo_attn(in_dec_emb, initial_state=[h_enc, c_enc])\n",
    "    \n",
    "    # Feed the output into a dense layer with softmax\n",
    "    out_dec = densor_dec(a_dec)\n",
    "    return out_dec, h_dec, c_dec"
   ]
  },
  {
   "cell_type": "markdown",
   "metadata": {},
   "source": [
    "### Put together"
   ]
  },
  {
   "cell_type": "code",
   "execution_count": 14,
   "metadata": {
    "collapsed": false
   },
   "outputs": [],
   "source": [
    "# Encode\n",
    "a_enc, h_enc, c_enc = encode(X)"
   ]
  },
  {
   "cell_type": "code",
   "execution_count": 15,
   "metadata": {
    "collapsed": true
   },
   "outputs": [],
   "source": [
    "# Decode\n",
    "out_dec, _, _ = decode_wo_attn(in_dec, h_enc, c_enc)"
   ]
  },
  {
   "cell_type": "code",
   "execution_count": 16,
   "metadata": {
    "collapsed": false
   },
   "outputs": [
    {
     "name": "stdout",
     "output_type": "stream",
     "text": [
      "__________________________________________________________________________________________________\n",
      "Layer (type)                    Output Shape         Param #     Connected to                     \n",
      "==================================================================================================\n",
      "X (InputLayer)                  (None, 20)           0                                            \n",
      "__________________________________________________________________________________________________\n",
      "in_dec (InputLayer)             (None, 20)           0                                            \n",
      "__________________________________________________________________________________________________\n",
      "X_embed_layer (Embedding)       (None, 20, 300)      3789900     X[0][0]                          \n",
      "__________________________________________________________________________________________________\n",
      "y_embed_layer (Embedding)       (None, 20, 300)      6496500     in_dec[0][0]                     \n",
      "__________________________________________________________________________________________________\n",
      "lstm_enc (LSTM)                 [(None, 20, 256), (N 570368      X_embed_layer[0][0]              \n",
      "__________________________________________________________________________________________________\n",
      "lstm_dec_wo_attn (LSTM)         [(None, 20, 256), (N 570368      y_embed_layer[0][0]              \n",
      "                                                                 lstm_enc[0][1]                   \n",
      "                                                                 lstm_enc[0][2]                   \n",
      "__________________________________________________________________________________________________\n",
      "densor_dec (Dense)              (None, 20, 21655)    5565335     lstm_dec_wo_attn[0][0]           \n",
      "==================================================================================================\n",
      "Total params: 16,992,471\n",
      "Trainable params: 16,992,471\n",
      "Non-trainable params: 0\n",
      "__________________________________________________________________________________________________\n"
     ]
    }
   ],
   "source": [
    "# Put together\n",
    "model_wo_attn = Model(inputs=[X, in_dec], outputs=out_dec)\n",
    "model_wo_attn.summary()"
   ]
  },
  {
   "cell_type": "code",
   "execution_count": 17,
   "metadata": {
    "collapsed": true
   },
   "outputs": [],
   "source": [
    "model_wo_attn.compile(optimizer='adam', loss='sparse_categorical_crossentropy', metrics=['sparse_categorical_accuracy'])"
   ]
  },
  {
   "cell_type": "markdown",
   "metadata": {},
   "source": [
    "## Decoder with attention"
   ]
  },
  {
   "cell_type": "markdown",
   "metadata": {},
   "source": [
    "### Attention layer"
   ]
  },
  {
   "cell_type": "code",
   "execution_count": 28,
   "metadata": {
    "collapsed": false
   },
   "outputs": [],
   "source": [
    "# Define layers\n",
    "attn_repeator = layers.RepeatVector(max_len, name='attn_repeator')\n",
    "attn_concatenator = layers.Concatenate(name='attn_concatenator')\n",
    "attn_weights_computer = layers.Dense(1, activation='tanh', name='attn_weights_computer')\n",
    "\n",
    "def softmax_axis_1(x):\n",
    "    return softmax(x, axis=1)\n",
    "attn_weights_normalizer = layers.Activation(softmax_axis_1, name='attn_weights_normalizer')\n",
    "\n",
    "attn_context_computer = layers.Dot(axes=1, name='attn_context_computer')"
   ]
  },
  {
   "cell_type": "code",
   "execution_count": 29,
   "metadata": {
    "collapsed": true
   },
   "outputs": [],
   "source": [
    "def one_step_attn(a_enc, h_dec_prev):\n",
    "    # Repeat `h_dec_prev`\n",
    "    h_dec_prev_rep = attn_repeator(h_dec_prev)  # (None, timesteps, hidden_size_dec)\n",
    "    \n",
    "    # Compute the attention weights\n",
    "    h_dec_prev_w_a_enc = attn_concatenator([h_dec_prev_rep, a_enc])  # (None, timesteps, hidden_size_dec + hidden_size_enc)\n",
    "    attn_weights = attn_weights_computer(h_dec_prev_w_a_enc)  # (None, timesteps, 1)\n",
    "    \n",
    "    # Normalize all the weights using a softmax (the normalization is applied in the timestep's axis)\n",
    "    attn_weights_norm = attn_weights_normalizer(attn_weights)  # (None, timesteps, 1)\n",
    "    \n",
    "    # Use the normalized weights to compute the weighted-average encoder outputs (i.e., the context)\n",
    "    attn_context = attn_context_computer([attn_weights_norm, a_enc])  # (None, 1, hidden_size_dec)\n",
    "    \n",
    "    return attn_context, attn_weights_norm"
   ]
  },
  {
   "cell_type": "markdown",
   "metadata": {},
   "source": [
    "### Decoder"
   ]
  },
  {
   "cell_type": "code",
   "execution_count": 30,
   "metadata": {
    "collapsed": true
   },
   "outputs": [],
   "source": [
    "y_embed_layer = layers.Embedding(input_dim=len(y_itos), output_dim=txt_embed_size, weights=[y_ft_embed], name='y_embed_layer')\n",
    "context_input_concatenator = layers.Concatenate(name='context_input_concatenator')\n",
    "densor_dec_0 = layers.Dense(hidden_size_dec, name='densor_dec_0')\n",
    "lstm_dec_w_attn = layers.LSTM(hidden_size_dec, return_sequences=False, return_state=True, name='lstm_dec_w_attn')\n",
    "densor_dec_1 = layers.Dense(len(y_itos), activation='softmax', name='densor_dec_1')"
   ]
  },
  {
   "cell_type": "code",
   "execution_count": 31,
   "metadata": {
    "collapsed": true
   },
   "outputs": [],
   "source": [
    "# One-step decoder\n",
    "def decode_w_attn(in_dec, a_enc, h_dec_prev, c_dec_prev):\n",
    "    # Compute context vector using the attention layer\n",
    "    attn_context, attn_weights_norm = one_step_attn(a_enc, h_dec_prev)\n",
    "    \n",
    "    # Concatenate with the decoder input\n",
    "    in_dec_embed = y_embed_layer(in_dec)\n",
    "    attn_context_w_input = context_input_concatenator([attn_context, in_dec_embed])\n",
    "    \n",
    "    # Reduce dimension to the original hidden size\n",
    "    attn_context_w_input = densor_dec_0(attn_context_w_input)\n",
    "    \n",
    "    # Feed into decoder LSTM\n",
    "    a_dec, h_dec, c_dec = lstm_dec_w_attn(attn_context_w_input, initial_state=[h_dec_prev, c_dec_prev])\n",
    "    \n",
    "    # Feed the output into a dense layer with softmax\n",
    "    out_dec = densor_dec_1(a_dec)\n",
    "    return out_dec, h_dec, c_dec, attn_weights_norm"
   ]
  },
  {
   "cell_type": "markdown",
   "metadata": {},
   "source": [
    "###  Put together"
   ]
  },
  {
   "cell_type": "code",
   "execution_count": 32,
   "metadata": {
    "collapsed": true
   },
   "outputs": [],
   "source": [
    "# Encode\n",
    "a_enc, h_enc, c_enc = encode(X)"
   ]
  },
  {
   "cell_type": "code",
   "execution_count": 33,
   "metadata": {
    "collapsed": false
   },
   "outputs": [],
   "source": [
    "# Decode\n",
    "in_dec_0 = Input(shape=(1, ), name='in_dec_0')  # Decoder starting token (\"_go_\")\n",
    "y = Input(shape=(max_len, ), name='y')\n",
    "y_slicer = layers.Lambda(lambda x: x[:, i:i+1], name='y_slicer')\n",
    "\n",
    "h_dec_prev, c_dec_prev = h_enc, c_enc\n",
    "in_dec = in_dec_0\n",
    "outs_dec = []\n",
    "\n",
    "for i in range(max_len):\n",
    "    out_dec, h_dec, c_dec, _ = decode_w_attn(in_dec, a_enc, h_dec_prev, c_dec_prev)\n",
    "    outs_dec.append(out_dec)\n",
    "    h_dec_prev, c_dec_prev = h_dec, c_dec\n",
    "    in_dec = y_slicer(y)"
   ]
  },
  {
   "cell_type": "code",
   "execution_count": 34,
   "metadata": {
    "collapsed": false
   },
   "outputs": [
    {
     "name": "stdout",
     "output_type": "stream",
     "text": [
      "__________________________________________________________________________________________________\n",
      "Layer (type)                    Output Shape         Param #     Connected to                     \n",
      "==================================================================================================\n",
      "X (InputLayer)                  (None, 20)           0                                            \n",
      "__________________________________________________________________________________________________\n",
      "X_embed_layer (Embedding)       (None, 20, 300)      3789900     X[0][0]                          \n",
      "__________________________________________________________________________________________________\n",
      "lstm_enc (LSTM)                 [(None, 20, 256), (N 570368      X_embed_layer[0][0]              \n",
      "__________________________________________________________________________________________________\n",
      "attn_repeator (RepeatVector)    (None, 20, 256)      0           lstm_enc[0][1]                   \n",
      "                                                                 lstm_dec_w_attn[0][1]            \n",
      "                                                                 lstm_dec_w_attn[1][1]            \n",
      "                                                                 lstm_dec_w_attn[2][1]            \n",
      "                                                                 lstm_dec_w_attn[3][1]            \n",
      "                                                                 lstm_dec_w_attn[4][1]            \n",
      "                                                                 lstm_dec_w_attn[5][1]            \n",
      "                                                                 lstm_dec_w_attn[6][1]            \n",
      "                                                                 lstm_dec_w_attn[7][1]            \n",
      "                                                                 lstm_dec_w_attn[8][1]            \n",
      "                                                                 lstm_dec_w_attn[9][1]            \n",
      "                                                                 lstm_dec_w_attn[10][1]           \n",
      "                                                                 lstm_dec_w_attn[11][1]           \n",
      "                                                                 lstm_dec_w_attn[12][1]           \n",
      "                                                                 lstm_dec_w_attn[13][1]           \n",
      "                                                                 lstm_dec_w_attn[14][1]           \n",
      "                                                                 lstm_dec_w_attn[15][1]           \n",
      "                                                                 lstm_dec_w_attn[16][1]           \n",
      "                                                                 lstm_dec_w_attn[17][1]           \n",
      "                                                                 lstm_dec_w_attn[18][1]           \n",
      "__________________________________________________________________________________________________\n",
      "attn_concatenator (Concatenate) (None, 20, 512)      0           attn_repeator[0][0]              \n",
      "                                                                 lstm_enc[0][0]                   \n",
      "                                                                 attn_repeator[1][0]              \n",
      "                                                                 lstm_enc[0][0]                   \n",
      "                                                                 attn_repeator[2][0]              \n",
      "                                                                 lstm_enc[0][0]                   \n",
      "                                                                 attn_repeator[3][0]              \n",
      "                                                                 lstm_enc[0][0]                   \n",
      "                                                                 attn_repeator[4][0]              \n",
      "                                                                 lstm_enc[0][0]                   \n",
      "                                                                 attn_repeator[5][0]              \n",
      "                                                                 lstm_enc[0][0]                   \n",
      "                                                                 attn_repeator[6][0]              \n",
      "                                                                 lstm_enc[0][0]                   \n",
      "                                                                 attn_repeator[7][0]              \n",
      "                                                                 lstm_enc[0][0]                   \n",
      "                                                                 attn_repeator[8][0]              \n",
      "                                                                 lstm_enc[0][0]                   \n",
      "                                                                 attn_repeator[9][0]              \n",
      "                                                                 lstm_enc[0][0]                   \n",
      "                                                                 attn_repeator[10][0]             \n",
      "                                                                 lstm_enc[0][0]                   \n",
      "                                                                 attn_repeator[11][0]             \n",
      "                                                                 lstm_enc[0][0]                   \n",
      "                                                                 attn_repeator[12][0]             \n",
      "                                                                 lstm_enc[0][0]                   \n",
      "                                                                 attn_repeator[13][0]             \n",
      "                                                                 lstm_enc[0][0]                   \n",
      "                                                                 attn_repeator[14][0]             \n",
      "                                                                 lstm_enc[0][0]                   \n",
      "                                                                 attn_repeator[15][0]             \n",
      "                                                                 lstm_enc[0][0]                   \n",
      "                                                                 attn_repeator[16][0]             \n",
      "                                                                 lstm_enc[0][0]                   \n",
      "                                                                 attn_repeator[17][0]             \n",
      "                                                                 lstm_enc[0][0]                   \n",
      "                                                                 attn_repeator[18][0]             \n",
      "                                                                 lstm_enc[0][0]                   \n",
      "                                                                 attn_repeator[19][0]             \n",
      "                                                                 lstm_enc[0][0]                   \n",
      "__________________________________________________________________________________________________\n",
      "attn_weights_computer (Dense)   (None, 20, 1)        513         attn_concatenator[0][0]          \n",
      "                                                                 attn_concatenator[1][0]          \n",
      "                                                                 attn_concatenator[2][0]          \n",
      "                                                                 attn_concatenator[3][0]          \n",
      "                                                                 attn_concatenator[4][0]          \n",
      "                                                                 attn_concatenator[5][0]          \n",
      "                                                                 attn_concatenator[6][0]          \n",
      "                                                                 attn_concatenator[7][0]          \n",
      "                                                                 attn_concatenator[8][0]          \n",
      "                                                                 attn_concatenator[9][0]          \n",
      "                                                                 attn_concatenator[10][0]         \n",
      "                                                                 attn_concatenator[11][0]         \n",
      "                                                                 attn_concatenator[12][0]         \n",
      "                                                                 attn_concatenator[13][0]         \n",
      "                                                                 attn_concatenator[14][0]         \n",
      "                                                                 attn_concatenator[15][0]         \n",
      "                                                                 attn_concatenator[16][0]         \n",
      "                                                                 attn_concatenator[17][0]         \n",
      "                                                                 attn_concatenator[18][0]         \n",
      "                                                                 attn_concatenator[19][0]         \n",
      "__________________________________________________________________________________________________\n",
      "attn_weights_normalizer (Activa (None, 20, 1)        0           attn_weights_computer[0][0]      \n",
      "                                                                 attn_weights_computer[1][0]      \n",
      "                                                                 attn_weights_computer[2][0]      \n",
      "                                                                 attn_weights_computer[3][0]      \n",
      "                                                                 attn_weights_computer[4][0]      \n",
      "                                                                 attn_weights_computer[5][0]      \n",
      "                                                                 attn_weights_computer[6][0]      \n",
      "                                                                 attn_weights_computer[7][0]      \n",
      "                                                                 attn_weights_computer[8][0]      \n",
      "                                                                 attn_weights_computer[9][0]      \n",
      "                                                                 attn_weights_computer[10][0]     \n",
      "                                                                 attn_weights_computer[11][0]     \n",
      "                                                                 attn_weights_computer[12][0]     \n",
      "                                                                 attn_weights_computer[13][0]     \n",
      "                                                                 attn_weights_computer[14][0]     \n",
      "                                                                 attn_weights_computer[15][0]     \n",
      "                                                                 attn_weights_computer[16][0]     \n",
      "                                                                 attn_weights_computer[17][0]     \n",
      "                                                                 attn_weights_computer[18][0]     \n",
      "                                                                 attn_weights_computer[19][0]     \n",
      "__________________________________________________________________________________________________\n",
      "in_dec_0 (InputLayer)           (None, 1)            0                                            \n",
      "__________________________________________________________________________________________________\n",
      "attn_context_computer (Dot)     (None, 1, 256)       0           attn_weights_normalizer[0][0]    \n",
      "                                                                 lstm_enc[0][0]                   \n",
      "                                                                 attn_weights_normalizer[1][0]    \n",
      "                                                                 lstm_enc[0][0]                   \n",
      "                                                                 attn_weights_normalizer[2][0]    \n",
      "                                                                 lstm_enc[0][0]                   \n",
      "                                                                 attn_weights_normalizer[3][0]    \n",
      "                                                                 lstm_enc[0][0]                   \n",
      "                                                                 attn_weights_normalizer[4][0]    \n",
      "                                                                 lstm_enc[0][0]                   \n",
      "                                                                 attn_weights_normalizer[5][0]    \n",
      "                                                                 lstm_enc[0][0]                   \n",
      "                                                                 attn_weights_normalizer[6][0]    \n",
      "                                                                 lstm_enc[0][0]                   \n",
      "                                                                 attn_weights_normalizer[7][0]    \n",
      "                                                                 lstm_enc[0][0]                   \n",
      "                                                                 attn_weights_normalizer[8][0]    \n",
      "                                                                 lstm_enc[0][0]                   \n",
      "                                                                 attn_weights_normalizer[9][0]    \n",
      "                                                                 lstm_enc[0][0]                   \n",
      "                                                                 attn_weights_normalizer[10][0]   \n",
      "                                                                 lstm_enc[0][0]                   \n",
      "                                                                 attn_weights_normalizer[11][0]   \n",
      "                                                                 lstm_enc[0][0]                   \n",
      "                                                                 attn_weights_normalizer[12][0]   \n",
      "                                                                 lstm_enc[0][0]                   \n",
      "                                                                 attn_weights_normalizer[13][0]   \n",
      "                                                                 lstm_enc[0][0]                   \n",
      "                                                                 attn_weights_normalizer[14][0]   \n",
      "                                                                 lstm_enc[0][0]                   \n",
      "                                                                 attn_weights_normalizer[15][0]   \n",
      "                                                                 lstm_enc[0][0]                   \n",
      "                                                                 attn_weights_normalizer[16][0]   \n",
      "                                                                 lstm_enc[0][0]                   \n",
      "                                                                 attn_weights_normalizer[17][0]   \n",
      "                                                                 lstm_enc[0][0]                   \n",
      "                                                                 attn_weights_normalizer[18][0]   \n",
      "                                                                 lstm_enc[0][0]                   \n",
      "                                                                 attn_weights_normalizer[19][0]   \n",
      "                                                                 lstm_enc[0][0]                   \n",
      "__________________________________________________________________________________________________\n",
      "y_embed_layer (Embedding)       (None, 1, 300)       6496500     in_dec_0[0][0]                   \n",
      "                                                                 y_slicer[0][0]                   \n",
      "                                                                 y_slicer[1][0]                   \n",
      "                                                                 y_slicer[2][0]                   \n",
      "                                                                 y_slicer[3][0]                   \n",
      "                                                                 y_slicer[4][0]                   \n",
      "                                                                 y_slicer[5][0]                   \n",
      "                                                                 y_slicer[6][0]                   \n",
      "                                                                 y_slicer[7][0]                   \n",
      "                                                                 y_slicer[8][0]                   \n",
      "                                                                 y_slicer[9][0]                   \n",
      "                                                                 y_slicer[10][0]                  \n",
      "                                                                 y_slicer[11][0]                  \n",
      "                                                                 y_slicer[12][0]                  \n",
      "                                                                 y_slicer[13][0]                  \n",
      "                                                                 y_slicer[14][0]                  \n",
      "                                                                 y_slicer[15][0]                  \n",
      "                                                                 y_slicer[16][0]                  \n",
      "                                                                 y_slicer[17][0]                  \n",
      "                                                                 y_slicer[18][0]                  \n",
      "__________________________________________________________________________________________________\n",
      "context_input_concatenator (Con (None, 1, 556)       0           attn_context_computer[0][0]      \n",
      "                                                                 y_embed_layer[0][0]              \n",
      "                                                                 attn_context_computer[1][0]      \n",
      "                                                                 y_embed_layer[1][0]              \n",
      "                                                                 attn_context_computer[2][0]      \n",
      "                                                                 y_embed_layer[2][0]              \n",
      "                                                                 attn_context_computer[3][0]      \n",
      "                                                                 y_embed_layer[3][0]              \n",
      "                                                                 attn_context_computer[4][0]      \n",
      "                                                                 y_embed_layer[4][0]              \n",
      "                                                                 attn_context_computer[5][0]      \n",
      "                                                                 y_embed_layer[5][0]              \n",
      "                                                                 attn_context_computer[6][0]      \n",
      "                                                                 y_embed_layer[6][0]              \n",
      "                                                                 attn_context_computer[7][0]      \n",
      "                                                                 y_embed_layer[7][0]              \n",
      "                                                                 attn_context_computer[8][0]      \n",
      "                                                                 y_embed_layer[8][0]              \n",
      "                                                                 attn_context_computer[9][0]      \n",
      "                                                                 y_embed_layer[9][0]              \n",
      "                                                                 attn_context_computer[10][0]     \n",
      "                                                                 y_embed_layer[10][0]             \n",
      "                                                                 attn_context_computer[11][0]     \n",
      "                                                                 y_embed_layer[11][0]             \n",
      "                                                                 attn_context_computer[12][0]     \n",
      "                                                                 y_embed_layer[12][0]             \n",
      "                                                                 attn_context_computer[13][0]     \n",
      "                                                                 y_embed_layer[13][0]             \n",
      "                                                                 attn_context_computer[14][0]     \n",
      "                                                                 y_embed_layer[14][0]             \n",
      "                                                                 attn_context_computer[15][0]     \n",
      "                                                                 y_embed_layer[15][0]             \n",
      "                                                                 attn_context_computer[16][0]     \n",
      "                                                                 y_embed_layer[16][0]             \n",
      "                                                                 attn_context_computer[17][0]     \n",
      "                                                                 y_embed_layer[17][0]             \n",
      "                                                                 attn_context_computer[18][0]     \n",
      "                                                                 y_embed_layer[18][0]             \n",
      "                                                                 attn_context_computer[19][0]     \n",
      "                                                                 y_embed_layer[19][0]             \n",
      "__________________________________________________________________________________________________\n",
      "densor_dec_0 (Dense)            (None, 1, 256)       142592      context_input_concatenator[0][0] \n",
      "                                                                 context_input_concatenator[1][0] \n",
      "                                                                 context_input_concatenator[2][0] \n",
      "                                                                 context_input_concatenator[3][0] \n",
      "                                                                 context_input_concatenator[4][0] \n",
      "                                                                 context_input_concatenator[5][0] \n",
      "                                                                 context_input_concatenator[6][0] \n",
      "                                                                 context_input_concatenator[7][0] \n",
      "                                                                 context_input_concatenator[8][0] \n",
      "                                                                 context_input_concatenator[9][0] \n",
      "                                                                 context_input_concatenator[10][0]\n",
      "                                                                 context_input_concatenator[11][0]\n",
      "                                                                 context_input_concatenator[12][0]\n",
      "                                                                 context_input_concatenator[13][0]\n",
      "                                                                 context_input_concatenator[14][0]\n",
      "                                                                 context_input_concatenator[15][0]\n",
      "                                                                 context_input_concatenator[16][0]\n",
      "                                                                 context_input_concatenator[17][0]\n",
      "                                                                 context_input_concatenator[18][0]\n",
      "                                                                 context_input_concatenator[19][0]\n",
      "__________________________________________________________________________________________________\n",
      "lstm_dec_w_attn (LSTM)          [(None, 256), (None, 525312      densor_dec_0[0][0]               \n",
      "                                                                 lstm_enc[0][1]                   \n",
      "                                                                 lstm_enc[0][2]                   \n",
      "                                                                 densor_dec_0[1][0]               \n",
      "                                                                 lstm_dec_w_attn[0][1]            \n",
      "                                                                 lstm_dec_w_attn[0][2]            \n",
      "                                                                 densor_dec_0[2][0]               \n",
      "                                                                 lstm_dec_w_attn[1][1]            \n",
      "                                                                 lstm_dec_w_attn[1][2]            \n",
      "                                                                 densor_dec_0[3][0]               \n",
      "                                                                 lstm_dec_w_attn[2][1]            \n",
      "                                                                 lstm_dec_w_attn[2][2]            \n",
      "                                                                 densor_dec_0[4][0]               \n",
      "                                                                 lstm_dec_w_attn[3][1]            \n",
      "                                                                 lstm_dec_w_attn[3][2]            \n",
      "                                                                 densor_dec_0[5][0]               \n",
      "                                                                 lstm_dec_w_attn[4][1]            \n",
      "                                                                 lstm_dec_w_attn[4][2]            \n",
      "                                                                 densor_dec_0[6][0]               \n",
      "                                                                 lstm_dec_w_attn[5][1]            \n",
      "                                                                 lstm_dec_w_attn[5][2]            \n",
      "                                                                 densor_dec_0[7][0]               \n",
      "                                                                 lstm_dec_w_attn[6][1]            \n",
      "                                                                 lstm_dec_w_attn[6][2]            \n",
      "                                                                 densor_dec_0[8][0]               \n",
      "                                                                 lstm_dec_w_attn[7][1]            \n",
      "                                                                 lstm_dec_w_attn[7][2]            \n",
      "                                                                 densor_dec_0[9][0]               \n",
      "                                                                 lstm_dec_w_attn[8][1]            \n",
      "                                                                 lstm_dec_w_attn[8][2]            \n",
      "                                                                 densor_dec_0[10][0]              \n",
      "                                                                 lstm_dec_w_attn[9][1]            \n",
      "                                                                 lstm_dec_w_attn[9][2]            \n",
      "                                                                 densor_dec_0[11][0]              \n",
      "                                                                 lstm_dec_w_attn[10][1]           \n",
      "                                                                 lstm_dec_w_attn[10][2]           \n",
      "                                                                 densor_dec_0[12][0]              \n",
      "                                                                 lstm_dec_w_attn[11][1]           \n",
      "                                                                 lstm_dec_w_attn[11][2]           \n",
      "                                                                 densor_dec_0[13][0]              \n",
      "                                                                 lstm_dec_w_attn[12][1]           \n",
      "                                                                 lstm_dec_w_attn[12][2]           \n",
      "                                                                 densor_dec_0[14][0]              \n",
      "                                                                 lstm_dec_w_attn[13][1]           \n",
      "                                                                 lstm_dec_w_attn[13][2]           \n",
      "                                                                 densor_dec_0[15][0]              \n",
      "                                                                 lstm_dec_w_attn[14][1]           \n",
      "                                                                 lstm_dec_w_attn[14][2]           \n",
      "                                                                 densor_dec_0[16][0]              \n",
      "                                                                 lstm_dec_w_attn[15][1]           \n",
      "                                                                 lstm_dec_w_attn[15][2]           \n",
      "                                                                 densor_dec_0[17][0]              \n",
      "                                                                 lstm_dec_w_attn[16][1]           \n",
      "                                                                 lstm_dec_w_attn[16][2]           \n",
      "                                                                 densor_dec_0[18][0]              \n",
      "                                                                 lstm_dec_w_attn[17][1]           \n",
      "                                                                 lstm_dec_w_attn[17][2]           \n",
      "                                                                 densor_dec_0[19][0]              \n",
      "                                                                 lstm_dec_w_attn[18][1]           \n",
      "                                                                 lstm_dec_w_attn[18][2]           \n",
      "__________________________________________________________________________________________________\n",
      "y (InputLayer)                  (None, 20)           0                                            \n",
      "__________________________________________________________________________________________________\n",
      "y_slicer (Lambda)               (None, 1)            0           y[0][0]                          \n",
      "                                                                 y[0][0]                          \n",
      "                                                                 y[0][0]                          \n",
      "                                                                 y[0][0]                          \n",
      "                                                                 y[0][0]                          \n",
      "                                                                 y[0][0]                          \n",
      "                                                                 y[0][0]                          \n",
      "                                                                 y[0][0]                          \n",
      "                                                                 y[0][0]                          \n",
      "                                                                 y[0][0]                          \n",
      "                                                                 y[0][0]                          \n",
      "                                                                 y[0][0]                          \n",
      "                                                                 y[0][0]                          \n",
      "                                                                 y[0][0]                          \n",
      "                                                                 y[0][0]                          \n",
      "                                                                 y[0][0]                          \n",
      "                                                                 y[0][0]                          \n",
      "                                                                 y[0][0]                          \n",
      "                                                                 y[0][0]                          \n",
      "__________________________________________________________________________________________________\n",
      "densor_dec_1 (Dense)            (None, 21655)        5565335     lstm_dec_w_attn[0][0]            \n",
      "                                                                 lstm_dec_w_attn[1][0]            \n",
      "                                                                 lstm_dec_w_attn[2][0]            \n",
      "                                                                 lstm_dec_w_attn[3][0]            \n",
      "                                                                 lstm_dec_w_attn[4][0]            \n",
      "                                                                 lstm_dec_w_attn[5][0]            \n",
      "                                                                 lstm_dec_w_attn[6][0]            \n",
      "                                                                 lstm_dec_w_attn[7][0]            \n",
      "                                                                 lstm_dec_w_attn[8][0]            \n",
      "                                                                 lstm_dec_w_attn[9][0]            \n",
      "                                                                 lstm_dec_w_attn[10][0]           \n",
      "                                                                 lstm_dec_w_attn[11][0]           \n",
      "                                                                 lstm_dec_w_attn[12][0]           \n",
      "                                                                 lstm_dec_w_attn[13][0]           \n",
      "                                                                 lstm_dec_w_attn[14][0]           \n",
      "                                                                 lstm_dec_w_attn[15][0]           \n",
      "                                                                 lstm_dec_w_attn[16][0]           \n",
      "                                                                 lstm_dec_w_attn[17][0]           \n",
      "                                                                 lstm_dec_w_attn[18][0]           \n",
      "                                                                 lstm_dec_w_attn[19][0]           \n",
      "==================================================================================================\n",
      "Total params: 17,090,520\n",
      "Trainable params: 17,090,520\n",
      "Non-trainable params: 0\n",
      "__________________________________________________________________________________________________\n"
     ]
    }
   ],
   "source": [
    "# Put together\n",
    "model_w_attn = Model(inputs=[X, in_dec_0, y], outputs=outs_dec)\n",
    "model_w_attn.summary()"
   ]
  },
  {
   "cell_type": "code",
   "execution_count": 35,
   "metadata": {
    "collapsed": true
   },
   "outputs": [],
   "source": [
    "model_w_attn.compile(optimizer='adam', loss='sparse_categorical_crossentropy', metrics=['sparse_categorical_accuracy'])"
   ]
  },
  {
   "cell_type": "markdown",
   "metadata": {},
   "source": [
    "# Train models"
   ]
  },
  {
   "cell_type": "markdown",
   "metadata": {},
   "source": [
    "## Model without attention"
   ]
  },
  {
   "cell_type": "code",
   "execution_count": 18,
   "metadata": {
    "collapsed": false
   },
   "outputs": [
    {
     "data": {
      "text/plain": [
       "((123332, 20), (30833, 20))"
      ]
     },
     "execution_count": 18,
     "metadata": {},
     "output_type": "execute_result"
    }
   ],
   "source": [
    "# Initialize decoder input\n",
    "in_dec_trn = np.hstack([np.array([y_stoi[GO]] * len(X_ix_trn)).reshape(-1, 1), y_ix_trn[:, :-1]])\n",
    "in_dec_val = np.hstack([np.array([y_stoi[GO]] * len(X_ix_val)).reshape(-1, 1), y_ix_val[:, :-1]])\n",
    "\n",
    "in_dec_trn.shape, in_dec_val.shape"
   ]
  },
  {
   "cell_type": "code",
   "execution_count": 19,
   "metadata": {
    "collapsed": false
   },
   "outputs": [
    {
     "data": {
      "text/plain": [
       "((123332, 20, 1), (30833, 20, 1))"
      ]
     },
     "execution_count": 19,
     "metadata": {},
     "output_type": "execute_result"
    }
   ],
   "source": [
    "# Reshape outputs in order to use `sparse_categorical_crossentropy`\n",
    "y_ix_trn_rs = y_ix_trn.reshape(y_ix_trn.shape[0], y_ix_trn.shape[1], 1)\n",
    "y_ix_val_rs = y_ix_val.reshape(y_ix_val.shape[0], y_ix_val.shape[1], 1)\n",
    "\n",
    "y_ix_trn_rs.shape, y_ix_val_rs.shape"
   ]
  },
  {
   "cell_type": "code",
   "execution_count": 20,
   "metadata": {
    "collapsed": true
   },
   "outputs": [],
   "source": [
    "# Add callbacks\n",
    "callbacks = []\n",
    "\n",
    "reduce_lr = ReduceLROnPlateau(monitor='val_loss', factor=0.1, patience=5, verbose=1)\n",
    "callbacks.append(reduce_lr)\n",
    "\n",
    "stopper = EarlyStopping(monitor='val_loss', patience=5, verbose=1)\n",
    "callbacks.append(stopper)\n",
    "\n",
    "checkpoint = ModelCheckpoint(filepath=os.path.join(model_path, 'translate-keras-wo_attn.h5'), monitor='val_loss', save_best_only=True, verbose=1)\n",
    "callbacks.append(checkpoint)"
   ]
  },
  {
   "cell_type": "code",
   "execution_count": null,
   "metadata": {
    "collapsed": false,
    "scrolled": true
   },
   "outputs": [],
   "source": [
    "# Train\n",
    "hist_wo_attn = model_wo_attn.fit(\n",
    "    x=[X_ix_trn, in_dec_trn],\n",
    "    y=y_ix_trn_rs,\n",
    "    batch_size=64,\n",
    "    epochs=20,\n",
    "    validation_data=([X_ix_val, in_dec_val], y_ix_val_rs),\n",
    "    callbacks=callbacks)"
   ]
  },
  {
   "cell_type": "code",
   "execution_count": 40,
   "metadata": {
    "collapsed": false
   },
   "outputs": [],
   "source": [
    "def plot_losses(model_hist):\n",
    "    loss = pd.DataFrame(zip(model_hist.history['loss'], model_hist.history['val_loss']), columns=['loss', 'val_loss'])\n",
    "    \n",
    "    # Find the epoch with the smallest loss\n",
    "    min_loss_ix = np.array(model_hist.history['val_loss']).argmin()\n",
    "\n",
    "    # Plot\n",
    "    ax = loss.plot()\n",
    "    ax.axvline(x=min_loss_ix, color='black', ls='--')\n",
    "\n",
    "    return loss"
   ]
  },
  {
   "cell_type": "code",
   "execution_count": 23,
   "metadata": {
    "collapsed": false
   },
   "outputs": [
    {
     "data": {
      "text/html": [
       "<div>\n",
       "<style scoped>\n",
       "    .dataframe tbody tr th:only-of-type {\n",
       "        vertical-align: middle;\n",
       "    }\n",
       "\n",
       "    .dataframe tbody tr th {\n",
       "        vertical-align: top;\n",
       "    }\n",
       "\n",
       "    .dataframe thead th {\n",
       "        text-align: right;\n",
       "    }\n",
       "</style>\n",
       "<table border=\"1\" class=\"dataframe\">\n",
       "  <thead>\n",
       "    <tr style=\"text-align: right;\">\n",
       "      <th></th>\n",
       "      <th>loss</th>\n",
       "      <th>val_loss</th>\n",
       "    </tr>\n",
       "  </thead>\n",
       "  <tbody>\n",
       "    <tr>\n",
       "      <th>0</th>\n",
       "      <td>2.127470</td>\n",
       "      <td>1.512012</td>\n",
       "    </tr>\n",
       "    <tr>\n",
       "      <th>1</th>\n",
       "      <td>1.232868</td>\n",
       "      <td>1.090261</td>\n",
       "    </tr>\n",
       "    <tr>\n",
       "      <th>2</th>\n",
       "      <td>0.894285</td>\n",
       "      <td>0.890461</td>\n",
       "    </tr>\n",
       "    <tr>\n",
       "      <th>3</th>\n",
       "      <td>0.684260</td>\n",
       "      <td>0.781020</td>\n",
       "    </tr>\n",
       "    <tr>\n",
       "      <th>4</th>\n",
       "      <td>0.542966</td>\n",
       "      <td>0.720248</td>\n",
       "    </tr>\n",
       "    <tr>\n",
       "      <th>5</th>\n",
       "      <td>0.443612</td>\n",
       "      <td>0.689797</td>\n",
       "    </tr>\n",
       "    <tr>\n",
       "      <th>6</th>\n",
       "      <td>0.370985</td>\n",
       "      <td>0.675022</td>\n",
       "    </tr>\n",
       "    <tr>\n",
       "      <th>7</th>\n",
       "      <td>0.316902</td>\n",
       "      <td>0.668118</td>\n",
       "    </tr>\n",
       "    <tr>\n",
       "      <th>8</th>\n",
       "      <td>0.276014</td>\n",
       "      <td>0.670734</td>\n",
       "    </tr>\n",
       "    <tr>\n",
       "      <th>9</th>\n",
       "      <td>0.244242</td>\n",
       "      <td>0.674063</td>\n",
       "    </tr>\n",
       "    <tr>\n",
       "      <th>10</th>\n",
       "      <td>0.218510</td>\n",
       "      <td>0.680066</td>\n",
       "    </tr>\n",
       "    <tr>\n",
       "      <th>11</th>\n",
       "      <td>0.197449</td>\n",
       "      <td>0.689764</td>\n",
       "    </tr>\n",
       "    <tr>\n",
       "      <th>12</th>\n",
       "      <td>0.179470</td>\n",
       "      <td>0.697952</td>\n",
       "    </tr>\n",
       "  </tbody>\n",
       "</table>\n",
       "</div>"
      ],
      "text/plain": [
       "        loss  val_loss\n",
       "0   2.127470  1.512012\n",
       "1   1.232868  1.090261\n",
       "2   0.894285  0.890461\n",
       "3   0.684260  0.781020\n",
       "4   0.542966  0.720248\n",
       "5   0.443612  0.689797\n",
       "6   0.370985  0.675022\n",
       "7   0.316902  0.668118\n",
       "8   0.276014  0.670734\n",
       "9   0.244242  0.674063\n",
       "10  0.218510  0.680066\n",
       "11  0.197449  0.689764\n",
       "12  0.179470  0.697952"
      ]
     },
     "execution_count": 23,
     "metadata": {},
     "output_type": "execute_result"
    },
    {
     "data": {
      "image/png": "[encoded data removed]",
      "text/plain": [
       "<Figure size 432x288 with 1 Axes>"
      ]
     },
     "metadata": {
      "image/png": {
       "height": 250,
       "width": 380
      }
     },
     "output_type": "display_data"
    }
   ],
   "source": [
    "plot_losses(hist_wo_attn)"
   ]
  },
  {
   "cell_type": "markdown",
   "metadata": {},
   "source": [
    "## Model with attention"
   ]
  },
  {
   "cell_type": "code",
   "execution_count": 36,
   "metadata": {
    "collapsed": false
   },
   "outputs": [
    {
     "data": {
      "text/plain": [
       "((123332, 1), (30833, 1))"
      ]
     },
     "execution_count": 36,
     "metadata": {},
     "output_type": "execute_result"
    }
   ],
   "source": [
    "# Initialize decoder input (\"_go_\")\n",
    "in_dec_0_trn = np.array([y_stoi[GO]] * len(X_ix_trn)).reshape(-1, 1)\n",
    "in_dec_0_val = np.array([y_stoi[GO]] * len(X_ix_val)).reshape(-1, 1)\n",
    "\n",
    "in_dec_0_trn.shape, in_dec_0_val.shape"
   ]
  },
  {
   "cell_type": "code",
   "execution_count": 37,
   "metadata": {
    "collapsed": false
   },
   "outputs": [
    {
     "data": {
      "text/plain": [
       "((20, 123332, 1), (20, 30833, 1))"
      ]
     },
     "execution_count": 37,
     "metadata": {},
     "output_type": "execute_result"
    }
   ],
   "source": [
    "# Reshape outputs in order to use `sparse_categorical_crossentropy`\n",
    "y_ix_trn_rs = [y_ix_trn[:, i:i+1] for i in range(y_ix_trn.shape[1])]\n",
    "y_ix_val_rs = [y_ix_val[:, i:i+1] for i in range(y_ix_val.shape[1])]\n",
    "\n",
    "np.array(y_ix_trn_rs).shape, np.array(y_ix_val_rs).shape"
   ]
  },
  {
   "cell_type": "code",
   "execution_count": 38,
   "metadata": {
    "collapsed": true
   },
   "outputs": [],
   "source": [
    "# Add callbacks\n",
    "callbacks = []\n",
    "\n",
    "reduce_lr = ReduceLROnPlateau(monitor='val_loss', factor=0.1, patience=5, verbose=1)\n",
    "callbacks.append(reduce_lr)\n",
    "\n",
    "stopper = EarlyStopping(monitor='val_loss', patience=5, verbose=1)\n",
    "callbacks.append(stopper)\n",
    "\n",
    "checkpoint = ModelCheckpoint(filepath=os.path.join(model_path, 'translate-keras-w_attn.h5'), monitor='val_loss', save_best_only=True, verbose=1)\n",
    "callbacks.append(checkpoint)"
   ]
  },
  {
   "cell_type": "code",
   "execution_count": null,
   "metadata": {
    "collapsed": false
   },
   "outputs": [],
   "source": [
    "# Train\n",
    "hist_w_attn = model_w_attn.fit(\n",
    "    x=[X_ix_trn, in_dec_0_trn, y_ix_trn],\n",
    "    y=y_ix_trn_rs,\n",
    "    batch_size=64,\n",
    "    epochs=20,\n",
    "    validation_data=([X_ix_val, in_dec_0_val, y_ix_val], y_ix_val_rs),\n",
    "    callbacks=callbacks)"
   ]
  },
  {
   "cell_type": "code",
   "execution_count": 41,
   "metadata": {
    "collapsed": false
   },
   "outputs": [
    {
     "data": {
      "text/html": [
       "<div>\n",
       "<style scoped>\n",
       "    .dataframe tbody tr th:only-of-type {\n",
       "        vertical-align: middle;\n",
       "    }\n",
       "\n",
       "    .dataframe tbody tr th {\n",
       "        vertical-align: top;\n",
       "    }\n",
       "\n",
       "    .dataframe thead th {\n",
       "        text-align: right;\n",
       "    }\n",
       "</style>\n",
       "<table border=\"1\" class=\"dataframe\">\n",
       "  <thead>\n",
       "    <tr style=\"text-align: right;\">\n",
       "      <th></th>\n",
       "      <th>loss</th>\n",
       "      <th>val_loss</th>\n",
       "    </tr>\n",
       "  </thead>\n",
       "  <tbody>\n",
       "    <tr>\n",
       "      <th>0</th>\n",
       "      <td>40.621925</td>\n",
       "      <td>30.128897</td>\n",
       "    </tr>\n",
       "    <tr>\n",
       "      <th>1</th>\n",
       "      <td>25.929660</td>\n",
       "      <td>23.889333</td>\n",
       "    </tr>\n",
       "    <tr>\n",
       "      <th>2</th>\n",
       "      <td>20.236577</td>\n",
       "      <td>20.166680</td>\n",
       "    </tr>\n",
       "    <tr>\n",
       "      <th>3</th>\n",
       "      <td>16.218939</td>\n",
       "      <td>17.840881</td>\n",
       "    </tr>\n",
       "    <tr>\n",
       "      <th>4</th>\n",
       "      <td>13.302735</td>\n",
       "      <td>16.365298</td>\n",
       "    </tr>\n",
       "    <tr>\n",
       "      <th>5</th>\n",
       "      <td>11.141001</td>\n",
       "      <td>15.427165</td>\n",
       "    </tr>\n",
       "    <tr>\n",
       "      <th>6</th>\n",
       "      <td>9.525056</td>\n",
       "      <td>14.886338</td>\n",
       "    </tr>\n",
       "    <tr>\n",
       "      <th>7</th>\n",
       "      <td>8.313149</td>\n",
       "      <td>14.480133</td>\n",
       "    </tr>\n",
       "    <tr>\n",
       "      <th>8</th>\n",
       "      <td>7.384938</td>\n",
       "      <td>14.322015</td>\n",
       "    </tr>\n",
       "    <tr>\n",
       "      <th>9</th>\n",
       "      <td>6.650455</td>\n",
       "      <td>14.377537</td>\n",
       "    </tr>\n",
       "    <tr>\n",
       "      <th>10</th>\n",
       "      <td>6.055139</td>\n",
       "      <td>14.298520</td>\n",
       "    </tr>\n",
       "    <tr>\n",
       "      <th>11</th>\n",
       "      <td>5.564845</td>\n",
       "      <td>14.239928</td>\n",
       "    </tr>\n",
       "    <tr>\n",
       "      <th>12</th>\n",
       "      <td>5.151491</td>\n",
       "      <td>14.307452</td>\n",
       "    </tr>\n",
       "    <tr>\n",
       "      <th>13</th>\n",
       "      <td>4.790012</td>\n",
       "      <td>14.376494</td>\n",
       "    </tr>\n",
       "    <tr>\n",
       "      <th>14</th>\n",
       "      <td>4.486920</td>\n",
       "      <td>14.449906</td>\n",
       "    </tr>\n",
       "    <tr>\n",
       "      <th>15</th>\n",
       "      <td>4.203265</td>\n",
       "      <td>14.577243</td>\n",
       "    </tr>\n",
       "    <tr>\n",
       "      <th>16</th>\n",
       "      <td>3.983405</td>\n",
       "      <td>14.746232</td>\n",
       "    </tr>\n",
       "  </tbody>\n",
       "</table>\n",
       "</div>"
      ],
      "text/plain": [
       "         loss   val_loss\n",
       "0   40.621925  30.128897\n",
       "1   25.929660  23.889333\n",
       "2   20.236577  20.166680\n",
       "3   16.218939  17.840881\n",
       "4   13.302735  16.365298\n",
       "5   11.141001  15.427165\n",
       "6    9.525056  14.886338\n",
       "7    8.313149  14.480133\n",
       "8    7.384938  14.322015\n",
       "9    6.650455  14.377537\n",
       "10   6.055139  14.298520\n",
       "11   5.564845  14.239928\n",
       "12   5.151491  14.307452\n",
       "13   4.790012  14.376494\n",
       "14   4.486920  14.449906\n",
       "15   4.203265  14.577243\n",
       "16   3.983405  14.746232"
      ]
     },
     "execution_count": 41,
     "metadata": {},
     "output_type": "execute_result"
    },
    {
     "data": {
      "image/png": "[encoded data removed]",
      "text/plain": [
       "<Figure size 432x288 with 1 Axes>"
      ]
     },
     "metadata": {
      "image/png": {
       "height": 250,
       "width": 370
      }
     },
     "output_type": "display_data"
    }
   ],
   "source": [
    "plot_losses(hist_w_attn)"
   ]
  },
  {
   "cell_type": "markdown",
   "metadata": {},
   "source": [
    "# Inference"
   ]
  },
  {
   "cell_type": "markdown",
   "metadata": {},
   "source": [
    "## Model without attention"
   ]
  },
  {
   "cell_type": "code",
   "execution_count": 24,
   "metadata": {
    "collapsed": true
   },
   "outputs": [],
   "source": [
    "# Reload the last checkpoint\n",
    "model_wo_attn = load_model(os.path.join(model_path, 'translate-keras-wo_attn.h5'))"
   ]
  },
  {
   "cell_type": "code",
   "execution_count": 25,
   "metadata": {
    "collapsed": false
   },
   "outputs": [
    {
     "name": "stdout",
     "output_type": "stream",
     "text": [
      "_________________________________________________________________\n",
      "Layer (type)                 Output Shape              Param #   \n",
      "=================================================================\n",
      "X (InputLayer)               (None, 20)                0         \n",
      "_________________________________________________________________\n",
      "X_embed_layer (Embedding)    (None, 20, 300)           3789900   \n",
      "_________________________________________________________________\n",
      "lstm_enc (LSTM)              [(None, 20, 256), (None,  570368    \n",
      "=================================================================\n",
      "Total params: 4,360,268\n",
      "Trainable params: 4,360,268\n",
      "Non-trainable params: 0\n",
      "_________________________________________________________________\n"
     ]
    }
   ],
   "source": [
    "# Extract encoder\n",
    "X = Input(shape=(max_len, ), name='X')\n",
    "X_embed_layer = model_wo_attn.get_layer('X_embed_layer')\n",
    "lstm_enc = model_wo_attn.get_layer('lstm_enc')\n",
    "\n",
    "encoder = Model(X, encode(X))\n",
    "encoder.summary()"
   ]
  },
  {
   "cell_type": "code",
   "execution_count": 26,
   "metadata": {
    "collapsed": false,
    "scrolled": true
   },
   "outputs": [
    {
     "name": "stdout",
     "output_type": "stream",
     "text": [
      "__________________________________________________________________________________________________\n",
      "Layer (type)                    Output Shape         Param #     Connected to                     \n",
      "==================================================================================================\n",
      "in_dec (InputLayer)             (None, 1)            0                                            \n",
      "__________________________________________________________________________________________________\n",
      "y_embed_layer (Embedding)       multiple             6496500     in_dec[0][0]                     \n",
      "__________________________________________________________________________________________________\n",
      "h_dec_prev (InputLayer)         (None, 256)          0                                            \n",
      "__________________________________________________________________________________________________\n",
      "c_dec_prev (InputLayer)         (None, 256)          0                                            \n",
      "__________________________________________________________________________________________________\n",
      "lstm_dec_wo_attn (LSTM)         multiple             570368      y_embed_layer[1][0]              \n",
      "                                                                 h_dec_prev[0][0]                 \n",
      "                                                                 c_dec_prev[0][0]                 \n",
      "__________________________________________________________________________________________________\n",
      "densor_dec (Dense)              multiple             5565335     lstm_dec_wo_attn[1][0]           \n",
      "==================================================================================================\n",
      "Total params: 12,632,203\n",
      "Trainable params: 12,632,203\n",
      "Non-trainable params: 0\n",
      "__________________________________________________________________________________________________\n"
     ]
    }
   ],
   "source": [
    "# Extract decoder\n",
    "in_dec = Input(shape=(1, ), name='in_dec')\n",
    "h_dec_prev = Input(shape=(hidden_size_dec, ), name='h_dec_prev')\n",
    "c_dec_prev = Input(shape=(hidden_size_dec, ), name='c_dec_prev')\n",
    "y_embed_layer = model_wo_attn.get_layer('y_embed_layer')\n",
    "lstm_dec_wo_attn = model_wo_attn.get_layer('lstm_dec_wo_attn')\n",
    "densor_dec = model_wo_attn.get_layer('densor_dec')\n",
    "\n",
    "decoder = Model([in_dec, h_dec_prev, c_dec_prev], decode_wo_attn(in_dec, h_dec_prev, c_dec_prev))\n",
    "decoder.summary()"
   ]
  },
  {
   "cell_type": "code",
   "execution_count": 42,
   "metadata": {
    "collapsed": false
   },
   "outputs": [],
   "source": [
    "def decode_sequence(input_seqs, encoder, decoder, toks_stoi, toks_itos, max_len, w_attn=False, return_attn_weights=False):\n",
    "    # Generate encoder output\n",
    "    a_enc_pred, h_enc_pred, c_enc_pred = encoder.predict(input_seqs)\n",
    "\n",
    "    # Generate decoder output, one timestep at a time\n",
    "    outs_dec_pred = []\n",
    "    attn_weights = []\n",
    "    in_dec = np.array([toks_stoi[GO]] * len(input_seqs)).reshape(-1, 1)\n",
    "    h_dec_pred = h_enc_pred\n",
    "    c_dec_pred = c_enc_pred\n",
    "\n",
    "    for i in range(max_len):\n",
    "        if not w_attn:\n",
    "            out_dec_pred, h_dec_pred, c_dec_pred = decoder.predict([in_dec, h_dec_pred, c_dec_pred])\n",
    "        else:\n",
    "            out_dec_pred, h_dec_pred, c_dec_pred, attn_weight = decoder.predict([in_dec, a_enc_pred, h_dec_pred, c_dec_pred])\n",
    "\n",
    "        # Derive the predicted token\n",
    "        # Need to first reduce the dimension of `out_dec_pred` from 3D to 2D\n",
    "        # (It's 3D because there is a `timestep` of 1 in the middle)\n",
    "        out_dec_pred = out_dec_pred.reshape(out_dec_pred.shape[0], out_dec_pred.shape[-1])\n",
    "        out_dec_pred = out_dec_pred.argmax(axis=-1)\n",
    "        outs_dec_pred.append(out_dec_pred)\n",
    "\n",
    "        # Assign the predicted token as the next decoder input\n",
    "        in_dec = out_dec_pred\n",
    "        \n",
    "        # Save attention weights\n",
    "        if w_attn:\n",
    "            attn_weights.append(attn_weight.reshape(attn_weight.shape[0], attn_weight.shape[1]))\n",
    "\n",
    "    # Convert output index into tokens\n",
    "    outs_dec_pred = np.array(toks_itos)[np.array(outs_dec_pred).transpose()]\n",
    "    \n",
    "    # Clean up and output\n",
    "    outs_dec_pred = [detok(toks) for toks in outs_dec_pred]\n",
    "    if not return_attn_weights:\n",
    "        return outs_dec_pred\n",
    "    return outs_dec_pred, attn_weights\n",
    "\n",
    "# Convert to strings and clean up\n",
    "# detokenizer = Detok()\n",
    "\n",
    "def detok(toks):\n",
    "    # Cut before the first padding (if any)\n",
    "    toks = list(toks)\n",
    "    if PAD in toks:\n",
    "        first_pad = toks.index(PAD)\n",
    "        toks = toks[:first_pad]\n",
    "    \n",
    "    # return detokenizer.detokenize(toks)\n",
    "    return ' '.join(toks)"
   ]
  },
  {
   "cell_type": "code",
   "execution_count": 28,
   "metadata": {
    "collapsed": false
   },
   "outputs": [
    {
     "data": {
      "text/plain": [
       "30833"
      ]
     },
     "execution_count": 28,
     "metadata": {},
     "output_type": "execute_result"
    }
   ],
   "source": [
    "# Test inference with validation data\n",
    "y_val_pred_wo_attn = decode_sequence(X_ix_val, encoder, decoder, y_stoi, y_itos, max_len)\n",
    "len(y_val_pred_wo_attn)"
   ]
  },
  {
   "cell_type": "code",
   "execution_count": 29,
   "metadata": {
    "collapsed": false
   },
   "outputs": [
    {
     "name": "stdout",
     "output_type": "stream",
     "text": [
      "0\n",
      "Input:\t\ti just do n't want you making any mistakes .\n",
      "Predicted:\tje ne veux pas que vous commettiez d' erreurs , un point c' est tout .\n",
      "True:\t\tje ne veux tout simplement pas que tu commettes d' erreurs .\n",
      "1\n",
      "Input:\t\ti thought i 'd find you here .\n",
      "Predicted:\tje pensais vous trouver ici .\n",
      "True:\t\tje pensais que je te trouverais ici .\n",
      "2\n",
      "Input:\t\twhat do you like to eat for lunch ?\n",
      "Predicted:\tqu' est -ce que tu préfères pour déjeuner ?\n",
      "True:\t\tqu' aimes - tu manger au déjeuner ?\n",
      "3\n",
      "Input:\t\telephants are an endangered species .\n",
      "Predicted:\tles éléphants sont en augmentation de la technologie humaine .\n",
      "True:\t\tles éléphants sont une espèce menacée .\n",
      "4\n",
      "Input:\t\taccidents often result from carelessness .\n",
      "Predicted:\tles gens changent de salaire en colère .\n",
      "True:\t\tles accidents proviennent souvent d' un manque d' attention .\n"
     ]
    }
   ],
   "source": [
    "# Print out a few results\n",
    "for i in range(5):\n",
    "    print(i)\n",
    "    print('Input:\\t\\t' + detok(X_val[i]))\n",
    "    print('Predicted:\\t' + y_val_pred_wo_attn[i])\n",
    "    print('True:\\t\\t' + detok(y_val[i]))"
   ]
  },
  {
   "cell_type": "code",
   "execution_count": 30,
   "metadata": {
    "collapsed": true
   },
   "outputs": [],
   "source": [
    "# Save predictions\n",
    "pickle.dump(y_val_pred_wo_attn, open(os.path.join(data_path, 'translate-pred_wo_attn.pkl'), 'wb'))"
   ]
  },
  {
   "cell_type": "markdown",
   "metadata": {},
   "source": [
    "## Model with attention"
   ]
  },
  {
   "cell_type": "code",
   "execution_count": 43,
   "metadata": {
    "collapsed": false
   },
   "outputs": [],
   "source": [
    "# Reload the last checkpoint\n",
    "model_w_attn = load_model(os.path.join(model_path, 'translate-keras-w_attn.h5'), custom_objects={'softmax_axis_1': softmax_axis_1, 'i': 0})"
   ]
  },
  {
   "cell_type": "code",
   "execution_count": 44,
   "metadata": {
    "collapsed": false
   },
   "outputs": [
    {
     "name": "stdout",
     "output_type": "stream",
     "text": [
      "_________________________________________________________________\n",
      "Layer (type)                 Output Shape              Param #   \n",
      "=================================================================\n",
      "X (InputLayer)               (None, 20)                0         \n",
      "_________________________________________________________________\n",
      "X_embed_layer (Embedding)    (None, 20, 300)           3789900   \n",
      "_________________________________________________________________\n",
      "lstm_enc (LSTM)              [(None, 20, 256), (None,  570368    \n",
      "=================================================================\n",
      "Total params: 4,360,268\n",
      "Trainable params: 4,360,268\n",
      "Non-trainable params: 0\n",
      "_________________________________________________________________\n"
     ]
    }
   ],
   "source": [
    "# Extract encoder\n",
    "X = Input(shape=(max_len, ), name='X')\n",
    "X_embed_layer = model_w_attn.get_layer('X_embed_layer')\n",
    "lstm_enc = model_w_attn.get_layer('lstm_enc')\n",
    "\n",
    "encoder = Model(X, encode(X))\n",
    "encoder.summary()"
   ]
  },
  {
   "cell_type": "code",
   "execution_count": 45,
   "metadata": {
    "collapsed": false
   },
   "outputs": [
    {
     "name": "stdout",
     "output_type": "stream",
     "text": [
      "__________________________________________________________________________________________________\n",
      "Layer (type)                    Output Shape         Param #     Connected to                     \n",
      "==================================================================================================\n",
      "h_dec_prev (InputLayer)         (None, 256)          0                                            \n",
      "__________________________________________________________________________________________________\n",
      "attn_repeator (RepeatVector)    (None, 20, 256)      0           h_dec_prev[0][0]                 \n",
      "__________________________________________________________________________________________________\n",
      "a_enc (InputLayer)              (None, 20, 256)      0                                            \n",
      "__________________________________________________________________________________________________\n",
      "attn_concatenator (Concatenate) (None, 20, 512)      0           attn_repeator[20][0]             \n",
      "                                                                 a_enc[0][0]                      \n",
      "__________________________________________________________________________________________________\n",
      "attn_weights_computer (Dense)   (None, 20, 1)        513         attn_concatenator[20][0]         \n",
      "__________________________________________________________________________________________________\n",
      "attn_weights_normalizer (Activa (None, 20, 1)        0           attn_weights_computer[20][0]     \n",
      "__________________________________________________________________________________________________\n",
      "in_dec (InputLayer)             (None, 1)            0                                            \n",
      "__________________________________________________________________________________________________\n",
      "attn_context_computer (Dot)     (None, 1, 256)       0           attn_weights_normalizer[20][0]   \n",
      "                                                                 a_enc[0][0]                      \n",
      "__________________________________________________________________________________________________\n",
      "y_embed_layer (Embedding)       (None, 1, 300)       6496500     in_dec[0][0]                     \n",
      "__________________________________________________________________________________________________\n",
      "context_input_concatenator (Con (None, 1, 556)       0           attn_context_computer[20][0]     \n",
      "                                                                 y_embed_layer[20][0]             \n",
      "__________________________________________________________________________________________________\n",
      "densor_dec_0 (Dense)            (None, 1, 256)       142592      context_input_concatenator[20][0]\n",
      "__________________________________________________________________________________________________\n",
      "c_dec_prev (InputLayer)         (None, 256)          0                                            \n",
      "__________________________________________________________________________________________________\n",
      "lstm_dec_w_attn (LSTM)          [(None, 256), (None, 525312      densor_dec_0[20][0]              \n",
      "                                                                 h_dec_prev[0][0]                 \n",
      "                                                                 c_dec_prev[0][0]                 \n",
      "__________________________________________________________________________________________________\n",
      "densor_dec_1 (Dense)            (None, 21655)        5565335     lstm_dec_w_attn[20][0]           \n",
      "==================================================================================================\n",
      "Total params: 12,730,252\n",
      "Trainable params: 12,730,252\n",
      "Non-trainable params: 0\n",
      "__________________________________________________________________________________________________\n"
     ]
    }
   ],
   "source": [
    "# Extract decoder\n",
    "in_dec = Input(shape=(1, ), name='in_dec')\n",
    "a_enc = Input(shape=(max_len, hidden_size_enc), name='a_enc')\n",
    "h_dec_prev = Input(shape=(hidden_size_dec, ), name='h_dec_prev')\n",
    "c_dec_prev = Input(shape=(hidden_size_dec, ), name='c_dec_prev')\n",
    "\n",
    "y_embed_layer = model_w_attn.get_layer('y_embed_layer')\n",
    "attn_repeator = model_w_attn.get_layer('attn_repeator')\n",
    "attn_concatenator = model_w_attn.get_layer('attn_concatenator')\n",
    "attn_weights_computer = model_w_attn.get_layer('attn_weights_computer')\n",
    "attn_weights_normalizer = model_w_attn.get_layer('attn_weights_normalizer')\n",
    "attn_context_computer = model_w_attn.get_layer('attn_context_computer')\n",
    "context_input_concatenator = model_w_attn.get_layer('context_input_concatenator')\n",
    "densor_dec_0 = model_w_attn.get_layer('densor_dec_0')\n",
    "lstm_dec_w_attn = model_w_attn.get_layer('lstm_dec_w_attn')\n",
    "densor_dec_1 = model_w_attn.get_layer('densor_dec_1')\n",
    "\n",
    "decoder = Model([in_dec, a_enc, h_dec_prev, c_dec_prev], decode_w_attn(in_dec, a_enc, h_dec_prev, c_dec_prev))\n",
    "decoder.summary()"
   ]
  },
  {
   "cell_type": "code",
   "execution_count": 46,
   "metadata": {
    "collapsed": false
   },
   "outputs": [
    {
     "data": {
      "text/plain": [
       "30833"
      ]
     },
     "execution_count": 46,
     "metadata": {},
     "output_type": "execute_result"
    }
   ],
   "source": [
    "# Test inference with validation data\n",
    "y_val_pred_w_attn, y_val_attn_weights = decode_sequence(X_ix_val, encoder, decoder, y_stoi, y_itos, max_len, w_attn=True, return_attn_weights=True)\n",
    "len(y_val_pred_w_attn)"
   ]
  },
  {
   "cell_type": "code",
   "execution_count": 47,
   "metadata": {
    "collapsed": false
   },
   "outputs": [
    {
     "name": "stdout",
     "output_type": "stream",
     "text": [
      "0\n",
      "Input:\t\ti just do n't want you making any mistakes .\n",
      "Predicted:\tje ne veux tout simplement pas que vous commettiez d' erreurs .\n",
      "True:\t\tje ne veux tout simplement pas que tu commettes d' erreurs .\n",
      "1\n",
      "Input:\t\ti thought i 'd find you here .\n",
      "Predicted:\tje pensais que tu serais ici .\n",
      "True:\t\tje pensais que je te trouverais ici .\n",
      "2\n",
      "Input:\t\twhat do you like to eat for lunch ?\n",
      "Predicted:\tqu' est -ce que tu veux manger un déjeuner ?\n",
      "True:\t\tqu' aimes - tu manger au déjeuner ?\n",
      "3\n",
      "Input:\t\telephants are an endangered species .\n",
      "Predicted:\tles éléphants sont importantes en surpoids .\n",
      "True:\t\tles éléphants sont une espèce menacée .\n",
      "4\n",
      "Input:\t\taccidents often result from carelessness .\n",
      "Predicted:\tles étudiants ont souvent l' origine de l' inattention .\n",
      "True:\t\tles accidents proviennent souvent d' un manque d' attention .\n"
     ]
    }
   ],
   "source": [
    "# Print out a few results\n",
    "for i in range(5):\n",
    "    print(i)\n",
    "    print('Input:\\t\\t' + detok(X_val[i]))\n",
    "    print('Predicted:\\t' + y_val_pred_w_attn[i])\n",
    "    print('True:\\t\\t' + detok(y_val[i]))"
   ]
  },
  {
   "cell_type": "code",
   "execution_count": 48,
   "metadata": {
    "collapsed": false
   },
   "outputs": [],
   "source": [
    "# Save predictions\n",
    "pickle.dump(y_val_pred_w_attn, open(os.path.join(data_path, 'translate-pred_w_attn.pkl'), 'wb'))\n",
    "pickle.dump(y_val_attn_weights, open(os.path.join(data_path, 'translate-attn_weights_w_attn.pkl'), 'wb'))"
   ]
  },
  {
   "cell_type": "code",
   "execution_count": 32,
   "metadata": {
    "collapsed": false
   },
   "outputs": [
    {
     "data": {
      "text/plain": [
       "(30833, 4)"
      ]
     },
     "execution_count": 32,
     "metadata": {},
     "output_type": "execute_result"
    }
   ],
   "source": [
    "# Combine the two models' predictions\n",
    "y_val_pred_wo_attn = pickle.load(open(os.path.join(data_path, 'translate-pred_wo_attn.pkl'), 'rb'))\n",
    "y_val_pred_w_attn = pickle.load(open(os.path.join(data_path, 'translate-pred_w_attn.pkl'), 'rb'))\n",
    "\n",
    "y_val_true_vs_pred = pd.DataFrame({\n",
    "    'source': [' '.join(s) for s in X_val],\n",
    "    'true_target': [' '.join(s) for s in y_val],\n",
    "    'pred_wo_attn': y_val_pred_wo_attn,\n",
    "    'pred_w_attn': y_val_pred_w_attn\n",
    "})\n",
    "y_val_true_vs_pred.shape"
   ]
  },
  {
   "cell_type": "code",
   "execution_count": 33,
   "metadata": {
    "collapsed": false
   },
   "outputs": [
    {
     "data": {
      "text/html": [
       "<div>\n",
       "<style scoped>\n",
       "    .dataframe tbody tr th:only-of-type {\n",
       "        vertical-align: middle;\n",
       "    }\n",
       "\n",
       "    .dataframe tbody tr th {\n",
       "        vertical-align: top;\n",
       "    }\n",
       "\n",
       "    .dataframe thead th {\n",
       "        text-align: right;\n",
       "    }\n",
       "</style>\n",
       "<table border=\"1\" class=\"dataframe\">\n",
       "  <thead>\n",
       "    <tr style=\"text-align: right;\">\n",
       "      <th></th>\n",
       "      <th>source</th>\n",
       "      <th>true_target</th>\n",
       "      <th>pred_wo_attn</th>\n",
       "      <th>pred_w_attn</th>\n",
       "    </tr>\n",
       "  </thead>\n",
       "  <tbody>\n",
       "    <tr>\n",
       "      <th>28455</th>\n",
       "      <td>whatever happened to your pride ?</td>\n",
       "      <td>qu' est - il advenu de votre fierté ?</td>\n",
       "      <td>qu' est -ce qui t' a eu lieu ?</td>\n",
       "      <td>qu' est - il advenu de ma part de la fierté ?</td>\n",
       "    </tr>\n",
       "    <tr>\n",
       "      <th>231</th>\n",
       "      <td>i feel kind of tired .</td>\n",
       "      <td>je me sens comme fatigué .</td>\n",
       "      <td>je me sens fatigué , un point de temps .</td>\n",
       "      <td>je me sens assez fatiguée .</td>\n",
       "    </tr>\n",
       "    <tr>\n",
       "      <th>15495</th>\n",
       "      <td>i think that 's tom over there .</td>\n",
       "      <td>je pense que c' est tom là-bas .</td>\n",
       "      <td>je pense que c' est tom là-bas .</td>\n",
       "      <td>je pense que c' est tom ici .</td>\n",
       "    </tr>\n",
       "    <tr>\n",
       "      <th>1897</th>\n",
       "      <td>tom did n't talk about it .</td>\n",
       "      <td>tom n' en a pas parlé .</td>\n",
       "      <td>tom n' en a pas parlé .</td>\n",
       "      <td>tom n' a pas parlé .</td>\n",
       "    </tr>\n",
       "    <tr>\n",
       "      <th>14637</th>\n",
       "      <td>i just want to be clear .</td>\n",
       "      <td>je veux être claire , un point c' est tout .</td>\n",
       "      <td>je veux simplement être clair .</td>\n",
       "      <td>je veux tout simplement être clair .</td>\n",
       "    </tr>\n",
       "  </tbody>\n",
       "</table>\n",
       "</div>"
      ],
      "text/plain": [
       "                                  source  \\\n",
       "28455  whatever happened to your pride ?   \n",
       "231               i feel kind of tired .   \n",
       "15495   i think that 's tom over there .   \n",
       "1897         tom did n't talk about it .   \n",
       "14637          i just want to be clear .   \n",
       "\n",
       "                                        true_target  \\\n",
       "28455         qu' est - il advenu de votre fierté ?   \n",
       "231                      je me sens comme fatigué .   \n",
       "15495              je pense que c' est tom là-bas .   \n",
       "1897                        tom n' en a pas parlé .   \n",
       "14637  je veux être claire , un point c' est tout .   \n",
       "\n",
       "                                   pred_wo_attn  \\\n",
       "28455            qu' est -ce qui t' a eu lieu ?   \n",
       "231    je me sens fatigué , un point de temps .   \n",
       "15495          je pense que c' est tom là-bas .   \n",
       "1897                    tom n' en a pas parlé .   \n",
       "14637           je veux simplement être clair .   \n",
       "\n",
       "                                         pred_w_attn  \n",
       "28455  qu' est - il advenu de ma part de la fierté ?  \n",
       "231                      je me sens assez fatiguée .  \n",
       "15495                  je pense que c' est tom ici .  \n",
       "1897                            tom n' a pas parlé .  \n",
       "14637           je veux tout simplement être clair .  "
      ]
     },
     "execution_count": 33,
     "metadata": {},
     "output_type": "execute_result"
    }
   ],
   "source": [
    "# Sample a few to review\n",
    "y_val_true_vs_pred_samp = y_val_true_vs_pred.sample(100, random_state=0)\n",
    "y_val_true_vs_pred_samp = y_val_true_vs_pred_samp[['source', 'true_target', 'pred_wo_attn', 'pred_w_attn']]\n",
    "y_val_true_vs_pred_samp.head()"
   ]
  },
  {
   "cell_type": "code",
   "execution_count": 51,
   "metadata": {
    "collapsed": true
   },
   "outputs": [],
   "source": [
    "# Output\n",
    "y_val_true_vs_pred_samp.to_csv(os.path.join(data_path, 'translate-true_vs_pred_samp.csv'), index=False, encoding='utf-8')"
   ]
  },
  {
   "cell_type": "markdown",
   "metadata": {
    "collapsed": true
   },
   "source": [
    "## Compute BLEU scores"
   ]
  },
  {
   "cell_type": "code",
   "execution_count": 12,
   "metadata": {
    "collapsed": false
   },
   "outputs": [
    {
     "data": {
      "text/plain": [
       "(154165, 154165)"
      ]
     },
     "execution_count": 12,
     "metadata": {},
     "output_type": "execute_result"
    }
   ],
   "source": [
    "# Consolidate references\n",
    "# (Because in our dataset, one source can have multiple targets)\n",
    "X = list(X_trn) + list(X_val)\n",
    "y = list(y_trn) + list(y_val)\n",
    "\n",
    "X = [' '.join(s) for s in X]\n",
    "y = [' '.join(s) for s in y]\n",
    "\n",
    "len(X), len(y)"
   ]
  },
  {
   "cell_type": "code",
   "execution_count": 20,
   "metadata": {
    "collapsed": false
   },
   "outputs": [
    {
     "data": {
      "text/plain": [
       "107063"
      ]
     },
     "execution_count": 20,
     "metadata": {},
     "output_type": "execute_result"
    }
   ],
   "source": [
    "ref_dict = defaultdict(list)\n",
    "for source, target in zip(X, y):\n",
    "    ref_dict[source].append(target)\n",
    "len(ref_dict)"
   ]
  },
  {
   "cell_type": "code",
   "execution_count": 23,
   "metadata": {
    "collapsed": false,
    "scrolled": true
   },
   "outputs": [],
   "source": [
    "# Compute corpus-level BLEU score\n",
    "def compute_corpus_bleu(references, candidates):\n",
    "    # BLEU-1\n",
    "    bleu_1 = corpus_bleu(references, candidates, weights=(1, 0, 0, 0))\n",
    "    \n",
    "    # BLEU-2\n",
    "    bleu_2 = corpus_bleu(references, candidates, weights=(0.5, 0.5, 0, 0))\n",
    "    \n",
    "    # BLEU-3\n",
    "    bleu_3 = corpus_bleu(references, candidates, weights=(0.33, 0.33, 0.33, 0))\n",
    "    \n",
    "    # BLEU-4\n",
    "    bleu_4 = corpus_bleu(references, candidates, weights=(0.25, 0.25, 0.25, 0.25))\n",
    "    \n",
    "    return bleu_1, bleu_2, bleu_3, bleu_4"
   ]
  },
  {
   "cell_type": "code",
   "execution_count": 30,
   "metadata": {
    "collapsed": false
   },
   "outputs": [
    {
     "data": {
      "text/plain": [
       "(0.8536728721055523, 0.784398209621765, 0.7326710298036436, 0.6902931135202556)"
      ]
     },
     "execution_count": 30,
     "metadata": {},
     "output_type": "execute_result"
    }
   ],
   "source": [
    "# Without attention\n",
    "compute_corpus_bleu([ref_dict[' '.join(x)] for x in X_val], y_val_pred_wo_attn)"
   ]
  },
  {
   "cell_type": "code",
   "execution_count": 31,
   "metadata": {
    "collapsed": false
   },
   "outputs": [
    {
     "data": {
      "text/plain": [
       "(0.8507479614410364,\n",
       " 0.7792955776209668,\n",
       " 0.7269795048266477,\n",
       " 0.6848341640278216)"
      ]
     },
     "execution_count": 31,
     "metadata": {},
     "output_type": "execute_result"
    }
   ],
   "source": [
    "# With attention\n",
    "compute_corpus_bleu([ref_dict[' '.join(x)] for x in X_val], y_val_pred_w_attn)"
   ]
  },
  {
   "cell_type": "code",
   "execution_count": 34,
   "metadata": {
    "collapsed": false
   },
   "outputs": [
    {
     "data": {
      "text/plain": [
       "(1.999, 5.0]    0.208543\n",
       "(6.0, 7.0]      0.178575\n",
       "(5.0, 6.0]      0.175332\n",
       "(7.0, 8.0]      0.143807\n",
       "(9.0, 11.0]     0.113709\n",
       "(8.0, 9.0]      0.104531\n",
       "(11.0, 20.0]    0.075504\n",
       "Name: source_len_grp, dtype: float64"
      ]
     },
     "execution_count": 34,
     "metadata": {},
     "output_type": "execute_result"
    }
   ],
   "source": [
    "# Compute BLEU by sentence length\n",
    "y_val_true_vs_pred['source_len'] = y_val_true_vs_pred['source'].str.split().str.len()\n",
    "y_val_true_vs_pred['source_len_grp'] = pd.qcut(y_val_true_vs_pred['source_len'], 10, duplicates='drop')\n",
    "y_val_true_vs_pred['source_len_grp'].value_counts(normalize=True)"
   ]
  },
  {
   "cell_type": "code",
   "execution_count": 36,
   "metadata": {
    "collapsed": false
   },
   "outputs": [
    {
     "data": {
      "text/plain": [
       "<matplotlib.axes._subplots.AxesSubplot at 0x7efdd11c90d0>"
      ]
     },
     "execution_count": 36,
     "metadata": {},
     "output_type": "execute_result"
    },
    {
     "data": {
      "image/png": "[encoded data removed]",
      "text/plain": [
       "<Figure size 432x288 with 1 Axes>"
      ]
     },
     "metadata": {
      "image/png": {
       "height": 327,
       "width": 373
      }
     },
     "output_type": "display_data"
    }
   ],
   "source": [
    "def compute_corpus_bleu_using_df(sources, candidates):\n",
    "    references = [ref_dict[source] for source in sources.tolist()]\n",
    "    return compute_corpus_bleu(references, candidates)\n",
    "\n",
    "bleu_by_len_wo_attn = y_val_true_vs_pred.groupby('source_len_grp').apply(lambda grp: compute_corpus_bleu_using_df(grp['source'], grp['pred_wo_attn'])[-1])\n",
    "bleu_by_len_w_attn = y_val_true_vs_pred.groupby('source_len_grp').apply(lambda grp: compute_corpus_bleu_using_df(grp['source'], grp['pred_w_attn'])[-1])\n",
    "\n",
    "# Combine and visualize\n",
    "pd.DataFrame(bleu_by_len_wo_attn, columns=['wo_attn']).join(pd.DataFrame(bleu_by_len_w_attn, columns=['w_attn'])).plot(kind='bar', title='BLEU score per source length')"
   ]
  },
  {
   "cell_type": "markdown",
   "metadata": {},
   "source": [
    "## Visualize attention weights"
   ]
  },
  {
   "cell_type": "code",
   "execution_count": 57,
   "metadata": {
    "collapsed": true
   },
   "outputs": [],
   "source": [
    "def visualize_attn_weights(input_seq, output_seq, attn_weights, ax):\n",
    "    # Remove paddings from the attention weights\n",
    "    attn_weights = attn_weights[:len(output_seq), :len(input_seq)]\n",
    "    \n",
    "    # Convert into a dataframe\n",
    "    attn_weights = pd.DataFrame(attn_weights, index=output_seq, columns=input_seq)\n",
    "    \n",
    "    # Visualize as a heatmap\n",
    "    fig = sns.heatmap(attn_weights[::-1], cmap='bone', ax=ax)\n",
    "    fig.set_xticklabels(fig.get_xticklabels(), rotation=90)\n",
    "    fig.set_yticklabels(fig.get_yticklabels(), rotation=0)\n",
    "    return fig"
   ]
  },
  {
   "cell_type": "code",
   "execution_count": 58,
   "metadata": {
    "collapsed": false
   },
   "outputs": [
    {
     "data": {
      "text/plain": [
       "2827"
      ]
     },
     "execution_count": 58,
     "metadata": {},
     "output_type": "execute_result"
    }
   ],
   "source": [
    "# For visualization purposes, select the predictions that match the truths perfectly\n",
    "ix = np.where([true == pred.split() for true, pred in zip(y_val, y_val_pred_w_attn)])[0]\n",
    "len(ix)"
   ]
  },
  {
   "cell_type": "code",
   "execution_count": 59,
   "metadata": {
    "collapsed": true
   },
   "outputs": [],
   "source": [
    "# Sample a few of them to visualize\n",
    "np.random.seed(0)\n",
    "ix_samp = np.random.choice(ix, 9, replace=False)"
   ]
  },
  {
   "cell_type": "code",
   "execution_count": 60,
   "metadata": {
    "collapsed": false,
    "scrolled": false
   },
   "outputs": [
    {
     "data": {
      "image/png": "[encoded data removed]",
      "text/plain": [
       "<Figure size 1152x1008 with 18 Axes>"
      ]
     },
     "metadata": {
      "image/png": {
       "height": 823,
       "width": 953
      }
     },
     "output_type": "display_data"
    }
   ],
   "source": [
    "# Visualize\n",
    "fig, axes = plt.subplots(3, 3, figsize=(16, 14))\n",
    "\n",
    "for i, ax in enumerate(np.ravel(axes)):\n",
    "    input_seq = X_val[ix_samp[i]]\n",
    "    output_seq = y_val_pred_w_attn[ix_samp[i]].split()\n",
    "    attn_weights = np.array([a[ix_samp[i]] for a in y_val_attn_weights])\n",
    "    visualize_attn_weights(input_seq, output_seq, attn_weights, ax)"
   ]
  },
  {
   "cell_type": "code",
   "execution_count": null,
   "metadata": {
    "collapsed": true
   },
   "outputs": [],
   "source": []
  }
 ],
 "metadata": {
  "kernelspec": {
   "display_name": "Python 2 (General DS)",
   "language": "python",
   "name": "python2"
  },
  "language_info": {
   "codemirror_mode": {
    "name": "ipython",
    "version": 2
   },
   "file_extension": ".py",
   "mimetype": "text/x-python",
   "name": "python",
   "nbconvert_exporter": "python",
   "pygments_lexer": "ipython2",
   "version": "2.7.9"
  }
 },
 "nbformat": 4,
 "nbformat_minor": 2
}
