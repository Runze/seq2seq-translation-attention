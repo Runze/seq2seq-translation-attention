{
 "cells": [
  {
   "cell_type": "code",
   "execution_count": 1,
   "metadata": {
    "collapsed": false
   },
   "outputs": [
    {
     "name": "stderr",
     "output_type": "stream",
     "text": [
      "Using TensorFlow backend.\n"
     ]
    }
   ],
   "source": [
    "import io\n",
    "import re\n",
    "import numpy as np\n",
    "import pandas as pd\n",
    "import seaborn as sns\n",
    "import itertools\n",
    "from collections import Counter, defaultdict\n",
    "import spacy\n",
    "from sklearn.model_selection import train_test_split\n",
    "from nltk.tokenize.treebank import TreebankWordDetokenizer as Detok\n",
    "from nltk.translate.bleu_score import corpus_bleu\n",
    "\n",
    "import tensorflow as tf\n",
    "from keras.preprocessing.sequence import pad_sequences\n",
    "from keras.utils import to_categorical\n",
    "from keras import Input, layers\n",
    "from keras.activations import softmax\n",
    "from keras.models import Sequential, Model, load_model\n",
    "from keras.optimizers import Adam\n",
    "from keras.callbacks import ReduceLROnPlateau, EarlyStopping, ModelCheckpoint, Callback\n",
    "from keras import backend as K\n",
    "\n",
    "import multiprocessing\n",
    "from joblib import Parallel, delayed\n",
    "num_cores = multiprocessing.cpu_count()"
   ]
  },
  {
   "cell_type": "code",
   "execution_count": 2,
   "metadata": {
    "collapsed": true
   },
   "outputs": [],
   "source": [
    "%matplotlib inline\n",
    "%reload_ext autoreload\n",
    "%autoreload 2\n",
    "%config InlineBackend.figure_format = 'retina'"
   ]
  },
  {
   "cell_type": "code",
   "execution_count": 3,
   "metadata": {
    "collapsed": true
   },
   "outputs": [],
   "source": [
    "data_path = '../data'\n",
    "model_path = '../model'"
   ]
  },
  {
   "cell_type": "code",
   "execution_count": 51,
   "metadata": {
    "collapsed": false
   },
   "outputs": [
    {
     "name": "stdout",
     "output_type": "stream",
     "text": [
      "_about.txt  fra.txt\r\n"
     ]
    }
   ],
   "source": [
    "!ls ../data/fra-eng"
   ]
  },
  {
   "cell_type": "code",
   "execution_count": 4,
   "metadata": {
    "collapsed": false
   },
   "outputs": [],
   "source": [
    "# Translation data\n",
    "# http://www.manythings.org/anki/\n",
    "with io.open(os.path.join(data_path, 'fra-eng/fra.txt'), encoding='utf-8') as f:\n",
    "    lines = f.read().split('\\n')\n",
    "\n",
    "pairs = [l.split('\\t') for l in lines if l != '']\n",
    "pairs = [[re.sub(u\"\\u202f|\\u2009\", \" \", s) for s in p] for p in pairs]"
   ]
  },
  {
   "cell_type": "code",
   "execution_count": 5,
   "metadata": {
    "collapsed": false
   },
   "outputs": [
    {
     "data": {
      "text/plain": [
       "(154883, 154883)"
      ]
     },
     "execution_count": 5,
     "metadata": {},
     "output_type": "execute_result"
    }
   ],
   "source": [
    "X, y = np.array(pairs)[:, 0], np.array(pairs)[:, 1]\n",
    "len(X), len(y)"
   ]
  },
  {
   "cell_type": "code",
   "execution_count": 6,
   "metadata": {
    "collapsed": false
   },
   "outputs": [
    {
     "data": {
      "text/plain": [
       "[(u'Go.', u'Va !'),\n",
       " (u'Run!', u'Cours !'),\n",
       " (u'Run!', u'Courez !'),\n",
       " (u'Fire!', u'Au feu !'),\n",
       " (u'Help!', u\"\\xc0 l'aide !\")]"
      ]
     },
     "execution_count": 6,
     "metadata": {},
     "output_type": "execute_result"
    }
   ],
   "source": [
    "zip(X, y)[:5]"
   ]
  },
  {
   "cell_type": "markdown",
   "metadata": {},
   "source": [
    "# Extract features"
   ]
  },
  {
   "cell_type": "code",
   "execution_count": 7,
   "metadata": {
    "collapsed": false
   },
   "outputs": [],
   "source": [
    "# Tokenize\n",
    "spacy_tokenizer = spacy.load('xx')"
   ]
  },
  {
   "cell_type": "code",
   "execution_count": 8,
   "metadata": {
    "collapsed": false
   },
   "outputs": [
    {
     "data": {
      "text/plain": [
       "(154883, 154883)"
      ]
     },
     "execution_count": 8,
     "metadata": {},
     "output_type": "execute_result"
    }
   ],
   "source": [
    "def tokenize(msg):\n",
    "    return [tok.text for tok in spacy_tokenizer.tokenizer(unicode(msg.lower()))]\n",
    "\n",
    "X = Parallel(n_jobs=num_cores)(delayed(tokenize)(msg) for msg in X)\n",
    "y = Parallel(n_jobs=num_cores)(delayed(tokenize)(msg) for msg in y)\n",
    "\n",
    "len(X), len(y)"
   ]
  },
  {
   "cell_type": "code",
   "execution_count": 9,
   "metadata": {
    "collapsed": false
   },
   "outputs": [
    {
     "data": {
      "text/plain": [
       "[([u'go', u'.'], [u'va', u'!']),\n",
       " ([u'run', u'!'], [u'cours', u'!']),\n",
       " ([u'run', u'!'], [u'courez', u'!']),\n",
       " ([u'fire', u'!'], [u'au', u'feu', u'!']),\n",
       " ([u'help', u'!'], [u'\\xe0', u\"l'aide\", u'!'])]"
      ]
     },
     "execution_count": 9,
     "metadata": {},
     "output_type": "execute_result"
    }
   ],
   "source": [
    "zip(X, y)[:5]"
   ]
  },
  {
   "cell_type": "code",
   "execution_count": 10,
   "metadata": {
    "collapsed": false
   },
   "outputs": [
    {
     "data": {
      "text/plain": [
       "154326"
      ]
     },
     "execution_count": 10,
     "metadata": {},
     "output_type": "execute_result"
    }
   ],
   "source": [
    "# For ease of training, only keep sentences shorter than 20 words\n",
    "X_len = [len(msg) for msg in X]\n",
    "y_len = [len(msg) for msg in y]\n",
    "\n",
    "min_len = 2\n",
    "max_len = 20\n",
    "\n",
    "X_to_keep_ix = np.where((np.array(X_len) >= min_len) & (np.array(X_len) <= max_len))[0]\n",
    "y_to_keep_ix = np.where((np.array(y_len) >= min_len) & (np.array(y_len) <= max_len))[0]\n",
    "\n",
    "to_keep_ix = np.intersect1d(X_to_keep_ix, y_to_keep_ix)\n",
    "len(to_keep_ix)"
   ]
  },
  {
   "cell_type": "code",
   "execution_count": 11,
   "metadata": {
    "collapsed": false
   },
   "outputs": [
    {
     "data": {
      "text/plain": [
       "(154326, 154326)"
      ]
     },
     "execution_count": 11,
     "metadata": {},
     "output_type": "execute_result"
    }
   ],
   "source": [
    "X = np.array(X)[to_keep_ix]\n",
    "y = np.array(y)[to_keep_ix]\n",
    "\n",
    "len(X), len(y)"
   ]
  },
  {
   "cell_type": "code",
   "execution_count": 12,
   "metadata": {
    "collapsed": false
   },
   "outputs": [
    {
     "data": {
      "text/plain": [
       "(123460, 30866, 123460, 30866)"
      ]
     },
     "execution_count": 12,
     "metadata": {},
     "output_type": "execute_result"
    }
   ],
   "source": [
    "# Split into training and validation sets\n",
    "X_trn, X_val, y_trn, y_val = train_test_split(X, y, test_size=.2, random_state=0)\n",
    "len(X_trn), len(X_val), len(y_trn), len(y_val)"
   ]
  },
  {
   "cell_type": "code",
   "execution_count": 13,
   "metadata": {
    "collapsed": false
   },
   "outputs": [
    {
     "data": {
      "text/plain": [
       "(929627, 982087)"
      ]
     },
     "execution_count": 13,
     "metadata": {},
     "output_type": "execute_result"
    }
   ],
   "source": [
    "# Create mappers (using training data)\n",
    "X_toks_trn = list(itertools.chain(*X_trn))\n",
    "y_toks_trn = list(itertools.chain(*y_trn))\n",
    "\n",
    "len(X_toks_trn), len(y_toks_trn)"
   ]
  },
  {
   "cell_type": "code",
   "execution_count": 14,
   "metadata": {
    "collapsed": true
   },
   "outputs": [],
   "source": [
    "UNK = '_unk_'\n",
    "PAD = '_pad_'\n",
    "\n",
    "def create_mapper(toks, max_vocab=100000, min_freq=1, UNK=UNK, PAD=PAD):\n",
    "    \"\"\"Create mappers between tokens and numerical indices.\n",
    "\n",
    "    Parameters\n",
    "    ----------\n",
    "    toks : A list containing all raw tokens (before deduping).\n",
    "\n",
    "    max_vocab : The maximum vocabulary size.\n",
    "\n",
    "    min_freq : The minimum frequency for a token to be included in the vocabulary.\n",
    "\n",
    "    UNK : Special token for unknown word (default to '_unk_').\n",
    "\n",
    "    PAD : Special token for paddings (default to '_pad_').\n",
    "\n",
    "    Returns\n",
    "    -------\n",
    "    stoi : A dictionary that maps tokens to indices.\n",
    "\n",
    "    itos : A list that maps indices to tokens.\n",
    "    \"\"\"\n",
    "    \n",
    "    toks_freq = Counter(toks)\n",
    "    \n",
    "    itos = [s for s, c in toks_freq.most_common(max_vocab) if c >= min_freq]\n",
    "    \n",
    "    if PAD:\n",
    "        if UNK:\n",
    "            itos.insert(0, UNK)\n",
    "            itos.insert(0, PAD)  # Note the index for UNK is 1 and the index for PAD is 0\n",
    "\n",
    "            stoi = defaultdict(lambda: 1, {v: k for k, v in enumerate(itos)})\n",
    "        else:\n",
    "            itos.insert(0, PAD)  # Note the index for PAD is 0\n",
    "            stoi = {v: k for k, v in enumerate(itos)}\n",
    "    else:\n",
    "        if UNK:\n",
    "            itos.insert(0, UNK)  # Note the index for UNK is 0\n",
    "            stoi = defaultdict(lambda: 0, {v: k for k, v in enumerate(itos)})\n",
    "        else:\n",
    "            stoi = {v: k for k, v in enumerate(itos)}\n",
    "    \n",
    "    return stoi, itos"
   ]
  },
  {
   "cell_type": "code",
   "execution_count": 15,
   "metadata": {
    "collapsed": false
   },
   "outputs": [
    {
     "data": {
      "text/plain": [
       "(12637, 23952)"
      ]
     },
     "execution_count": 15,
     "metadata": {},
     "output_type": "execute_result"
    }
   ],
   "source": [
    "X_stoi, X_itos = create_mapper(X_toks_trn)\n",
    "y_stoi, y_itos = create_mapper(y_toks_trn)\n",
    "\n",
    "len(X_itos), len(y_itos)"
   ]
  },
  {
   "cell_type": "code",
   "execution_count": 16,
   "metadata": {
    "collapsed": false
   },
   "outputs": [
    {
     "data": {
      "text/plain": [
       "['_pad_', '_unk_', u'.', u'i', u'you', u'to', u'the', u'?', u'a', u\"n't\"]"
      ]
     },
     "execution_count": 16,
     "metadata": {},
     "output_type": "execute_result"
    }
   ],
   "source": [
    "X_itos[:10]"
   ]
  },
  {
   "cell_type": "code",
   "execution_count": 17,
   "metadata": {
    "collapsed": false
   },
   "outputs": [
    {
     "data": {
      "text/plain": [
       "['_pad_', '_unk_', u'.', u'je', u'de', u'-', u'?', u'pas', u'vous', u'que']"
      ]
     },
     "execution_count": 17,
     "metadata": {},
     "output_type": "execute_result"
    }
   ],
   "source": [
    "y_itos[:10]"
   ]
  },
  {
   "cell_type": "code",
   "execution_count": 18,
   "metadata": {
    "collapsed": true
   },
   "outputs": [],
   "source": [
    "# Add GO (only needed for the target mappers)\n",
    "GO = '_go_'\n",
    "\n",
    "y_stoi[GO] = len(y_stoi)\n",
    "y_itos.append(GO)"
   ]
  },
  {
   "cell_type": "code",
   "execution_count": 19,
   "metadata": {
    "collapsed": true
   },
   "outputs": [],
   "source": [
    "# Encode text features\n",
    "def encode_msg(toks, stoi, max_len, padding_pos='post', truncating='pre', padding_token=PAD):\n",
    "    # Index\n",
    "    toks_id = [[stoi[tok] for tok in msg] for msg in toks]\n",
    "    \n",
    "    # Pad\n",
    "    toks_id_pad = pad_sequences(toks_id, max_len, padding=padding_pos, truncating=truncating, value=stoi[padding_token])\n",
    "    \n",
    "    return toks_id_pad"
   ]
  },
  {
   "cell_type": "code",
   "execution_count": 20,
   "metadata": {
    "collapsed": false
   },
   "outputs": [
    {
     "data": {
      "text/plain": [
       "((123460, 20), (123460, 20), (30866, 20), (30866, 20))"
      ]
     },
     "execution_count": 20,
     "metadata": {},
     "output_type": "execute_result"
    }
   ],
   "source": [
    "X_ix_trn = encode_msg(X_trn, X_stoi, max_len)\n",
    "y_ix_trn = encode_msg(y_trn, y_stoi, max_len)\n",
    "X_ix_val = encode_msg(X_val, X_stoi, max_len)\n",
    "y_ix_val = encode_msg(y_val, y_stoi, max_len)\n",
    "\n",
    "X_ix_trn.shape, y_ix_trn.shape, X_ix_val.shape, y_ix_val.shape"
   ]
  },
  {
   "cell_type": "code",
   "execution_count": 21,
   "metadata": {
    "collapsed": false
   },
   "outputs": [
    {
     "data": {
      "text/plain": [
       "(array([u'here', u'is', u'a', u'brief', u'description', u'.', u'_pad_',\n",
       "        u'_pad_', u'_pad_', u'_pad_', u'_pad_', u'_pad_', u'_pad_',\n",
       "        u'_pad_', u'_pad_', u'_pad_', u'_pad_', u'_pad_', u'_pad_',\n",
       "        u'_pad_'], dtype='<U17'),\n",
       " array([u'voici', u'une', u'br\\xe8ve', u'description', u'.', u'_pad_',\n",
       "        u'_pad_', u'_pad_', u'_pad_', u'_pad_', u'_pad_', u'_pad_',\n",
       "        u'_pad_', u'_pad_', u'_pad_', u'_pad_', u'_pad_', u'_pad_',\n",
       "        u'_pad_', u'_pad_'], dtype='<U19'))"
      ]
     },
     "execution_count": 21,
     "metadata": {},
     "output_type": "execute_result"
    }
   ],
   "source": [
    "# Sanity check\n",
    "np.array(X_itos)[X_ix_trn[0]], np.array(y_itos)[y_ix_trn[0]]"
   ]
  },
  {
   "cell_type": "code",
   "execution_count": 22,
   "metadata": {
    "collapsed": false
   },
   "outputs": [
    {
     "data": {
      "text/plain": [
       "(array([u'tom', u'said', u'my', u'plan', u'would', u\"n't\", u'work', u'.',\n",
       "        u'_pad_', u'_pad_', u'_pad_', u'_pad_', u'_pad_', u'_pad_',\n",
       "        u'_pad_', u'_pad_', u'_pad_', u'_pad_', u'_pad_', u'_pad_'],\n",
       "       dtype='<U17'),\n",
       " array([u'tom', u'a', u'dit', u'que', u'mon', u'plan', u'ne',\n",
       "        u'fonctionnera', u'pas', u'.', u'_pad_', u'_pad_', u'_pad_',\n",
       "        u'_pad_', u'_pad_', u'_pad_', u'_pad_', u'_pad_', u'_pad_',\n",
       "        u'_pad_'], dtype='<U19'))"
      ]
     },
     "execution_count": 22,
     "metadata": {},
     "output_type": "execute_result"
    }
   ],
   "source": [
    "np.array(X_itos)[X_ix_val[0]], np.array(y_itos)[y_ix_val[0]]"
   ]
  },
  {
   "cell_type": "markdown",
   "metadata": {},
   "source": [
    "# Create models"
   ]
  },
  {
   "cell_type": "code",
   "execution_count": 23,
   "metadata": {
    "collapsed": true
   },
   "outputs": [],
   "source": [
    "K.clear_session()"
   ]
  },
  {
   "cell_type": "markdown",
   "metadata": {},
   "source": [
    "## Encoder"
   ]
  },
  {
   "cell_type": "code",
   "execution_count": 24,
   "metadata": {
    "collapsed": true
   },
   "outputs": [],
   "source": [
    "# Define hidden size\n",
    "hidden_size_enc = 256\n",
    "hidden_size_dec = 256"
   ]
  },
  {
   "cell_type": "code",
   "execution_count": 25,
   "metadata": {
    "collapsed": false
   },
   "outputs": [],
   "source": [
    "# Define layers\n",
    "txt_embed_size = 256\n",
    "\n",
    "X_embed_layer = layers.Embedding(input_dim=len(X_itos), output_dim=txt_embed_size, name='X_embed_layer')\n",
    "lstm_enc = layers.LSTM(hidden_size_enc, return_sequences=True, return_state=True, name='lstm_enc')"
   ]
  },
  {
   "cell_type": "code",
   "execution_count": 26,
   "metadata": {
    "collapsed": true
   },
   "outputs": [],
   "source": [
    "# Input tensor\n",
    "X = Input(shape=(max_len, ), name='X')"
   ]
  },
  {
   "cell_type": "code",
   "execution_count": 27,
   "metadata": {
    "collapsed": true
   },
   "outputs": [],
   "source": [
    "# Encode\n",
    "def encode(X):\n",
    "    X_emb = X_embed_layer(X)\n",
    "    a_enc, h_enc, c_enc = lstm_enc(X_emb)\n",
    "    return a_enc, h_enc, c_enc"
   ]
  },
  {
   "cell_type": "markdown",
   "metadata": {},
   "source": [
    "## Decoder without attention"
   ]
  },
  {
   "cell_type": "markdown",
   "metadata": {},
   "source": [
    "### Decoder"
   ]
  },
  {
   "cell_type": "code",
   "execution_count": 28,
   "metadata": {
    "collapsed": false
   },
   "outputs": [],
   "source": [
    "# Define layers\n",
    "y_embed_layer = layers.Embedding(input_dim=len(y_itos), output_dim=txt_embed_size, name='y_embed_layer')\n",
    "lstm_dec_wo_attn = layers.LSTM(hidden_size_dec, return_sequences=True, return_state=True, name='lstm_dec_wo_attn')\n",
    "densor_dec = layers.Dense(len(y_itos), activation='softmax', name='densor_dec')"
   ]
  },
  {
   "cell_type": "code",
   "execution_count": 29,
   "metadata": {
    "collapsed": false
   },
   "outputs": [],
   "source": [
    "# Decoder input used in training (i.e., \"GO\" + `y` shifted by 1)\n",
    "in_dec = Input(shape=(max_len, ), name='in_dec')"
   ]
  },
  {
   "cell_type": "code",
   "execution_count": 30,
   "metadata": {
    "collapsed": true
   },
   "outputs": [],
   "source": [
    "def decode_wo_attn(in_dec, h_enc, c_enc):\n",
    "    in_dec_emb = y_embed_layer(in_dec)\n",
    "    \n",
    "    # Feed into decoder LSTM\n",
    "    a_dec, h_dec, c_dec = lstm_dec_wo_attn(in_dec_emb, initial_state=[h_enc, c_enc])\n",
    "    \n",
    "    # Feed the output into a dense layer with softmax\n",
    "    out_dec = densor_dec(a_dec)\n",
    "    return out_dec, h_dec, c_dec"
   ]
  },
  {
   "cell_type": "markdown",
   "metadata": {},
   "source": [
    "### Put together"
   ]
  },
  {
   "cell_type": "code",
   "execution_count": 31,
   "metadata": {
    "collapsed": false
   },
   "outputs": [],
   "source": [
    "# Encode\n",
    "a_enc, h_enc, c_enc = encode(X)"
   ]
  },
  {
   "cell_type": "code",
   "execution_count": 32,
   "metadata": {
    "collapsed": true
   },
   "outputs": [],
   "source": [
    "# Decode\n",
    "out_dec, _, _ = decode_wo_attn(in_dec, h_enc, c_enc)"
   ]
  },
  {
   "cell_type": "code",
   "execution_count": 33,
   "metadata": {
    "collapsed": false
   },
   "outputs": [
    {
     "name": "stdout",
     "output_type": "stream",
     "text": [
      "__________________________________________________________________________________________________\n",
      "Layer (type)                    Output Shape         Param #     Connected to                     \n",
      "==================================================================================================\n",
      "X (InputLayer)                  (None, 20)           0                                            \n",
      "__________________________________________________________________________________________________\n",
      "in_dec (InputLayer)             (None, 20)           0                                            \n",
      "__________________________________________________________________________________________________\n",
      "X_embed_layer (Embedding)       (None, 20, 256)      3235072     X[0][0]                          \n",
      "__________________________________________________________________________________________________\n",
      "y_embed_layer (Embedding)       (None, 20, 256)      6131968     in_dec[0][0]                     \n",
      "__________________________________________________________________________________________________\n",
      "lstm_enc (LSTM)                 [(None, 20, 256), (N 525312      X_embed_layer[0][0]              \n",
      "__________________________________________________________________________________________________\n",
      "lstm_dec_wo_attn (LSTM)         [(None, 20, 256), (N 525312      y_embed_layer[0][0]              \n",
      "                                                                 lstm_enc[0][1]                   \n",
      "                                                                 lstm_enc[0][2]                   \n",
      "__________________________________________________________________________________________________\n",
      "densor_dec (Dense)              (None, 20, 23953)    6155921     lstm_dec_wo_attn[0][0]           \n",
      "==================================================================================================\n",
      "Total params: 16,573,585\n",
      "Trainable params: 16,573,585\n",
      "Non-trainable params: 0\n",
      "__________________________________________________________________________________________________\n"
     ]
    }
   ],
   "source": [
    "# Put together\n",
    "model_wo_attn = Model(inputs=[X, in_dec], outputs=out_dec)\n",
    "model_wo_attn.summary()"
   ]
  },
  {
   "cell_type": "code",
   "execution_count": 34,
   "metadata": {
    "collapsed": true
   },
   "outputs": [],
   "source": [
    "model_wo_attn.compile(optimizer='adam', loss='sparse_categorical_crossentropy', metrics=['sparse_categorical_accuracy'])"
   ]
  },
  {
   "cell_type": "markdown",
   "metadata": {},
   "source": [
    "## Decoder with attention"
   ]
  },
  {
   "cell_type": "markdown",
   "metadata": {},
   "source": [
    "### Attention layer"
   ]
  },
  {
   "cell_type": "code",
   "execution_count": 49,
   "metadata": {
    "collapsed": true
   },
   "outputs": [],
   "source": [
    "# Define layers\n",
    "in_dec_embed_flattener = layers.Flatten(name='in_dec_embed_flattener')  # Needed because embedding output has an exrta dimension in the middle\n",
    "attn_repeator = layers.RepeatVector(max_len, name='attn_repeator')\n",
    "attn_concatenator = layers.Concatenate(name='attn_concatenator')\n",
    "attn_weights_computer = layers.Dense(1, activation='tanh', name='attn_weights_computer')\n",
    "\n",
    "def softmax_axis_1(x):\n",
    "    return softmax(x, axis=1)\n",
    "attn_weights_normalizer = layers.Activation(softmax_axis_1, name='attn_weights_normalizer')\n",
    "\n",
    "attn_context_computer = layers.Dot(axes=1, name='attn_context_computer')"
   ]
  },
  {
   "cell_type": "code",
   "execution_count": 50,
   "metadata": {
    "collapsed": true
   },
   "outputs": [],
   "source": [
    "def one_step_attn(a_enc, in_dec_embed):\n",
    "    # Repeat `in_dec_embed`\n",
    "    in_dec_embed = in_dec_embed_flattener(in_dec_embed)  # (None, txt_embed_size)\n",
    "    in_dec_embed = attn_repeator(in_dec_embed)  # (None, timesteps, txt_embed_size)\n",
    "    \n",
    "    # Compute the attention weights\n",
    "    in_dec_w_a_enc = attn_concatenator([in_dec_embed, a_enc])  # (None, timesteps, txt_embed_size + hidden_size)\n",
    "    attn_weights = attn_weights_computer(in_dec_w_a_enc)  # (None, timesteps, 1)\n",
    "    \n",
    "    # Normalize all the weights using a softmax (the normalization is applied in the timestep's axis)\n",
    "    attn_weights_norm = attn_weights_normalizer(attn_weights)  # (None, timesteps, 1)\n",
    "    \n",
    "    # Use the normalized weights to compute the weighted-average encoder outputs (i.e., the context)\n",
    "    attn_context = attn_context_computer([attn_weights_norm, a_enc])  # (None, 1, hidden_size_dec)\n",
    "    \n",
    "    return attn_context, attn_weights_norm"
   ]
  },
  {
   "cell_type": "markdown",
   "metadata": {},
   "source": [
    "### Decoder"
   ]
  },
  {
   "cell_type": "code",
   "execution_count": 51,
   "metadata": {
    "collapsed": true
   },
   "outputs": [],
   "source": [
    "y_embed_layer = layers.Embedding(input_dim=len(y_itos), output_dim=txt_embed_size, name='y_embed_layer')\n",
    "context_input_concatenator = layers.Concatenate(name='context_input_concatenator')\n",
    "densor_dec_0 = layers.Dense(hidden_size_dec, name='densor_dec_0')\n",
    "lstm_dec_w_attn = layers.LSTM(hidden_size_dec, return_sequences=False, return_state=True, name='lstm_dec_w_attn')\n",
    "densor_dec_1 = layers.Dense(len(y_itos), activation='softmax', name='densor_dec_1')"
   ]
  },
  {
   "cell_type": "code",
   "execution_count": 52,
   "metadata": {
    "collapsed": true
   },
   "outputs": [],
   "source": [
    "# One-step decoder\n",
    "def decode_w_attn(in_dec, a_enc, h_dec_prev, c_dec_prev):\n",
    "    # Embed current decoder input\n",
    "    in_dec_embed = y_embed_layer(in_dec)\n",
    "    \n",
    "    # Compute context vector using the attention layer\n",
    "    attn_context, attn_weights_norm = one_step_attn(a_enc, in_dec_embed)\n",
    "    \n",
    "    # Concatenate with the decoder input\n",
    "    attn_context_w_input = context_input_concatenator([attn_context, in_dec_embed])\n",
    "    \n",
    "    # Reduce dimension to the original hidden size\n",
    "    attn_context_w_input = densor_dec_0(attn_context_w_input)\n",
    "    \n",
    "    # Feed into decoder LSTM\n",
    "    a_dec, h_dec, c_dec = lstm_dec_w_attn(attn_context_w_input, initial_state=[h_dec_prev, c_dec_prev])\n",
    "    \n",
    "    # Feed the output into a dense layer with softmax\n",
    "    out_dec = densor_dec_1(a_dec)\n",
    "    return out_dec, h_dec, c_dec, attn_weights_norm"
   ]
  },
  {
   "cell_type": "markdown",
   "metadata": {},
   "source": [
    "###  Put together"
   ]
  },
  {
   "cell_type": "code",
   "execution_count": 53,
   "metadata": {
    "collapsed": true
   },
   "outputs": [],
   "source": [
    "# Encode\n",
    "a_enc, h_enc, c_enc = encode(X)"
   ]
  },
  {
   "cell_type": "code",
   "execution_count": 54,
   "metadata": {
    "collapsed": false
   },
   "outputs": [],
   "source": [
    "# Decode\n",
    "in_dec_0 = Input(shape=(1, ), name='in_dec_0')  # Decoder starting token (\"_go_\")\n",
    "y = Input(shape=(max_len, ), name='y')\n",
    "y_slicer = layers.Lambda(lambda x: x[:, i:i+1], name='y_slicer')\n",
    "\n",
    "h_dec_prev, c_dec_prev = h_enc, c_enc\n",
    "in_dec = in_dec_0\n",
    "outs_dec = []\n",
    "\n",
    "for i in range(max_len):\n",
    "    out_dec, h_dec, c_dec, _ = decode_w_attn(in_dec, a_enc, h_dec_prev, c_dec_prev)\n",
    "    outs_dec.append(out_dec)\n",
    "    h_dec_prev, c_dec_prev = h_dec, c_dec\n",
    "    in_dec = y_slicer(y)"
   ]
  },
  {
   "cell_type": "code",
   "execution_count": 55,
   "metadata": {
    "collapsed": false
   },
   "outputs": [
    {
     "name": "stdout",
     "output_type": "stream",
     "text": [
      "__________________________________________________________________________________________________\n",
      "Layer (type)                    Output Shape         Param #     Connected to                     \n",
      "==================================================================================================\n",
      "in_dec_0 (InputLayer)           (None, 1)            0                                            \n",
      "__________________________________________________________________________________________________\n",
      "y (InputLayer)                  (None, 20)           0                                            \n",
      "__________________________________________________________________________________________________\n",
      "y_embed_layer (Embedding)       (None, 1, 256)       6131968     in_dec_0[0][0]                   \n",
      "                                                                 y_slicer[0][0]                   \n",
      "                                                                 y_slicer[1][0]                   \n",
      "                                                                 y_slicer[2][0]                   \n",
      "                                                                 y_slicer[3][0]                   \n",
      "                                                                 y_slicer[4][0]                   \n",
      "                                                                 y_slicer[5][0]                   \n",
      "                                                                 y_slicer[6][0]                   \n",
      "                                                                 y_slicer[7][0]                   \n",
      "                                                                 y_slicer[8][0]                   \n",
      "                                                                 y_slicer[9][0]                   \n",
      "                                                                 y_slicer[10][0]                  \n",
      "                                                                 y_slicer[11][0]                  \n",
      "                                                                 y_slicer[12][0]                  \n",
      "                                                                 y_slicer[13][0]                  \n",
      "                                                                 y_slicer[14][0]                  \n",
      "                                                                 y_slicer[15][0]                  \n",
      "                                                                 y_slicer[16][0]                  \n",
      "                                                                 y_slicer[17][0]                  \n",
      "                                                                 y_slicer[18][0]                  \n",
      "__________________________________________________________________________________________________\n",
      "X (InputLayer)                  (None, 20)           0                                            \n",
      "__________________________________________________________________________________________________\n",
      "y_slicer (Lambda)               (None, 1)            0           y[0][0]                          \n",
      "                                                                 y[0][0]                          \n",
      "                                                                 y[0][0]                          \n",
      "                                                                 y[0][0]                          \n",
      "                                                                 y[0][0]                          \n",
      "                                                                 y[0][0]                          \n",
      "                                                                 y[0][0]                          \n",
      "                                                                 y[0][0]                          \n",
      "                                                                 y[0][0]                          \n",
      "                                                                 y[0][0]                          \n",
      "                                                                 y[0][0]                          \n",
      "                                                                 y[0][0]                          \n",
      "                                                                 y[0][0]                          \n",
      "                                                                 y[0][0]                          \n",
      "                                                                 y[0][0]                          \n",
      "                                                                 y[0][0]                          \n",
      "                                                                 y[0][0]                          \n",
      "                                                                 y[0][0]                          \n",
      "                                                                 y[0][0]                          \n",
      "__________________________________________________________________________________________________\n",
      "in_dec_embed_flattener (Flatten (None, 256)          0           y_embed_layer[0][0]              \n",
      "                                                                 y_embed_layer[1][0]              \n",
      "                                                                 y_embed_layer[2][0]              \n",
      "                                                                 y_embed_layer[3][0]              \n",
      "                                                                 y_embed_layer[4][0]              \n",
      "                                                                 y_embed_layer[5][0]              \n",
      "                                                                 y_embed_layer[6][0]              \n",
      "                                                                 y_embed_layer[7][0]              \n",
      "                                                                 y_embed_layer[8][0]              \n",
      "                                                                 y_embed_layer[9][0]              \n",
      "                                                                 y_embed_layer[10][0]             \n",
      "                                                                 y_embed_layer[11][0]             \n",
      "                                                                 y_embed_layer[12][0]             \n",
      "                                                                 y_embed_layer[13][0]             \n",
      "                                                                 y_embed_layer[14][0]             \n",
      "                                                                 y_embed_layer[15][0]             \n",
      "                                                                 y_embed_layer[16][0]             \n",
      "                                                                 y_embed_layer[17][0]             \n",
      "                                                                 y_embed_layer[18][0]             \n",
      "                                                                 y_embed_layer[19][0]             \n",
      "__________________________________________________________________________________________________\n",
      "X_embed_layer (Embedding)       (None, 20, 256)      3235072     X[0][0]                          \n",
      "__________________________________________________________________________________________________\n",
      "attn_repeator (RepeatVector)    (None, 20, 256)      0           in_dec_embed_flattener[0][0]     \n",
      "                                                                 in_dec_embed_flattener[1][0]     \n",
      "                                                                 in_dec_embed_flattener[2][0]     \n",
      "                                                                 in_dec_embed_flattener[3][0]     \n",
      "                                                                 in_dec_embed_flattener[4][0]     \n",
      "                                                                 in_dec_embed_flattener[5][0]     \n",
      "                                                                 in_dec_embed_flattener[6][0]     \n",
      "                                                                 in_dec_embed_flattener[7][0]     \n",
      "                                                                 in_dec_embed_flattener[8][0]     \n",
      "                                                                 in_dec_embed_flattener[9][0]     \n",
      "                                                                 in_dec_embed_flattener[10][0]    \n",
      "                                                                 in_dec_embed_flattener[11][0]    \n",
      "                                                                 in_dec_embed_flattener[12][0]    \n",
      "                                                                 in_dec_embed_flattener[13][0]    \n",
      "                                                                 in_dec_embed_flattener[14][0]    \n",
      "                                                                 in_dec_embed_flattener[15][0]    \n",
      "                                                                 in_dec_embed_flattener[16][0]    \n",
      "                                                                 in_dec_embed_flattener[17][0]    \n",
      "                                                                 in_dec_embed_flattener[18][0]    \n",
      "                                                                 in_dec_embed_flattener[19][0]    \n",
      "__________________________________________________________________________________________________\n",
      "lstm_enc (LSTM)                 [(None, 20, 256), (N 525312      X_embed_layer[0][0]              \n",
      "__________________________________________________________________________________________________\n",
      "attn_concatenator (Concatenate) (None, 20, 512)      0           attn_repeator[0][0]              \n",
      "                                                                 lstm_enc[0][0]                   \n",
      "                                                                 attn_repeator[1][0]              \n",
      "                                                                 lstm_enc[0][0]                   \n",
      "                                                                 attn_repeator[2][0]              \n",
      "                                                                 lstm_enc[0][0]                   \n",
      "                                                                 attn_repeator[3][0]              \n",
      "                                                                 lstm_enc[0][0]                   \n",
      "                                                                 attn_repeator[4][0]              \n",
      "                                                                 lstm_enc[0][0]                   \n",
      "                                                                 attn_repeator[5][0]              \n",
      "                                                                 lstm_enc[0][0]                   \n",
      "                                                                 attn_repeator[6][0]              \n",
      "                                                                 lstm_enc[0][0]                   \n",
      "                                                                 attn_repeator[7][0]              \n",
      "                                                                 lstm_enc[0][0]                   \n",
      "                                                                 attn_repeator[8][0]              \n",
      "                                                                 lstm_enc[0][0]                   \n",
      "                                                                 attn_repeator[9][0]              \n",
      "                                                                 lstm_enc[0][0]                   \n",
      "                                                                 attn_repeator[10][0]             \n",
      "                                                                 lstm_enc[0][0]                   \n",
      "                                                                 attn_repeator[11][0]             \n",
      "                                                                 lstm_enc[0][0]                   \n",
      "                                                                 attn_repeator[12][0]             \n",
      "                                                                 lstm_enc[0][0]                   \n",
      "                                                                 attn_repeator[13][0]             \n",
      "                                                                 lstm_enc[0][0]                   \n",
      "                                                                 attn_repeator[14][0]             \n",
      "                                                                 lstm_enc[0][0]                   \n",
      "                                                                 attn_repeator[15][0]             \n",
      "                                                                 lstm_enc[0][0]                   \n",
      "                                                                 attn_repeator[16][0]             \n",
      "                                                                 lstm_enc[0][0]                   \n",
      "                                                                 attn_repeator[17][0]             \n",
      "                                                                 lstm_enc[0][0]                   \n",
      "                                                                 attn_repeator[18][0]             \n",
      "                                                                 lstm_enc[0][0]                   \n",
      "                                                                 attn_repeator[19][0]             \n",
      "                                                                 lstm_enc[0][0]                   \n",
      "__________________________________________________________________________________________________\n",
      "attn_weights_computer (Dense)   (None, 20, 1)        513         attn_concatenator[0][0]          \n",
      "                                                                 attn_concatenator[1][0]          \n",
      "                                                                 attn_concatenator[2][0]          \n",
      "                                                                 attn_concatenator[3][0]          \n",
      "                                                                 attn_concatenator[4][0]          \n",
      "                                                                 attn_concatenator[5][0]          \n",
      "                                                                 attn_concatenator[6][0]          \n",
      "                                                                 attn_concatenator[7][0]          \n",
      "                                                                 attn_concatenator[8][0]          \n",
      "                                                                 attn_concatenator[9][0]          \n",
      "                                                                 attn_concatenator[10][0]         \n",
      "                                                                 attn_concatenator[11][0]         \n",
      "                                                                 attn_concatenator[12][0]         \n",
      "                                                                 attn_concatenator[13][0]         \n",
      "                                                                 attn_concatenator[14][0]         \n",
      "                                                                 attn_concatenator[15][0]         \n",
      "                                                                 attn_concatenator[16][0]         \n",
      "                                                                 attn_concatenator[17][0]         \n",
      "                                                                 attn_concatenator[18][0]         \n",
      "                                                                 attn_concatenator[19][0]         \n",
      "__________________________________________________________________________________________________\n",
      "attn_weights_normalizer (Activa (None, 20, 1)        0           attn_weights_computer[0][0]      \n",
      "                                                                 attn_weights_computer[1][0]      \n",
      "                                                                 attn_weights_computer[2][0]      \n",
      "                                                                 attn_weights_computer[3][0]      \n",
      "                                                                 attn_weights_computer[4][0]      \n",
      "                                                                 attn_weights_computer[5][0]      \n",
      "                                                                 attn_weights_computer[6][0]      \n",
      "                                                                 attn_weights_computer[7][0]      \n",
      "                                                                 attn_weights_computer[8][0]      \n",
      "                                                                 attn_weights_computer[9][0]      \n",
      "                                                                 attn_weights_computer[10][0]     \n",
      "                                                                 attn_weights_computer[11][0]     \n",
      "                                                                 attn_weights_computer[12][0]     \n",
      "                                                                 attn_weights_computer[13][0]     \n",
      "                                                                 attn_weights_computer[14][0]     \n",
      "                                                                 attn_weights_computer[15][0]     \n",
      "                                                                 attn_weights_computer[16][0]     \n",
      "                                                                 attn_weights_computer[17][0]     \n",
      "                                                                 attn_weights_computer[18][0]     \n",
      "                                                                 attn_weights_computer[19][0]     \n",
      "__________________________________________________________________________________________________\n",
      "attn_context_computer (Dot)     (None, 1, 256)       0           attn_weights_normalizer[0][0]    \n",
      "                                                                 lstm_enc[0][0]                   \n",
      "                                                                 attn_weights_normalizer[1][0]    \n",
      "                                                                 lstm_enc[0][0]                   \n",
      "                                                                 attn_weights_normalizer[2][0]    \n",
      "                                                                 lstm_enc[0][0]                   \n",
      "                                                                 attn_weights_normalizer[3][0]    \n",
      "                                                                 lstm_enc[0][0]                   \n",
      "                                                                 attn_weights_normalizer[4][0]    \n",
      "                                                                 lstm_enc[0][0]                   \n",
      "                                                                 attn_weights_normalizer[5][0]    \n",
      "                                                                 lstm_enc[0][0]                   \n",
      "                                                                 attn_weights_normalizer[6][0]    \n",
      "                                                                 lstm_enc[0][0]                   \n",
      "                                                                 attn_weights_normalizer[7][0]    \n",
      "                                                                 lstm_enc[0][0]                   \n",
      "                                                                 attn_weights_normalizer[8][0]    \n",
      "                                                                 lstm_enc[0][0]                   \n",
      "                                                                 attn_weights_normalizer[9][0]    \n",
      "                                                                 lstm_enc[0][0]                   \n",
      "                                                                 attn_weights_normalizer[10][0]   \n",
      "                                                                 lstm_enc[0][0]                   \n",
      "                                                                 attn_weights_normalizer[11][0]   \n",
      "                                                                 lstm_enc[0][0]                   \n",
      "                                                                 attn_weights_normalizer[12][0]   \n",
      "                                                                 lstm_enc[0][0]                   \n",
      "                                                                 attn_weights_normalizer[13][0]   \n",
      "                                                                 lstm_enc[0][0]                   \n",
      "                                                                 attn_weights_normalizer[14][0]   \n",
      "                                                                 lstm_enc[0][0]                   \n",
      "                                                                 attn_weights_normalizer[15][0]   \n",
      "                                                                 lstm_enc[0][0]                   \n",
      "                                                                 attn_weights_normalizer[16][0]   \n",
      "                                                                 lstm_enc[0][0]                   \n",
      "                                                                 attn_weights_normalizer[17][0]   \n",
      "                                                                 lstm_enc[0][0]                   \n",
      "                                                                 attn_weights_normalizer[18][0]   \n",
      "                                                                 lstm_enc[0][0]                   \n",
      "                                                                 attn_weights_normalizer[19][0]   \n",
      "                                                                 lstm_enc[0][0]                   \n",
      "__________________________________________________________________________________________________\n",
      "context_input_concatenator (Con (None, 1, 512)       0           attn_context_computer[0][0]      \n",
      "                                                                 y_embed_layer[0][0]              \n",
      "                                                                 attn_context_computer[1][0]      \n",
      "                                                                 y_embed_layer[1][0]              \n",
      "                                                                 attn_context_computer[2][0]      \n",
      "                                                                 y_embed_layer[2][0]              \n",
      "                                                                 attn_context_computer[3][0]      \n",
      "                                                                 y_embed_layer[3][0]              \n",
      "                                                                 attn_context_computer[4][0]      \n",
      "                                                                 y_embed_layer[4][0]              \n",
      "                                                                 attn_context_computer[5][0]      \n",
      "                                                                 y_embed_layer[5][0]              \n",
      "                                                                 attn_context_computer[6][0]      \n",
      "                                                                 y_embed_layer[6][0]              \n",
      "                                                                 attn_context_computer[7][0]      \n",
      "                                                                 y_embed_layer[7][0]              \n",
      "                                                                 attn_context_computer[8][0]      \n",
      "                                                                 y_embed_layer[8][0]              \n",
      "                                                                 attn_context_computer[9][0]      \n",
      "                                                                 y_embed_layer[9][0]              \n",
      "                                                                 attn_context_computer[10][0]     \n",
      "                                                                 y_embed_layer[10][0]             \n",
      "                                                                 attn_context_computer[11][0]     \n",
      "                                                                 y_embed_layer[11][0]             \n",
      "                                                                 attn_context_computer[12][0]     \n",
      "                                                                 y_embed_layer[12][0]             \n",
      "                                                                 attn_context_computer[13][0]     \n",
      "                                                                 y_embed_layer[13][0]             \n",
      "                                                                 attn_context_computer[14][0]     \n",
      "                                                                 y_embed_layer[14][0]             \n",
      "                                                                 attn_context_computer[15][0]     \n",
      "                                                                 y_embed_layer[15][0]             \n",
      "                                                                 attn_context_computer[16][0]     \n",
      "                                                                 y_embed_layer[16][0]             \n",
      "                                                                 attn_context_computer[17][0]     \n",
      "                                                                 y_embed_layer[17][0]             \n",
      "                                                                 attn_context_computer[18][0]     \n",
      "                                                                 y_embed_layer[18][0]             \n",
      "                                                                 attn_context_computer[19][0]     \n",
      "                                                                 y_embed_layer[19][0]             \n",
      "__________________________________________________________________________________________________\n",
      "densor_dec_0 (Dense)            (None, 1, 256)       131328      context_input_concatenator[0][0] \n",
      "                                                                 context_input_concatenator[1][0] \n",
      "                                                                 context_input_concatenator[2][0] \n",
      "                                                                 context_input_concatenator[3][0] \n",
      "                                                                 context_input_concatenator[4][0] \n",
      "                                                                 context_input_concatenator[5][0] \n",
      "                                                                 context_input_concatenator[6][0] \n",
      "                                                                 context_input_concatenator[7][0] \n",
      "                                                                 context_input_concatenator[8][0] \n",
      "                                                                 context_input_concatenator[9][0] \n",
      "                                                                 context_input_concatenator[10][0]\n",
      "                                                                 context_input_concatenator[11][0]\n",
      "                                                                 context_input_concatenator[12][0]\n",
      "                                                                 context_input_concatenator[13][0]\n",
      "                                                                 context_input_concatenator[14][0]\n",
      "                                                                 context_input_concatenator[15][0]\n",
      "                                                                 context_input_concatenator[16][0]\n",
      "                                                                 context_input_concatenator[17][0]\n",
      "                                                                 context_input_concatenator[18][0]\n",
      "                                                                 context_input_concatenator[19][0]\n",
      "__________________________________________________________________________________________________\n",
      "lstm_dec_w_attn (LSTM)          [(None, 256), (None, 525312      densor_dec_0[0][0]               \n",
      "                                                                 lstm_enc[0][1]                   \n",
      "                                                                 lstm_enc[0][2]                   \n",
      "                                                                 densor_dec_0[1][0]               \n",
      "                                                                 lstm_dec_w_attn[0][1]            \n",
      "                                                                 lstm_dec_w_attn[0][2]            \n",
      "                                                                 densor_dec_0[2][0]               \n",
      "                                                                 lstm_dec_w_attn[1][1]            \n",
      "                                                                 lstm_dec_w_attn[1][2]            \n",
      "                                                                 densor_dec_0[3][0]               \n",
      "                                                                 lstm_dec_w_attn[2][1]            \n",
      "                                                                 lstm_dec_w_attn[2][2]            \n",
      "                                                                 densor_dec_0[4][0]               \n",
      "                                                                 lstm_dec_w_attn[3][1]            \n",
      "                                                                 lstm_dec_w_attn[3][2]            \n",
      "                                                                 densor_dec_0[5][0]               \n",
      "                                                                 lstm_dec_w_attn[4][1]            \n",
      "                                                                 lstm_dec_w_attn[4][2]            \n",
      "                                                                 densor_dec_0[6][0]               \n",
      "                                                                 lstm_dec_w_attn[5][1]            \n",
      "                                                                 lstm_dec_w_attn[5][2]            \n",
      "                                                                 densor_dec_0[7][0]               \n",
      "                                                                 lstm_dec_w_attn[6][1]            \n",
      "                                                                 lstm_dec_w_attn[6][2]            \n",
      "                                                                 densor_dec_0[8][0]               \n",
      "                                                                 lstm_dec_w_attn[7][1]            \n",
      "                                                                 lstm_dec_w_attn[7][2]            \n",
      "                                                                 densor_dec_0[9][0]               \n",
      "                                                                 lstm_dec_w_attn[8][1]            \n",
      "                                                                 lstm_dec_w_attn[8][2]            \n",
      "                                                                 densor_dec_0[10][0]              \n",
      "                                                                 lstm_dec_w_attn[9][1]            \n",
      "                                                                 lstm_dec_w_attn[9][2]            \n",
      "                                                                 densor_dec_0[11][0]              \n",
      "                                                                 lstm_dec_w_attn[10][1]           \n",
      "                                                                 lstm_dec_w_attn[10][2]           \n",
      "                                                                 densor_dec_0[12][0]              \n",
      "                                                                 lstm_dec_w_attn[11][1]           \n",
      "                                                                 lstm_dec_w_attn[11][2]           \n",
      "                                                                 densor_dec_0[13][0]              \n",
      "                                                                 lstm_dec_w_attn[12][1]           \n",
      "                                                                 lstm_dec_w_attn[12][2]           \n",
      "                                                                 densor_dec_0[14][0]              \n",
      "                                                                 lstm_dec_w_attn[13][1]           \n",
      "                                                                 lstm_dec_w_attn[13][2]           \n",
      "                                                                 densor_dec_0[15][0]              \n",
      "                                                                 lstm_dec_w_attn[14][1]           \n",
      "                                                                 lstm_dec_w_attn[14][2]           \n",
      "                                                                 densor_dec_0[16][0]              \n",
      "                                                                 lstm_dec_w_attn[15][1]           \n",
      "                                                                 lstm_dec_w_attn[15][2]           \n",
      "                                                                 densor_dec_0[17][0]              \n",
      "                                                                 lstm_dec_w_attn[16][1]           \n",
      "                                                                 lstm_dec_w_attn[16][2]           \n",
      "                                                                 densor_dec_0[18][0]              \n",
      "                                                                 lstm_dec_w_attn[17][1]           \n",
      "                                                                 lstm_dec_w_attn[17][2]           \n",
      "                                                                 densor_dec_0[19][0]              \n",
      "                                                                 lstm_dec_w_attn[18][1]           \n",
      "                                                                 lstm_dec_w_attn[18][2]           \n",
      "__________________________________________________________________________________________________\n",
      "densor_dec_1 (Dense)            (None, 23953)        6155921     lstm_dec_w_attn[0][0]            \n",
      "                                                                 lstm_dec_w_attn[1][0]            \n",
      "                                                                 lstm_dec_w_attn[2][0]            \n",
      "                                                                 lstm_dec_w_attn[3][0]            \n",
      "                                                                 lstm_dec_w_attn[4][0]            \n",
      "                                                                 lstm_dec_w_attn[5][0]            \n",
      "                                                                 lstm_dec_w_attn[6][0]            \n",
      "                                                                 lstm_dec_w_attn[7][0]            \n",
      "                                                                 lstm_dec_w_attn[8][0]            \n",
      "                                                                 lstm_dec_w_attn[9][0]            \n",
      "                                                                 lstm_dec_w_attn[10][0]           \n",
      "                                                                 lstm_dec_w_attn[11][0]           \n",
      "                                                                 lstm_dec_w_attn[12][0]           \n",
      "                                                                 lstm_dec_w_attn[13][0]           \n",
      "                                                                 lstm_dec_w_attn[14][0]           \n",
      "                                                                 lstm_dec_w_attn[15][0]           \n",
      "                                                                 lstm_dec_w_attn[16][0]           \n",
      "                                                                 lstm_dec_w_attn[17][0]           \n",
      "                                                                 lstm_dec_w_attn[18][0]           \n",
      "                                                                 lstm_dec_w_attn[19][0]           \n",
      "==================================================================================================\n",
      "Total params: 16,705,426\n",
      "Trainable params: 16,705,426\n",
      "Non-trainable params: 0\n",
      "__________________________________________________________________________________________________\n"
     ]
    }
   ],
   "source": [
    "# Put together\n",
    "model_w_attn = Model(inputs=[X, in_dec_0, y], outputs=outs_dec)\n",
    "model_w_attn.summary()"
   ]
  },
  {
   "cell_type": "code",
   "execution_count": 56,
   "metadata": {
    "collapsed": true
   },
   "outputs": [],
   "source": [
    "model_w_attn.compile(optimizer='adam', loss='sparse_categorical_crossentropy', metrics=['sparse_categorical_accuracy'])"
   ]
  },
  {
   "cell_type": "markdown",
   "metadata": {},
   "source": [
    "# Train models"
   ]
  },
  {
   "cell_type": "markdown",
   "metadata": {},
   "source": [
    "## Model without attention"
   ]
  },
  {
   "cell_type": "code",
   "execution_count": 35,
   "metadata": {
    "collapsed": false
   },
   "outputs": [
    {
     "data": {
      "text/plain": [
       "((123460, 20), (30866, 20))"
      ]
     },
     "execution_count": 35,
     "metadata": {},
     "output_type": "execute_result"
    }
   ],
   "source": [
    "# Initialize decoder input\n",
    "in_dec_trn = np.hstack([np.array([y_stoi[GO]] * len(X_ix_trn)).reshape(-1, 1), y_ix_trn[:, :-1]])\n",
    "in_dec_val = np.hstack([np.array([y_stoi[GO]] * len(X_ix_val)).reshape(-1, 1), y_ix_val[:, :-1]])\n",
    "\n",
    "in_dec_trn.shape, in_dec_val.shape"
   ]
  },
  {
   "cell_type": "code",
   "execution_count": 36,
   "metadata": {
    "collapsed": false
   },
   "outputs": [
    {
     "data": {
      "text/plain": [
       "((123460, 20, 1), (30866, 20, 1))"
      ]
     },
     "execution_count": 36,
     "metadata": {},
     "output_type": "execute_result"
    }
   ],
   "source": [
    "# Reshape outputs in order to use `sparse_categorical_crossentropy`\n",
    "y_ix_trn_rs = y_ix_trn.reshape(y_ix_trn.shape[0], y_ix_trn.shape[1], 1)\n",
    "y_ix_val_rs = y_ix_val.reshape(y_ix_val.shape[0], y_ix_val.shape[1], 1)\n",
    "\n",
    "y_ix_trn_rs.shape, y_ix_val_rs.shape"
   ]
  },
  {
   "cell_type": "code",
   "execution_count": 37,
   "metadata": {
    "collapsed": true
   },
   "outputs": [],
   "source": [
    "# Add callbacks\n",
    "callbacks = []\n",
    "\n",
    "reduce_lr = ReduceLROnPlateau(monitor='val_loss', factor=0.1, patience=5, verbose=1)\n",
    "callbacks.append(reduce_lr)\n",
    "\n",
    "stopper = EarlyStopping(monitor='val_loss', patience=5, verbose=1)\n",
    "callbacks.append(stopper)\n",
    "\n",
    "checkpoint = ModelCheckpoint(filepath=os.path.join(model_path, 'translate-keras-wo_attn.h5'), monitor='val_loss', save_best_only=True, verbose=1)\n",
    "callbacks.append(checkpoint)"
   ]
  },
  {
   "cell_type": "code",
   "execution_count": null,
   "metadata": {
    "collapsed": false,
    "scrolled": true
   },
   "outputs": [],
   "source": [
    "# Train\n",
    "hist_wo_attn = model_wo_attn.fit(\n",
    "    x=[X_ix_trn, in_dec_trn],\n",
    "    y=y_ix_trn_rs,\n",
    "    batch_size=64,\n",
    "    epochs=20,\n",
    "    validation_data=([X_ix_val, in_dec_val], y_ix_val_rs),\n",
    "    callbacks=callbacks)"
   ]
  },
  {
   "cell_type": "code",
   "execution_count": 39,
   "metadata": {
    "collapsed": false
   },
   "outputs": [],
   "source": [
    "def plot_losses(model_hist):\n",
    "    loss = pd.DataFrame(zip(model_hist.history['loss'], model_hist.history['val_loss']), columns=['loss', 'val_loss'])\n",
    "    \n",
    "    # Find the epoch with the smallest loss\n",
    "    min_loss_ix = np.array(model_hist.history['val_loss']).argmin()\n",
    "\n",
    "    # Plot\n",
    "    ax = loss.plot()\n",
    "    ax.axvline(x=min_loss_ix, color='black', ls='--')\n",
    "\n",
    "    return loss"
   ]
  },
  {
   "cell_type": "code",
   "execution_count": 40,
   "metadata": {
    "collapsed": false
   },
   "outputs": [
    {
     "data": {
      "text/html": [
       "<div>\n",
       "<style scoped>\n",
       "    .dataframe tbody tr th:only-of-type {\n",
       "        vertical-align: middle;\n",
       "    }\n",
       "\n",
       "    .dataframe tbody tr th {\n",
       "        vertical-align: top;\n",
       "    }\n",
       "\n",
       "    .dataframe thead th {\n",
       "        text-align: right;\n",
       "    }\n",
       "</style>\n",
       "<table border=\"1\" class=\"dataframe\">\n",
       "  <thead>\n",
       "    <tr style=\"text-align: right;\">\n",
       "      <th></th>\n",
       "      <th>loss</th>\n",
       "      <th>val_loss</th>\n",
       "    </tr>\n",
       "  </thead>\n",
       "  <tbody>\n",
       "    <tr>\n",
       "      <th>0</th>\n",
       "      <td>2.060479</td>\n",
       "      <td>1.518045</td>\n",
       "    </tr>\n",
       "    <tr>\n",
       "      <th>1</th>\n",
       "      <td>1.278625</td>\n",
       "      <td>1.149528</td>\n",
       "    </tr>\n",
       "    <tr>\n",
       "      <th>2</th>\n",
       "      <td>0.960211</td>\n",
       "      <td>0.955534</td>\n",
       "    </tr>\n",
       "    <tr>\n",
       "      <th>3</th>\n",
       "      <td>0.750122</td>\n",
       "      <td>0.841058</td>\n",
       "    </tr>\n",
       "    <tr>\n",
       "      <th>4</th>\n",
       "      <td>0.601100</td>\n",
       "      <td>0.770340</td>\n",
       "    </tr>\n",
       "    <tr>\n",
       "      <th>5</th>\n",
       "      <td>0.492800</td>\n",
       "      <td>0.733297</td>\n",
       "    </tr>\n",
       "    <tr>\n",
       "      <th>6</th>\n",
       "      <td>0.412307</td>\n",
       "      <td>0.711273</td>\n",
       "    </tr>\n",
       "    <tr>\n",
       "      <th>7</th>\n",
       "      <td>0.351961</td>\n",
       "      <td>0.702395</td>\n",
       "    </tr>\n",
       "    <tr>\n",
       "      <th>8</th>\n",
       "      <td>0.305549</td>\n",
       "      <td>0.700130</td>\n",
       "    </tr>\n",
       "    <tr>\n",
       "      <th>9</th>\n",
       "      <td>0.269756</td>\n",
       "      <td>0.702282</td>\n",
       "    </tr>\n",
       "    <tr>\n",
       "      <th>10</th>\n",
       "      <td>0.240458</td>\n",
       "      <td>0.705487</td>\n",
       "    </tr>\n",
       "    <tr>\n",
       "      <th>11</th>\n",
       "      <td>0.216948</td>\n",
       "      <td>0.710393</td>\n",
       "    </tr>\n",
       "    <tr>\n",
       "      <th>12</th>\n",
       "      <td>0.196710</td>\n",
       "      <td>0.719385</td>\n",
       "    </tr>\n",
       "    <tr>\n",
       "      <th>13</th>\n",
       "      <td>0.180492</td>\n",
       "      <td>0.729475</td>\n",
       "    </tr>\n",
       "  </tbody>\n",
       "</table>\n",
       "</div>"
      ],
      "text/plain": [
       "        loss  val_loss\n",
       "0   2.060479  1.518045\n",
       "1   1.278625  1.149528\n",
       "2   0.960211  0.955534\n",
       "3   0.750122  0.841058\n",
       "4   0.601100  0.770340\n",
       "5   0.492800  0.733297\n",
       "6   0.412307  0.711273\n",
       "7   0.351961  0.702395\n",
       "8   0.305549  0.700130\n",
       "9   0.269756  0.702282\n",
       "10  0.240458  0.705487\n",
       "11  0.216948  0.710393\n",
       "12  0.196710  0.719385\n",
       "13  0.180492  0.729475"
      ]
     },
     "execution_count": 40,
     "metadata": {},
     "output_type": "execute_result"
    },
    {
     "data": {
      "image/png": "[encoded data removed]",
      "text/plain": [
       "<Figure size 432x288 with 1 Axes>"
      ]
     },
     "metadata": {
      "image/png": {
       "height": 250,
       "width": 380
      }
     },
     "output_type": "display_data"
    }
   ],
   "source": [
    "plot_losses(hist_wo_attn)"
   ]
  },
  {
   "cell_type": "markdown",
   "metadata": {},
   "source": [
    "## Model with attention"
   ]
  },
  {
   "cell_type": "code",
   "execution_count": 57,
   "metadata": {
    "collapsed": false
   },
   "outputs": [
    {
     "data": {
      "text/plain": [
       "((123460, 1), (30866, 1))"
      ]
     },
     "execution_count": 57,
     "metadata": {},
     "output_type": "execute_result"
    }
   ],
   "source": [
    "# Initialize decoder input (\"_go_\")\n",
    "in_dec_0_trn = np.array([y_stoi[GO]] * len(X_ix_trn)).reshape(-1, 1)\n",
    "in_dec_0_val = np.array([y_stoi[GO]] * len(X_ix_val)).reshape(-1, 1)\n",
    "\n",
    "in_dec_0_trn.shape, in_dec_0_val.shape"
   ]
  },
  {
   "cell_type": "code",
   "execution_count": 61,
   "metadata": {
    "collapsed": false
   },
   "outputs": [
    {
     "data": {
      "text/plain": [
       "((20, 123460, 1), (20, 30866, 1))"
      ]
     },
     "execution_count": 61,
     "metadata": {},
     "output_type": "execute_result"
    }
   ],
   "source": [
    "# Reshape outputs in order to use `sparse_categorical_crossentropy`\n",
    "y_ix_trn_rs = [y_ix_trn[:, i:i+1] for i in range(y_ix_trn.shape[1])]\n",
    "y_ix_val_rs = [y_ix_val[:, i:i+1] for i in range(y_ix_val.shape[1])]\n",
    "\n",
    "np.array(y_ix_trn_rs).shape, np.array(y_ix_val_rs).shape"
   ]
  },
  {
   "cell_type": "code",
   "execution_count": 62,
   "metadata": {
    "collapsed": true
   },
   "outputs": [],
   "source": [
    "# Add callbacks\n",
    "callbacks = []\n",
    "\n",
    "reduce_lr = ReduceLROnPlateau(monitor='val_loss', factor=0.1, patience=5, verbose=1)\n",
    "callbacks.append(reduce_lr)\n",
    "\n",
    "stopper = EarlyStopping(monitor='val_loss', patience=5, verbose=1)\n",
    "callbacks.append(stopper)\n",
    "\n",
    "checkpoint = ModelCheckpoint(filepath=os.path.join(model_path, 'translate-keras-w_attn.h5'), monitor='val_loss', save_best_only=True, verbose=1)\n",
    "callbacks.append(checkpoint)"
   ]
  },
  {
   "cell_type": "code",
   "execution_count": null,
   "metadata": {
    "collapsed": false
   },
   "outputs": [],
   "source": [
    "# Train\n",
    "hist_w_attn = model_w_attn.fit(\n",
    "    x=[X_ix_trn, in_dec_0_trn, y_ix_trn],\n",
    "    y=y_ix_trn_rs,\n",
    "    batch_size=64,\n",
    "    epochs=20,\n",
    "    validation_data=([X_ix_val, in_dec_0_val, y_ix_val], y_ix_val_rs),\n",
    "    callbacks=callbacks)"
   ]
  },
  {
   "cell_type": "code",
   "execution_count": 65,
   "metadata": {
    "collapsed": false
   },
   "outputs": [
    {
     "data": {
      "text/html": [
       "<div>\n",
       "<style scoped>\n",
       "    .dataframe tbody tr th:only-of-type {\n",
       "        vertical-align: middle;\n",
       "    }\n",
       "\n",
       "    .dataframe tbody tr th {\n",
       "        vertical-align: top;\n",
       "    }\n",
       "\n",
       "    .dataframe thead th {\n",
       "        text-align: right;\n",
       "    }\n",
       "</style>\n",
       "<table border=\"1\" class=\"dataframe\">\n",
       "  <thead>\n",
       "    <tr style=\"text-align: right;\">\n",
       "      <th></th>\n",
       "      <th>loss</th>\n",
       "      <th>val_loss</th>\n",
       "    </tr>\n",
       "  </thead>\n",
       "  <tbody>\n",
       "    <tr>\n",
       "      <th>0</th>\n",
       "      <td>42.564779</td>\n",
       "      <td>31.746300</td>\n",
       "    </tr>\n",
       "    <tr>\n",
       "      <th>1</th>\n",
       "      <td>27.670609</td>\n",
       "      <td>25.786471</td>\n",
       "    </tr>\n",
       "    <tr>\n",
       "      <th>2</th>\n",
       "      <td>22.338587</td>\n",
       "      <td>22.338957</td>\n",
       "    </tr>\n",
       "    <tr>\n",
       "      <th>3</th>\n",
       "      <td>18.479439</td>\n",
       "      <td>19.904866</td>\n",
       "    </tr>\n",
       "    <tr>\n",
       "      <th>4</th>\n",
       "      <td>15.406875</td>\n",
       "      <td>18.125841</td>\n",
       "    </tr>\n",
       "    <tr>\n",
       "      <th>5</th>\n",
       "      <td>12.954165</td>\n",
       "      <td>16.888505</td>\n",
       "    </tr>\n",
       "    <tr>\n",
       "      <th>6</th>\n",
       "      <td>11.022862</td>\n",
       "      <td>16.079986</td>\n",
       "    </tr>\n",
       "    <tr>\n",
       "      <th>7</th>\n",
       "      <td>9.514409</td>\n",
       "      <td>15.602190</td>\n",
       "    </tr>\n",
       "    <tr>\n",
       "      <th>8</th>\n",
       "      <td>8.336455</td>\n",
       "      <td>15.241515</td>\n",
       "    </tr>\n",
       "    <tr>\n",
       "      <th>9</th>\n",
       "      <td>7.394344</td>\n",
       "      <td>15.103382</td>\n",
       "    </tr>\n",
       "    <tr>\n",
       "      <th>10</th>\n",
       "      <td>6.630119</td>\n",
       "      <td>14.967094</td>\n",
       "    </tr>\n",
       "    <tr>\n",
       "      <th>11</th>\n",
       "      <td>6.009621</td>\n",
       "      <td>14.927275</td>\n",
       "    </tr>\n",
       "    <tr>\n",
       "      <th>12</th>\n",
       "      <td>5.476053</td>\n",
       "      <td>14.896868</td>\n",
       "    </tr>\n",
       "    <tr>\n",
       "      <th>13</th>\n",
       "      <td>5.037438</td>\n",
       "      <td>14.998092</td>\n",
       "    </tr>\n",
       "    <tr>\n",
       "      <th>14</th>\n",
       "      <td>4.659284</td>\n",
       "      <td>15.069917</td>\n",
       "    </tr>\n",
       "    <tr>\n",
       "      <th>15</th>\n",
       "      <td>4.333614</td>\n",
       "      <td>15.123920</td>\n",
       "    </tr>\n",
       "    <tr>\n",
       "      <th>16</th>\n",
       "      <td>4.043062</td>\n",
       "      <td>15.264854</td>\n",
       "    </tr>\n",
       "    <tr>\n",
       "      <th>17</th>\n",
       "      <td>3.804144</td>\n",
       "      <td>15.380042</td>\n",
       "    </tr>\n",
       "  </tbody>\n",
       "</table>\n",
       "</div>"
      ],
      "text/plain": [
       "         loss   val_loss\n",
       "0   42.564779  31.746300\n",
       "1   27.670609  25.786471\n",
       "2   22.338587  22.338957\n",
       "3   18.479439  19.904866\n",
       "4   15.406875  18.125841\n",
       "5   12.954165  16.888505\n",
       "6   11.022862  16.079986\n",
       "7    9.514409  15.602190\n",
       "8    8.336455  15.241515\n",
       "9    7.394344  15.103382\n",
       "10   6.630119  14.967094\n",
       "11   6.009621  14.927275\n",
       "12   5.476053  14.896868\n",
       "13   5.037438  14.998092\n",
       "14   4.659284  15.069917\n",
       "15   4.333614  15.123920\n",
       "16   4.043062  15.264854\n",
       "17   3.804144  15.380042"
      ]
     },
     "execution_count": 65,
     "metadata": {},
     "output_type": "execute_result"
    },
    {
     "data": {
      "image/png": "[encoded data removed]",
      "text/plain": [
       "<Figure size 432x288 with 1 Axes>"
      ]
     },
     "metadata": {
      "image/png": {
       "height": 250,
       "width": 373
      }
     },
     "output_type": "display_data"
    }
   ],
   "source": [
    "plot_losses(hist_w_attn)"
   ]
  },
  {
   "cell_type": "markdown",
   "metadata": {},
   "source": [
    "# Inference"
   ]
  },
  {
   "cell_type": "markdown",
   "metadata": {},
   "source": [
    "## Model without attention"
   ]
  },
  {
   "cell_type": "code",
   "execution_count": 41,
   "metadata": {
    "collapsed": true
   },
   "outputs": [],
   "source": [
    "# Reload the last checkpoint\n",
    "model_wo_attn = load_model(os.path.join(model_path, 'translate-keras-wo_attn.h5'))"
   ]
  },
  {
   "cell_type": "code",
   "execution_count": 42,
   "metadata": {
    "collapsed": false
   },
   "outputs": [
    {
     "name": "stdout",
     "output_type": "stream",
     "text": [
      "_________________________________________________________________\n",
      "Layer (type)                 Output Shape              Param #   \n",
      "=================================================================\n",
      "X (InputLayer)               (None, 20)                0         \n",
      "_________________________________________________________________\n",
      "X_embed_layer (Embedding)    (None, 20, 256)           3235072   \n",
      "_________________________________________________________________\n",
      "lstm_enc (LSTM)              [(None, 20, 256), (None,  525312    \n",
      "=================================================================\n",
      "Total params: 3,760,384\n",
      "Trainable params: 3,760,384\n",
      "Non-trainable params: 0\n",
      "_________________________________________________________________\n"
     ]
    }
   ],
   "source": [
    "# Extract encoder\n",
    "X = Input(shape=(max_len, ), name='X')\n",
    "X_embed_layer = model_wo_attn.get_layer('X_embed_layer')\n",
    "lstm_enc = model_wo_attn.get_layer('lstm_enc')\n",
    "\n",
    "encoder = Model(X, encode(X))\n",
    "encoder.summary()"
   ]
  },
  {
   "cell_type": "code",
   "execution_count": 43,
   "metadata": {
    "collapsed": false
   },
   "outputs": [
    {
     "name": "stdout",
     "output_type": "stream",
     "text": [
      "__________________________________________________________________________________________________\n",
      "Layer (type)                    Output Shape         Param #     Connected to                     \n",
      "==================================================================================================\n",
      "in_dec (InputLayer)             (None, 1)            0                                            \n",
      "__________________________________________________________________________________________________\n",
      "y_embed_layer (Embedding)       multiple             6131968     in_dec[0][0]                     \n",
      "__________________________________________________________________________________________________\n",
      "h_dec_prev (InputLayer)         (None, 256)          0                                            \n",
      "__________________________________________________________________________________________________\n",
      "c_dec_prev (InputLayer)         (None, 256)          0                                            \n",
      "__________________________________________________________________________________________________\n",
      "lstm_dec_wo_attn (LSTM)         multiple             525312      y_embed_layer[1][0]              \n",
      "                                                                 h_dec_prev[0][0]                 \n",
      "                                                                 c_dec_prev[0][0]                 \n",
      "__________________________________________________________________________________________________\n",
      "densor_dec (Dense)              multiple             6155921     lstm_dec_wo_attn[1][0]           \n",
      "==================================================================================================\n",
      "Total params: 12,813,201\n",
      "Trainable params: 12,813,201\n",
      "Non-trainable params: 0\n",
      "__________________________________________________________________________________________________\n"
     ]
    }
   ],
   "source": [
    "# Extract decoder\n",
    "in_dec = Input(shape=(1, ), name='in_dec')\n",
    "h_dec_prev = Input(shape=(hidden_size_dec, ), name='h_dec_prev')\n",
    "c_dec_prev = Input(shape=(hidden_size_dec, ), name='c_dec_prev')\n",
    "y_embed_layer = model_wo_attn.get_layer('y_embed_layer')\n",
    "lstm_dec_wo_attn = model_wo_attn.get_layer('lstm_dec_wo_attn')\n",
    "densor_dec = model_wo_attn.get_layer('densor_dec')\n",
    "\n",
    "decoder = Model([in_dec, h_dec_prev, c_dec_prev], decode_wo_attn(in_dec, h_dec_prev, c_dec_prev))\n",
    "decoder.summary()"
   ]
  },
  {
   "cell_type": "code",
   "execution_count": 46,
   "metadata": {
    "collapsed": false
   },
   "outputs": [],
   "source": [
    "def decode_sequence(input_seqs, encoder, decoder, toks_stoi, toks_itos, max_len, w_attn=False, return_attn_weights=False):\n",
    "    # Generate encoder output\n",
    "    a_enc_pred, h_enc_pred, c_enc_pred = encoder.predict(input_seqs)\n",
    "\n",
    "    # Generate decoder output, one timestep at a time\n",
    "    outs_dec_pred = []\n",
    "    attn_weights = []\n",
    "    in_dec = np.array([toks_stoi[GO]] * len(input_seqs)).reshape(-1, 1)\n",
    "    h_dec_pred = h_enc_pred\n",
    "    c_dec_pred = c_enc_pred\n",
    "\n",
    "    for i in range(max_len):\n",
    "        if not w_attn:\n",
    "            out_dec_pred, h_dec_pred, c_dec_pred = decoder.predict([in_dec, h_dec_pred, c_dec_pred])\n",
    "        else:\n",
    "            out_dec_pred, h_dec_pred, c_dec_pred, attn_weight = decoder.predict([in_dec, a_enc_pred, h_dec_pred, c_dec_pred])\n",
    "\n",
    "        # Derive the predicted token\n",
    "        # Need to first reduce the dimension of `out_dec_pred` from 3D to 2D\n",
    "        # (It's 3D because there is a `timestep` of 1 in the middle)\n",
    "        out_dec_pred = out_dec_pred.reshape(out_dec_pred.shape[0], out_dec_pred.shape[-1])\n",
    "        out_dec_pred = out_dec_pred.argmax(axis=-1)\n",
    "        outs_dec_pred.append(out_dec_pred)\n",
    "\n",
    "        # Assign the predicted token as the next decoder input\n",
    "        in_dec = out_dec_pred\n",
    "        \n",
    "        # Save attention weights\n",
    "        if w_attn:\n",
    "            attn_weights.append(attn_weight.reshape(attn_weight.shape[0], attn_weight.shape[1]))\n",
    "\n",
    "    # Convert output index into tokens\n",
    "    outs_dec_pred = np.array(toks_itos)[np.array(outs_dec_pred).transpose()]\n",
    "    \n",
    "    # Clean up and output\n",
    "    outs_dec_pred = [detok(toks) for toks in outs_dec_pred]\n",
    "    if not return_attn_weights:\n",
    "        return outs_dec_pred\n",
    "    return outs_dec_pred, attn_weights\n",
    "\n",
    "# Convert to strings and clean up\n",
    "# detokenizer = Detok()\n",
    "\n",
    "def detok(toks):\n",
    "    # Cut before the first padding (if any)\n",
    "    toks = list(toks)\n",
    "    if PAD in toks:\n",
    "        first_pad = toks.index(PAD)\n",
    "        toks = toks[:first_pad]\n",
    "    \n",
    "    # return detokenizer.detokenize(toks)\n",
    "    return ' '.join(toks)"
   ]
  },
  {
   "cell_type": "code",
   "execution_count": 47,
   "metadata": {
    "collapsed": false
   },
   "outputs": [
    {
     "data": {
      "text/plain": [
       "30866"
      ]
     },
     "execution_count": 47,
     "metadata": {},
     "output_type": "execute_result"
    }
   ],
   "source": [
    "# Test inference with validation data\n",
    "y_val_pred_wo_attn = decode_sequence(X_ix_val, encoder, decoder, y_stoi, y_itos, max_len)\n",
    "len(y_val_pred_wo_attn)"
   ]
  },
  {
   "cell_type": "code",
   "execution_count": 48,
   "metadata": {
    "collapsed": false
   },
   "outputs": [
    {
     "name": "stdout",
     "output_type": "stream",
     "text": [
      "0\n",
      "Input:\t\ttom said my plan would n't work .\n",
      "Predicted:\ttom a dit que mon plan n'était pas crédible .\n",
      "True:\t\ttom a dit que mon plan ne fonctionnera pas .\n",
      "1\n",
      "Input:\t\ta watered down compromise resolution is better than none at all .\n",
      "Predicted:\tun navire qui a fait beaucoup de fautes ne plus en détail .\n",
      "True:\t\tune résolution sur un compromis restreint est préférable à rien du tout .\n",
      "2\n",
      "Input:\t\tcould i get one more beer , please ?\n",
      "Predicted:\tpourrais - je avoir une bière , s'il te plaît ?\n",
      "True:\t\tpourrais - je avoir une bière supplémentaire , je vous prie ?\n",
      "3\n",
      "Input:\t\ti want to ask you one simple question .\n",
      "Predicted:\tje veux vous demander une autre question .\n",
      "True:\t\tje veux te poser une simple question .\n",
      "4\n",
      "Input:\t\ti ca n't stand to see animals be teased .\n",
      "Predicted:\tje ne peux pas supporter les voir en forme que les femmes .\n",
      "True:\t\tje ne supporte pas de voir des animaux être taquinés .\n"
     ]
    }
   ],
   "source": [
    "# Print out a few results\n",
    "for i in range(5):\n",
    "    print(i)\n",
    "    print('Input:\\t\\t' + detok(X_val[i]))\n",
    "    print('Predicted:\\t' + y_val_pred_wo_attn[i])\n",
    "    print('True:\\t\\t' + detok(y_val[i]))"
   ]
  },
  {
   "cell_type": "markdown",
   "metadata": {},
   "source": [
    "## Model with attention"
   ]
  },
  {
   "cell_type": "code",
   "execution_count": 67,
   "metadata": {
    "collapsed": false
   },
   "outputs": [],
   "source": [
    "# Reload the last checkpoint\n",
    "model_w_attn = load_model(os.path.join(model_path, 'translate-keras-w_attn.h5'), custom_objects={'softmax_axis_1': softmax_axis_1, 'i': 0})"
   ]
  },
  {
   "cell_type": "code",
   "execution_count": 68,
   "metadata": {
    "collapsed": false
   },
   "outputs": [
    {
     "name": "stdout",
     "output_type": "stream",
     "text": [
      "_________________________________________________________________\n",
      "Layer (type)                 Output Shape              Param #   \n",
      "=================================================================\n",
      "X (InputLayer)               (None, 20)                0         \n",
      "_________________________________________________________________\n",
      "X_embed_layer (Embedding)    (None, 20, 256)           3235072   \n",
      "_________________________________________________________________\n",
      "lstm_enc (LSTM)              [(None, 20, 256), (None,  525312    \n",
      "=================================================================\n",
      "Total params: 3,760,384\n",
      "Trainable params: 3,760,384\n",
      "Non-trainable params: 0\n",
      "_________________________________________________________________\n"
     ]
    }
   ],
   "source": [
    "# Extract encoder\n",
    "X = Input(shape=(max_len, ), name='X')\n",
    "X_embed_layer = model_w_attn.get_layer('X_embed_layer')\n",
    "lstm_enc = model_w_attn.get_layer('lstm_enc')\n",
    "\n",
    "encoder = Model(X, encode(X))\n",
    "encoder.summary()"
   ]
  },
  {
   "cell_type": "code",
   "execution_count": 70,
   "metadata": {
    "collapsed": false
   },
   "outputs": [
    {
     "name": "stdout",
     "output_type": "stream",
     "text": [
      "__________________________________________________________________________________________________\n",
      "Layer (type)                    Output Shape         Param #     Connected to                     \n",
      "==================================================================================================\n",
      "in_dec (InputLayer)             (None, 1)            0                                            \n",
      "__________________________________________________________________________________________________\n",
      "y_embed_layer (Embedding)       (None, 1, 256)       6131968     in_dec[0][0]                     \n",
      "__________________________________________________________________________________________________\n",
      "in_dec_embed_flattener (Flatten (None, 256)          0           y_embed_layer[20][0]             \n",
      "__________________________________________________________________________________________________\n",
      "attn_repeator (RepeatVector)    (None, 20, 256)      0           in_dec_embed_flattener[20][0]    \n",
      "__________________________________________________________________________________________________\n",
      "a_enc (InputLayer)              (None, 20, 256)      0                                            \n",
      "__________________________________________________________________________________________________\n",
      "attn_concatenator (Concatenate) (None, 20, 512)      0           attn_repeator[20][0]             \n",
      "                                                                 a_enc[0][0]                      \n",
      "__________________________________________________________________________________________________\n",
      "attn_weights_computer (Dense)   (None, 20, 1)        513         attn_concatenator[20][0]         \n",
      "__________________________________________________________________________________________________\n",
      "attn_weights_normalizer (Activa (None, 20, 1)        0           attn_weights_computer[20][0]     \n",
      "__________________________________________________________________________________________________\n",
      "attn_context_computer (Dot)     (None, 1, 256)       0           attn_weights_normalizer[20][0]   \n",
      "                                                                 a_enc[0][0]                      \n",
      "__________________________________________________________________________________________________\n",
      "context_input_concatenator (Con (None, 1, 512)       0           attn_context_computer[20][0]     \n",
      "                                                                 y_embed_layer[20][0]             \n",
      "__________________________________________________________________________________________________\n",
      "densor_dec_0 (Dense)            (None, 1, 256)       131328      context_input_concatenator[20][0]\n",
      "__________________________________________________________________________________________________\n",
      "h_dec_prev (InputLayer)         (None, 256)          0                                            \n",
      "__________________________________________________________________________________________________\n",
      "c_dec_prev (InputLayer)         (None, 256)          0                                            \n",
      "__________________________________________________________________________________________________\n",
      "lstm_dec_w_attn (LSTM)          [(None, 256), (None, 525312      densor_dec_0[20][0]              \n",
      "                                                                 h_dec_prev[0][0]                 \n",
      "                                                                 c_dec_prev[0][0]                 \n",
      "__________________________________________________________________________________________________\n",
      "densor_dec_1 (Dense)            (None, 23953)        6155921     lstm_dec_w_attn[20][0]           \n",
      "==================================================================================================\n",
      "Total params: 12,945,042\n",
      "Trainable params: 12,945,042\n",
      "Non-trainable params: 0\n",
      "__________________________________________________________________________________________________\n"
     ]
    }
   ],
   "source": [
    "# Extract decoder\n",
    "in_dec = Input(shape=(1, ), name='in_dec')\n",
    "a_enc = Input(shape=(max_len, hidden_size_enc), name='a_enc')\n",
    "h_dec_prev = Input(shape=(hidden_size_dec, ), name='h_dec_prev')\n",
    "c_dec_prev = Input(shape=(hidden_size_dec, ), name='c_dec_prev')\n",
    "\n",
    "y_embed_layer = model_w_attn.get_layer('y_embed_layer')\n",
    "in_dec_embed_flattener = model_w_attn.get_layer('in_dec_embed_flattener')\n",
    "attn_repeator = model_w_attn.get_layer('attn_repeator')\n",
    "attn_concatenator = model_w_attn.get_layer('attn_concatenator')\n",
    "attn_weights_computer = model_w_attn.get_layer('attn_weights_computer')\n",
    "attn_weights_normalizer = model_w_attn.get_layer('attn_weights_normalizer')\n",
    "attn_context_computer = model_w_attn.get_layer('attn_context_computer')\n",
    "context_input_concatenator = model_w_attn.get_layer('context_input_concatenator')\n",
    "densor_dec_0 = model_w_attn.get_layer('densor_dec_0')\n",
    "lstm_dec_w_attn = model_w_attn.get_layer('lstm_dec_w_attn')\n",
    "densor_dec_1 = model_w_attn.get_layer('densor_dec_1')\n",
    "\n",
    "decoder = Model([in_dec, a_enc, h_dec_prev, c_dec_prev], decode_w_attn(in_dec, a_enc, h_dec_prev, c_dec_prev))\n",
    "decoder.summary()"
   ]
  },
  {
   "cell_type": "code",
   "execution_count": 71,
   "metadata": {
    "collapsed": false
   },
   "outputs": [
    {
     "data": {
      "text/plain": [
       "30866"
      ]
     },
     "execution_count": 71,
     "metadata": {},
     "output_type": "execute_result"
    }
   ],
   "source": [
    "# Test inference with validation data\n",
    "y_val_pred_w_attn, y_val_attn_weights = decode_sequence(X_ix_val, encoder, decoder, y_stoi, y_itos, max_len, w_attn=True, return_attn_weights=True)\n",
    "len(y_val_pred_w_attn)"
   ]
  },
  {
   "cell_type": "code",
   "execution_count": 72,
   "metadata": {
    "collapsed": false
   },
   "outputs": [
    {
     "name": "stdout",
     "output_type": "stream",
     "text": [
      "0\n",
      "Input:\t\ttom said my plan would n't work .\n",
      "Predicted:\ttom a dit que mon projet n'était pas prêt .\n",
      "True:\t\ttom a dit que mon plan ne fonctionnera pas .\n",
      "1\n",
      "Input:\t\ta watered down compromise resolution is better than none at all .\n",
      "Predicted:\tun certain qu'elle a encore des problèmes sans climatisation .\n",
      "True:\t\tune résolution sur un compromis restreint est préférable à rien du tout .\n",
      "2\n",
      "Input:\t\tcould i get one more beer , please ?\n",
      "Predicted:\tpourrais - je avoir une bière supplémentaire , s'il vous plaît ?\n",
      "True:\t\tpourrais - je avoir une bière supplémentaire , je vous prie ?\n",
      "3\n",
      "Input:\t\ti want to ask you one simple question .\n",
      "Predicted:\tje veux vous poser une question très simple .\n",
      "True:\t\tje veux te poser une simple question .\n",
      "4\n",
      "Input:\t\ti ca n't stand to see animals be teased .\n",
      "Predicted:\tje ne supporte pas d'être traité de vos talents .\n",
      "True:\t\tje ne supporte pas de voir des animaux être taquinés .\n"
     ]
    }
   ],
   "source": [
    "# Print out a few results\n",
    "for i in range(5):\n",
    "    print(i)\n",
    "    print('Input:\\t\\t' + detok(X_val[i]))\n",
    "    print('Predicted:\\t' + y_val_pred_w_attn[i])\n",
    "    print('True:\\t\\t' + detok(y_val[i]))"
   ]
  },
  {
   "cell_type": "markdown",
   "metadata": {
    "collapsed": true
   },
   "source": [
    "## Compute BLEU scores"
   ]
  },
  {
   "cell_type": "code",
   "execution_count": 49,
   "metadata": {
    "collapsed": false,
    "scrolled": true
   },
   "outputs": [],
   "source": [
    "# Compute corpus-level BLEU score\n",
    "def compute_corpus_bleu(references, candidates):\n",
    "    # BLEU-1\n",
    "    bleu_1 = corpus_bleu(references, candidates, weights=(1, 0, 0, 0))\n",
    "    \n",
    "    # BLEU-2\n",
    "    bleu_2 = corpus_bleu(references, candidates, weights=(0.5, 0.5, 0, 0))\n",
    "    \n",
    "    # BLEU-3\n",
    "    bleu_3 = corpus_bleu(references, candidates, weights=(0.33, 0.33, 0.33, 0))\n",
    "    \n",
    "    # BLEU-4\n",
    "    bleu_4 = corpus_bleu(references, candidates, weights=(0.25, 0.25, 0.25, 0.25))\n",
    "    \n",
    "    return bleu_1, bleu_2, bleu_3, bleu_4"
   ]
  },
  {
   "cell_type": "code",
   "execution_count": 50,
   "metadata": {
    "collapsed": false
   },
   "outputs": [
    {
     "data": {
      "text/plain": [
       "(0.8096384279217266, 0.723528741126314, 0.6599570189798332, 0.6084379064362584)"
      ]
     },
     "execution_count": 50,
     "metadata": {},
     "output_type": "execute_result"
    }
   ],
   "source": [
    "# Without attention\n",
    "compute_corpus_bleu([[detok(ref)] for ref in y_val], y_val_pred_wo_attn)"
   ]
  },
  {
   "cell_type": "code",
   "execution_count": 74,
   "metadata": {
    "collapsed": false
   },
   "outputs": [
    {
     "data": {
      "text/plain": [
       "(0.8027370540494299,\n",
       " 0.7149344505191387,\n",
       " 0.6508398311666369,\n",
       " 0.5993017398019028)"
      ]
     },
     "execution_count": 74,
     "metadata": {},
     "output_type": "execute_result"
    }
   ],
   "source": [
    "# With attention\n",
    "compute_corpus_bleu([[detok(ref)] for ref in y_val], y_val_pred_w_attn)"
   ]
  },
  {
   "cell_type": "markdown",
   "metadata": {},
   "source": [
    "## Visualize attention weights"
   ]
  },
  {
   "cell_type": "code",
   "execution_count": 120,
   "metadata": {
    "collapsed": false
   },
   "outputs": [
    {
     "data": {
      "text/plain": [
       "([u'security', u'was', u'increased', u'in', u'the', u'city', u'.'],\n",
       " [u\"c'est\",\n",
       "  u'la',\n",
       "  u's\\xe9curit\\xe9',\n",
       "  u'qui',\n",
       "  u'a',\n",
       "  u'\\xe9t\\xe9',\n",
       "  u'renforc\\xe9e',\n",
       "  u'dans',\n",
       "  u'la',\n",
       "  u'ville',\n",
       "  u'.'],\n",
       " u'la situation est pass\\xe9e en ville .')"
      ]
     },
     "execution_count": 120,
     "metadata": {},
     "output_type": "execute_result"
    }
   ],
   "source": [
    "i = 6\n",
    "X_val[i], y_val[i], y_val_pred_w_attn[i]"
   ]
  },
  {
   "cell_type": "code",
   "execution_count": 121,
   "metadata": {
    "collapsed": false
   },
   "outputs": [
    {
     "data": {
      "text/plain": [
       "<matplotlib.axes._subplots.AxesSubplot at 0x7fd1b23b4190>"
      ]
     },
     "execution_count": 121,
     "metadata": {},
     "output_type": "execute_result"
    },
    {
     "data": {
      "image/png": "[encoded data removed]",
      "text/plain": [
       "<Figure size 432x288 with 2 Axes>"
      ]
     },
     "metadata": {
      "image/png": {
       "height": 250,
       "width": 389
      }
     },
     "output_type": "display_data"
    }
   ],
   "source": [
    "attn_weights_df = pd.DataFrame(np.array([a[i] for a in y_val_attn_weights])[:len(y_val_pred_w_attn[i].split()), :len(X_val[i])], columns=X_val[i], index=y_val_pred_w_attn[i].split())\n",
    "sns.heatmap(attn_weights_df, cmap='bone')"
   ]
  },
  {
   "cell_type": "code",
   "execution_count": null,
   "metadata": {
    "collapsed": true
   },
   "outputs": [],
   "source": []
  }
 ],
 "metadata": {
  "kernelspec": {
   "display_name": "Python 2 (General DS)",
   "language": "python",
   "name": "python2"
  },
  "language_info": {
   "codemirror_mode": {
    "name": "ipython",
    "version": 2
   },
   "file_extension": ".py",
   "mimetype": "text/x-python",
   "name": "python",
   "nbconvert_exporter": "python",
   "pygments_lexer": "ipython2",
   "version": "2.7.9"
  }
 },
 "nbformat": 4,
 "nbformat_minor": 2
}
